{
 "cells": [
  {
   "cell_type": "markdown",
   "id": "aae46c90",
   "metadata": {},
   "source": [
    "# Librerias Necesarias"
   ]
  },
  {
   "cell_type": "code",
   "execution_count": 1,
   "id": "25a6f167",
   "metadata": {},
   "outputs": [],
   "source": [
    "import re\n",
    "import spacy\n",
    "import sklearn\n",
    "import numpy as np\n",
    "import pandas as pd\n",
    "import matplotlib.pyplot as plt\n",
    "\n",
    "from spacy.lang.es.stop_words import STOP_WORDS\n",
    "\n",
    "from sklearn import model_selection\n",
    "from sklearn.model_selection import train_test_split\n",
    "from sklearn.feature_extraction.text import TfidfVectorizer\n",
    "\n",
    "from sklearn.ensemble import RandomForestClassifier\n",
    "from sklearn.model_selection import GridSearchCV \n",
    "\n",
    "from sklearn import svm\n",
    "from sklearn.svm import SVC\n",
    "\n",
    "from sklearn.metrics import classification_report\n",
    "from sklearn.metrics import accuracy_score\n",
    "from sklearn.metrics import f1_score\n",
    "from sklearn.metrics import recall_score\n",
    "\n",
    "\n",
    "# Visualizacion\n",
    "import matplotlib.pyplot as plt\n",
    "import seaborn as sns; sns.set(font_scale=1.2)\n",
    "\n",
    "\n",
    "# Guardar Modelos\n",
    "import pickle"
   ]
  },
  {
   "cell_type": "markdown",
   "id": "7b42f0ab",
   "metadata": {},
   "source": [
    "# Dataset"
   ]
  },
  {
   "cell_type": "code",
   "execution_count": 6,
   "id": "a7534433",
   "metadata": {},
   "outputs": [],
   "source": [
    "# Cargar Datos\n",
    "dataset = pd.read_csv(r'../Datasets/Tweets_Sentimientos.csv')"
   ]
  },
  {
   "cell_type": "code",
   "execution_count": 7,
   "id": "391bcaf8",
   "metadata": {
    "scrolled": false
   },
   "outputs": [
    {
     "data": {
      "text/html": [
       "<div>\n",
       "<style scoped>\n",
       "    .dataframe tbody tr th:only-of-type {\n",
       "        vertical-align: middle;\n",
       "    }\n",
       "\n",
       "    .dataframe tbody tr th {\n",
       "        vertical-align: top;\n",
       "    }\n",
       "\n",
       "    .dataframe thead th {\n",
       "        text-align: right;\n",
       "    }\n",
       "</style>\n",
       "<table border=\"1\" class=\"dataframe\">\n",
       "  <thead>\n",
       "    <tr style=\"text-align: right;\">\n",
       "      <th></th>\n",
       "      <th>Tweet</th>\n",
       "      <th>Sentimiento</th>\n",
       "    </tr>\n",
       "  </thead>\n",
       "  <tbody>\n",
       "    <tr>\n",
       "      <th>0</th>\n",
       "      <td>colombia recibio dosis de astrazeneca1234 dona...</td>\n",
       "      <td>neutral</td>\n",
       "    </tr>\n",
       "    <tr>\n",
       "      <th>1</th>\n",
       "      <td>a proposito del año pnv terminamos con cero pe...</td>\n",
       "      <td>positive</td>\n",
       "    </tr>\n",
       "    <tr>\n",
       "      <th>2</th>\n",
       "      <td>queremos agradecer al gobierno canadiense y su...</td>\n",
       "      <td>neutral</td>\n",
       "    </tr>\n",
       "    <tr>\n",
       "      <th>3</th>\n",
       "      <td>aestahora colombia recibe dosis de vacunas de ...</td>\n",
       "      <td>neutral</td>\n",
       "    </tr>\n",
       "    <tr>\n",
       "      <th>4</th>\n",
       "      <td>hablando de por que las vacunas no se deben us...</td>\n",
       "      <td>negative</td>\n",
       "    </tr>\n",
       "    <tr>\n",
       "      <th>...</th>\n",
       "      <td>...</td>\n",
       "      <td>...</td>\n",
       "    </tr>\n",
       "    <tr>\n",
       "      <th>1655</th>\n",
       "      <td>mi oufit de hoy para ir a vacunarme creo que h...</td>\n",
       "      <td>positive</td>\n",
       "    </tr>\n",
       "    <tr>\n",
       "      <th>1656</th>\n",
       "      <td>en españa el proceso de vacunacion ya va por e...</td>\n",
       "      <td>negative</td>\n",
       "    </tr>\n",
       "    <tr>\n",
       "      <th>1657</th>\n",
       "      <td>pues porque apenas empezamos webon por gente c...</td>\n",
       "      <td>positive</td>\n",
       "    </tr>\n",
       "    <tr>\n",
       "      <th>1658</th>\n",
       "      <td>en el parque de los novios todos sin tapabocas...</td>\n",
       "      <td>negative</td>\n",
       "    </tr>\n",
       "    <tr>\n",
       "      <th>1659</th>\n",
       "      <td>las vacunas pfizer cumplen con su objetivo de ...</td>\n",
       "      <td>positive</td>\n",
       "    </tr>\n",
       "  </tbody>\n",
       "</table>\n",
       "<p>1660 rows × 2 columns</p>\n",
       "</div>"
      ],
      "text/plain": [
       "                                                  Tweet Sentimiento\n",
       "0     colombia recibio dosis de astrazeneca1234 dona...     neutral\n",
       "1     a proposito del año pnv terminamos con cero pe...    positive\n",
       "2     queremos agradecer al gobierno canadiense y su...     neutral\n",
       "3     aestahora colombia recibe dosis de vacunas de ...     neutral\n",
       "4     hablando de por que las vacunas no se deben us...    negative\n",
       "...                                                 ...         ...\n",
       "1655  mi oufit de hoy para ir a vacunarme creo que h...    positive\n",
       "1656  en españa el proceso de vacunacion ya va por e...    negative\n",
       "1657  pues porque apenas empezamos webon por gente c...    positive\n",
       "1658  en el parque de los novios todos sin tapabocas...    negative\n",
       "1659  las vacunas pfizer cumplen con su objetivo de ...    positive\n",
       "\n",
       "[1660 rows x 2 columns]"
      ]
     },
     "execution_count": 7,
     "metadata": {},
     "output_type": "execute_result"
    }
   ],
   "source": [
    "dataset"
   ]
  },
  {
   "cell_type": "markdown",
   "id": "9e8e889e",
   "metadata": {},
   "source": [
    "## Cantdad de sentimientos por categoria"
   ]
  },
  {
   "cell_type": "code",
   "execution_count": 8,
   "id": "7f644bfd",
   "metadata": {},
   "outputs": [
    {
     "data": {
      "text/plain": [
       "<AxesSubplot:xlabel='Sentimiento', ylabel='Tweet'>"
      ]
     },
     "execution_count": 8,
     "metadata": {},
     "output_type": "execute_result"
    },
    {
     "data": {
      "image/png": "[encoded data removed]",
      "text/plain": [
       "<Figure size 432x288 with 1 Axes>"
      ]
     },
     "metadata": {},
     "output_type": "display_data"
    }
   ],
   "source": [
    "grafico_sentimientos_datasetInicial = dataset.groupby('Sentimiento').count()\n",
    "sns.barplot(data = grafico_sentimientos_datasetInicial, x = grafico_sentimientos_datasetInicial.index, y = 'Tweet')"
   ]
  },
  {
   "cell_type": "markdown",
   "id": "6f444e10",
   "metadata": {},
   "source": [
    "# Datos de entrenamiento y Testeo"
   ]
  },
  {
   "cell_type": "code",
   "execution_count": 9,
   "id": "1710d582",
   "metadata": {},
   "outputs": [],
   "source": [
    "# Datos de entrenamiento y testeo\n",
    "train_X, test_X, train_Y, test_Y = model_selection.train_test_split(dataset['Tweet'], dataset['Sentimiento'], test_size = 0.30, random_state = 0)"
   ]
  },
  {
   "cell_type": "code",
   "execution_count": 10,
   "id": "c29db783",
   "metadata": {},
   "outputs": [],
   "source": [
    "# Datos de Entrenamiento\n",
    "df_train70 = pd.DataFrame()\n",
    "df_train70['Tweet'] = train_X\n",
    "df_train70['Sentimiento'] = train_Y\n",
    "df_train70['Tweet Limpio'] = df_train70['Tweet'].str.lower()\n",
    "\n",
    "# Datos de Prueba\n",
    "df_test30 = pd.DataFrame()\n",
    "df_test30['Tweet'] = test_X\n",
    "df_test30['Sentimiento'] = test_Y\n",
    "df_test30['Tweet Limpio'] = df_test30['Tweet'].str.lower()"
   ]
  },
  {
   "cell_type": "code",
   "execution_count": 11,
   "id": "0777b246",
   "metadata": {
    "scrolled": false
   },
   "outputs": [
    {
     "data": {
      "text/html": [
       "<div>\n",
       "<style scoped>\n",
       "    .dataframe tbody tr th:only-of-type {\n",
       "        vertical-align: middle;\n",
       "    }\n",
       "\n",
       "    .dataframe tbody tr th {\n",
       "        vertical-align: top;\n",
       "    }\n",
       "\n",
       "    .dataframe thead th {\n",
       "        text-align: right;\n",
       "    }\n",
       "</style>\n",
       "<table border=\"1\" class=\"dataframe\">\n",
       "  <thead>\n",
       "    <tr style=\"text-align: right;\">\n",
       "      <th></th>\n",
       "      <th>Tweet</th>\n",
       "      <th>Sentimiento</th>\n",
       "      <th>Tweet Limpio</th>\n",
       "    </tr>\n",
       "  </thead>\n",
       "  <tbody>\n",
       "    <tr>\n",
       "      <th>39</th>\n",
       "      <td>el gobierno nos quiere ver la cara nos quieren...</td>\n",
       "      <td>negative</td>\n",
       "      <td>el gobierno nos quiere ver la cara nos quieren...</td>\n",
       "    </tr>\n",
       "    <tr>\n",
       "      <th>1567</th>\n",
       "      <td>vimos el desastre sanitario que nos provocaron...</td>\n",
       "      <td>negative</td>\n",
       "      <td>vimos el desastre sanitario que nos provocaron...</td>\n",
       "    </tr>\n",
       "    <tr>\n",
       "      <th>1246</th>\n",
       "      <td>al margen de conspiracion o no pienso que la v...</td>\n",
       "      <td>negative</td>\n",
       "      <td>al margen de conspiracion o no pienso que la v...</td>\n",
       "    </tr>\n",
       "    <tr>\n",
       "      <th>840</th>\n",
       "      <td>ya fue a mercar claro que a usted eso no lo af...</td>\n",
       "      <td>negative</td>\n",
       "      <td>ya fue a mercar claro que a usted eso no lo af...</td>\n",
       "    </tr>\n",
       "    <tr>\n",
       "      <th>651</th>\n",
       "      <td>recuerden vacunarse para no tener problemas en...</td>\n",
       "      <td>positive</td>\n",
       "      <td>recuerden vacunarse para no tener problemas en...</td>\n",
       "    </tr>\n",
       "    <tr>\n",
       "      <th>...</th>\n",
       "      <td>...</td>\n",
       "      <td>...</td>\n",
       "      <td>...</td>\n",
       "    </tr>\n",
       "    <tr>\n",
       "      <th>835</th>\n",
       "      <td>el gobierno no piensan adquirir mas vacunas pf...</td>\n",
       "      <td>negative</td>\n",
       "      <td>el gobierno no piensan adquirir mas vacunas pf...</td>\n",
       "    </tr>\n",
       "    <tr>\n",
       "      <th>1216</th>\n",
       "      <td>cuando veo que janssen es trending pienso que ...</td>\n",
       "      <td>neutral</td>\n",
       "      <td>cuando veo que janssen es trending pienso que ...</td>\n",
       "    </tr>\n",
       "    <tr>\n",
       "      <th>1653</th>\n",
       "      <td>tanto venezolano exigiendo vacunas para el cov...</td>\n",
       "      <td>negative</td>\n",
       "      <td>tanto venezolano exigiendo vacunas para el cov...</td>\n",
       "    </tr>\n",
       "    <tr>\n",
       "      <th>559</th>\n",
       "      <td>ni loco me pongo yo una vaina de jansse esa mo...</td>\n",
       "      <td>negative</td>\n",
       "      <td>ni loco me pongo yo una vaina de jansse esa mo...</td>\n",
       "    </tr>\n",
       "    <tr>\n",
       "      <th>684</th>\n",
       "      <td>en rionegro nos quedamos sin vacunas pfizer y ...</td>\n",
       "      <td>negative</td>\n",
       "      <td>en rionegro nos quedamos sin vacunas pfizer y ...</td>\n",
       "    </tr>\n",
       "  </tbody>\n",
       "</table>\n",
       "<p>1162 rows × 3 columns</p>\n",
       "</div>"
      ],
      "text/plain": [
       "                                                  Tweet Sentimiento  \\\n",
       "39    el gobierno nos quiere ver la cara nos quieren...    negative   \n",
       "1567  vimos el desastre sanitario que nos provocaron...    negative   \n",
       "1246  al margen de conspiracion o no pienso que la v...    negative   \n",
       "840   ya fue a mercar claro que a usted eso no lo af...    negative   \n",
       "651   recuerden vacunarse para no tener problemas en...    positive   \n",
       "...                                                 ...         ...   \n",
       "835   el gobierno no piensan adquirir mas vacunas pf...    negative   \n",
       "1216  cuando veo que janssen es trending pienso que ...     neutral   \n",
       "1653  tanto venezolano exigiendo vacunas para el cov...    negative   \n",
       "559   ni loco me pongo yo una vaina de jansse esa mo...    negative   \n",
       "684   en rionegro nos quedamos sin vacunas pfizer y ...    negative   \n",
       "\n",
       "                                           Tweet Limpio  \n",
       "39    el gobierno nos quiere ver la cara nos quieren...  \n",
       "1567  vimos el desastre sanitario que nos provocaron...  \n",
       "1246  al margen de conspiracion o no pienso que la v...  \n",
       "840   ya fue a mercar claro que a usted eso no lo af...  \n",
       "651   recuerden vacunarse para no tener problemas en...  \n",
       "...                                                 ...  \n",
       "835   el gobierno no piensan adquirir mas vacunas pf...  \n",
       "1216  cuando veo que janssen es trending pienso que ...  \n",
       "1653  tanto venezolano exigiendo vacunas para el cov...  \n",
       "559   ni loco me pongo yo una vaina de jansse esa mo...  \n",
       "684   en rionegro nos quedamos sin vacunas pfizer y ...  \n",
       "\n",
       "[1162 rows x 3 columns]"
      ]
     },
     "execution_count": 11,
     "metadata": {},
     "output_type": "execute_result"
    }
   ],
   "source": [
    "df_train70"
   ]
  },
  {
   "cell_type": "markdown",
   "id": "ac583e2f",
   "metadata": {},
   "source": [
    "## Cantidad de sentimientos por categoria en datos de entrenamiento"
   ]
  },
  {
   "cell_type": "code",
   "execution_count": 12,
   "id": "bf7c29cb",
   "metadata": {
    "scrolled": true
   },
   "outputs": [
    {
     "data": {
      "text/plain": [
       "<AxesSubplot:xlabel='Sentimiento', ylabel='Tweet'>"
      ]
     },
     "execution_count": 12,
     "metadata": {},
     "output_type": "execute_result"
    },
    {
     "data": {
      "image/png": "[encoded data removed]",
      "text/plain": [
       "<Figure size 432x288 with 1 Axes>"
      ]
     },
     "metadata": {},
     "output_type": "display_data"
    }
   ],
   "source": [
    "grafico_sentimientos_datasetEntrenamiento = df_train70.groupby('Sentimiento').count()\n",
    "sns.barplot(data = grafico_sentimientos_datasetEntrenamiento, x = grafico_sentimientos_datasetInicial.index, y = 'Tweet')"
   ]
  },
  {
   "cell_type": "code",
   "execution_count": 13,
   "id": "80cdee32",
   "metadata": {},
   "outputs": [
    {
     "data": {
      "text/html": [
       "<div>\n",
       "<style scoped>\n",
       "    .dataframe tbody tr th:only-of-type {\n",
       "        vertical-align: middle;\n",
       "    }\n",
       "\n",
       "    .dataframe tbody tr th {\n",
       "        vertical-align: top;\n",
       "    }\n",
       "\n",
       "    .dataframe thead th {\n",
       "        text-align: right;\n",
       "    }\n",
       "</style>\n",
       "<table border=\"1\" class=\"dataframe\">\n",
       "  <thead>\n",
       "    <tr style=\"text-align: right;\">\n",
       "      <th></th>\n",
       "      <th>Tweet</th>\n",
       "      <th>Sentimiento</th>\n",
       "      <th>Tweet Limpio</th>\n",
       "    </tr>\n",
       "  </thead>\n",
       "  <tbody>\n",
       "    <tr>\n",
       "      <th>1265</th>\n",
       "      <td>pero este hombre tenia dosis de vacuna pfizer ...</td>\n",
       "      <td>negative</td>\n",
       "      <td>pero este hombre tenia dosis de vacuna pfizer ...</td>\n",
       "    </tr>\n",
       "    <tr>\n",
       "      <th>342</th>\n",
       "      <td>no me vacuno por nada del mundo un vecino sufr...</td>\n",
       "      <td>negative</td>\n",
       "      <td>no me vacuno por nada del mundo un vecino sufr...</td>\n",
       "    </tr>\n",
       "    <tr>\n",
       "      <th>381</th>\n",
       "      <td>en el centro comercial guacari aun estan coloc...</td>\n",
       "      <td>positive</td>\n",
       "      <td>en el centro comercial guacari aun estan coloc...</td>\n",
       "    </tr>\n",
       "    <tr>\n",
       "      <th>511</th>\n",
       "      <td>si presentas sintomas despues de vacunarte con...</td>\n",
       "      <td>neutral</td>\n",
       "      <td>si presentas sintomas despues de vacunarte con...</td>\n",
       "    </tr>\n",
       "    <tr>\n",
       "      <th>1205</th>\n",
       "      <td>alguien me explica pq uno no puede elegir que ...</td>\n",
       "      <td>negative</td>\n",
       "      <td>alguien me explica pq uno no puede elegir que ...</td>\n",
       "    </tr>\n",
       "    <tr>\n",
       "      <th>...</th>\n",
       "      <td>...</td>\n",
       "      <td>...</td>\n",
       "      <td>...</td>\n",
       "    </tr>\n",
       "    <tr>\n",
       "      <th>1277</th>\n",
       "      <td>critico las medidas inefectivas contra el covi...</td>\n",
       "      <td>positive</td>\n",
       "      <td>critico las medidas inefectivas contra el covi...</td>\n",
       "    </tr>\n",
       "    <tr>\n",
       "      <th>792</th>\n",
       "      <td>que dirian nuestros ancestros cayendo en los t...</td>\n",
       "      <td>negative</td>\n",
       "      <td>que dirian nuestros ancestros cayendo en los t...</td>\n",
       "    </tr>\n",
       "    <tr>\n",
       "      <th>1359</th>\n",
       "      <td>sinovac tambien es muy buena ha tenido mala pr...</td>\n",
       "      <td>positive</td>\n",
       "      <td>sinovac tambien es muy buena ha tenido mala pr...</td>\n",
       "    </tr>\n",
       "    <tr>\n",
       "      <th>77</th>\n",
       "      <td>a todos los de astrazeneca les estan aplicando...</td>\n",
       "      <td>neutral</td>\n",
       "      <td>a todos los de astrazeneca les estan aplicando...</td>\n",
       "    </tr>\n",
       "    <tr>\n",
       "      <th>746</th>\n",
       "      <td>se me perdio el carnet de vacunacion si le dig...</td>\n",
       "      <td>neutral</td>\n",
       "      <td>se me perdio el carnet de vacunacion si le dig...</td>\n",
       "    </tr>\n",
       "  </tbody>\n",
       "</table>\n",
       "<p>498 rows × 3 columns</p>\n",
       "</div>"
      ],
      "text/plain": [
       "                                                  Tweet Sentimiento  \\\n",
       "1265  pero este hombre tenia dosis de vacuna pfizer ...    negative   \n",
       "342   no me vacuno por nada del mundo un vecino sufr...    negative   \n",
       "381   en el centro comercial guacari aun estan coloc...    positive   \n",
       "511   si presentas sintomas despues de vacunarte con...     neutral   \n",
       "1205  alguien me explica pq uno no puede elegir que ...    negative   \n",
       "...                                                 ...         ...   \n",
       "1277  critico las medidas inefectivas contra el covi...    positive   \n",
       "792   que dirian nuestros ancestros cayendo en los t...    negative   \n",
       "1359  sinovac tambien es muy buena ha tenido mala pr...    positive   \n",
       "77    a todos los de astrazeneca les estan aplicando...     neutral   \n",
       "746   se me perdio el carnet de vacunacion si le dig...     neutral   \n",
       "\n",
       "                                           Tweet Limpio  \n",
       "1265  pero este hombre tenia dosis de vacuna pfizer ...  \n",
       "342   no me vacuno por nada del mundo un vecino sufr...  \n",
       "381   en el centro comercial guacari aun estan coloc...  \n",
       "511   si presentas sintomas despues de vacunarte con...  \n",
       "1205  alguien me explica pq uno no puede elegir que ...  \n",
       "...                                                 ...  \n",
       "1277  critico las medidas inefectivas contra el covi...  \n",
       "792   que dirian nuestros ancestros cayendo en los t...  \n",
       "1359  sinovac tambien es muy buena ha tenido mala pr...  \n",
       "77    a todos los de astrazeneca les estan aplicando...  \n",
       "746   se me perdio el carnet de vacunacion si le dig...  \n",
       "\n",
       "[498 rows x 3 columns]"
      ]
     },
     "execution_count": 13,
     "metadata": {},
     "output_type": "execute_result"
    }
   ],
   "source": [
    "df_test30"
   ]
  },
  {
   "cell_type": "markdown",
   "id": "31ea4729",
   "metadata": {},
   "source": [
    "## Cantidad de sentimientos por categoria en datos de testeo"
   ]
  },
  {
   "cell_type": "code",
   "execution_count": 14,
   "id": "db715905",
   "metadata": {},
   "outputs": [
    {
     "data": {
      "text/plain": [
       "<AxesSubplot:xlabel='Sentimiento', ylabel='Tweet'>"
      ]
     },
     "execution_count": 14,
     "metadata": {},
     "output_type": "execute_result"
    },
    {
     "data": {
      "image/png": "[encoded data removed]",
      "text/plain": [
       "<Figure size 432x288 with 1 Axes>"
      ]
     },
     "metadata": {},
     "output_type": "display_data"
    }
   ],
   "source": [
    "grafico_sentimientos_datasetTesteo = df_test30.groupby('Sentimiento').count()\n",
    "sns.barplot(data = grafico_sentimientos_datasetTesteo, x = grafico_sentimientos_datasetInicial.index, y = 'Tweet')"
   ]
  },
  {
   "cell_type": "code",
   "execution_count": 15,
   "id": "53f3789e",
   "metadata": {},
   "outputs": [],
   "source": [
    "# Guardar los nuevos Datasets como csv\n",
    "df_train70.to_csv(r'../Datasets/Tweets_Sentimientos_Train70.csv')\n",
    "df_test30.to_csv(r'../Datasets/Tweets_Sentimientos_Test30.csv')"
   ]
  },
  {
   "cell_type": "markdown",
   "id": "570aaf5e",
   "metadata": {},
   "source": [
    "# Funciones de Limpieza de Tweets "
   ]
  },
  {
   "cell_type": "code",
   "execution_count": 16,
   "id": "eb7ca8fa",
   "metadata": {},
   "outputs": [],
   "source": [
    "# Funciones para la limpieza de los Datasets\n",
    "def limpiezaTweets(tweet):\n",
    "    eliminarUsuario = re.compile('@\\w+')\n",
    "    eliminarUrl = re.compile('http[s]?://(?:[a-zA-Z]|[0-9]|[$-_@.&+]|[!*\\(\\),]|(?:%[0-9a-fA-F][0-9a-fA-F]))+')\n",
    "    eliminarHtmlDatos = re.compile('<.*?>|&([a-z0-9]+|#[0-9]{1,6}|#x[0-9a-f]{1,6});')\n",
    "    eliminarEspaciosExtra = re.compile('[ ]{2,}')\n",
    "    eliminarCambiosLinea = re.compile('\\n+')\n",
    "\n",
    "    resultado = eliminarUrl.sub('', tweet)\n",
    "    resultado = eliminarUsuario.sub('', resultado)\n",
    "    resultado = eliminarHtmlDatos.sub('', resultado)\n",
    "    resultado = eliminarEspaciosExtra.sub('', resultado)\n",
    "    resultado = eliminarCambiosLinea.sub('', resultado)\n",
    "    resultado = re.findall('\\w+', resultado)                                    # Busca datos alfanumericos\n",
    "    resultado = [''.join(x for x in i if x.isalpha()) for i in resultado]\n",
    "    resultado = ' '.join(resultado) \n",
    "    return resultado\n",
    "\n",
    "\n",
    "def removerStopWords(tweet):\n",
    "    resultado = ''\n",
    "    if tweet != None:\n",
    "        tweet = tweet.split(\" \")\n",
    "        resultado = list(filter(lambda l: (l not in STOP_WORDS and len(l) > 2), tweet))\n",
    "        resultado = ' '.join(resultado)\n",
    "    return resultado\n",
    "\n",
    "\n",
    "def removerTildes(tweet):\n",
    "    remplazar = {\n",
    "        'á' : 'a',\n",
    "        'é' : 'e',\n",
    "        'í' : 'i',\n",
    "        'ó' : 'o',\n",
    "        'ú' : 'u'\n",
    "    }\n",
    "    for i, j in remplazar.items():\n",
    "        tweet = tweet.replace(i, j)\n",
    "    return tweet"
   ]
  },
  {
   "cell_type": "code",
   "execution_count": 17,
   "id": "43b696d2",
   "metadata": {},
   "outputs": [],
   "source": [
    "# Aplicar la limpieza a los datasets\n",
    "df_train70['Tweet Limpio'] = df_train70['Tweet Limpio'].apply(limpiezaTweets)\n",
    "df_train70['Tweet Limpio'] = df_train70['Tweet Limpio'].apply(removerStopWords)\n",
    "df_train70['Tweet Limpio'] = df_train70['Tweet Limpio'].apply(removerTildes)\n",
    "\n",
    "df_test30['Tweet Limpio'] = df_test30['Tweet Limpio'].apply(limpiezaTweets)\n",
    "df_test30['Tweet Limpio'] = df_test30['Tweet Limpio'].apply(removerStopWords)\n",
    "df_test30['Tweet Limpio'] = df_test30['Tweet Limpio'].apply(removerTildes)"
   ]
  },
  {
   "cell_type": "code",
   "execution_count": 18,
   "id": "23a2fdf0",
   "metadata": {},
   "outputs": [],
   "source": [
    "# Guardar los nuevos cambios a los Datasets \n",
    "df_train70.to_csv(r'../Datasets/Tweets_Sentimientos_Train70.csv')\n",
    "df_test30.to_csv(r'../Datasets/Tweets_Sentimientos_Test30.csv')"
   ]
  },
  {
   "cell_type": "code",
   "execution_count": 19,
   "id": "7ea62fe5",
   "metadata": {},
   "outputs": [
    {
     "data": {
      "text/html": [
       "<div>\n",
       "<style scoped>\n",
       "    .dataframe tbody tr th:only-of-type {\n",
       "        vertical-align: middle;\n",
       "    }\n",
       "\n",
       "    .dataframe tbody tr th {\n",
       "        vertical-align: top;\n",
       "    }\n",
       "\n",
       "    .dataframe thead th {\n",
       "        text-align: right;\n",
       "    }\n",
       "</style>\n",
       "<table border=\"1\" class=\"dataframe\">\n",
       "  <thead>\n",
       "    <tr style=\"text-align: right;\">\n",
       "      <th></th>\n",
       "      <th>Tweet</th>\n",
       "      <th>Sentimiento</th>\n",
       "      <th>Tweet Limpio</th>\n",
       "    </tr>\n",
       "  </thead>\n",
       "  <tbody>\n",
       "    <tr>\n",
       "      <th>39</th>\n",
       "      <td>el gobierno nos quiere ver la cara nos quieren...</td>\n",
       "      <td>negative</td>\n",
       "      <td>gobierno cara quieren obligar ponernos astraze...</td>\n",
       "    </tr>\n",
       "    <tr>\n",
       "      <th>1567</th>\n",
       "      <td>vimos el desastre sanitario que nos provocaron...</td>\n",
       "      <td>negative</td>\n",
       "      <td>vimos desastre sanitario provocaron sabiendas</td>\n",
       "    </tr>\n",
       "    <tr>\n",
       "      <th>1246</th>\n",
       "      <td>al margen de conspiracion o no pienso que la v...</td>\n",
       "      <td>negative</td>\n",
       "      <td>margen conspiracion pienso vacuna funciona eda...</td>\n",
       "    </tr>\n",
       "    <tr>\n",
       "      <th>840</th>\n",
       "      <td>ya fue a mercar claro que a usted eso no lo af...</td>\n",
       "      <td>negative</td>\n",
       "      <td>mercar afecta recibe comisiones pfizer moderna...</td>\n",
       "    </tr>\n",
       "    <tr>\n",
       "      <th>651</th>\n",
       "      <td>recuerden vacunarse para no tener problemas en...</td>\n",
       "      <td>positive</td>\n",
       "      <td>recuerden vacunarse problemas lugares publicos...</td>\n",
       "    </tr>\n",
       "    <tr>\n",
       "      <th>...</th>\n",
       "      <td>...</td>\n",
       "      <td>...</td>\n",
       "      <td>...</td>\n",
       "    </tr>\n",
       "    <tr>\n",
       "      <th>835</th>\n",
       "      <td>el gobierno no piensan adquirir mas vacunas pf...</td>\n",
       "      <td>negative</td>\n",
       "      <td>gobierno piensan adquirir vacunas pfizer esper...</td>\n",
       "    </tr>\n",
       "    <tr>\n",
       "      <th>1216</th>\n",
       "      <td>cuando veo que janssen es trending pienso que ...</td>\n",
       "      <td>neutral</td>\n",
       "      <td>veo janssen trending pienso vacuna covid reali...</td>\n",
       "    </tr>\n",
       "    <tr>\n",
       "      <th>1653</th>\n",
       "      <td>tanto venezolano exigiendo vacunas para el cov...</td>\n",
       "      <td>negative</td>\n",
       "      <td>venezolano exigiendo vacunas covid aca colombi...</td>\n",
       "    </tr>\n",
       "    <tr>\n",
       "      <th>559</th>\n",
       "      <td>ni loco me pongo yo una vaina de jansse esa mo...</td>\n",
       "      <td>negative</td>\n",
       "      <td>loco pongo vaina jansse monodosis servir</td>\n",
       "    </tr>\n",
       "    <tr>\n",
       "      <th>684</th>\n",
       "      <td>en rionegro nos quedamos sin vacunas pfizer y ...</td>\n",
       "      <td>negative</td>\n",
       "      <td>rionegro quedamos vacunas pfizer necesitan dos...</td>\n",
       "    </tr>\n",
       "  </tbody>\n",
       "</table>\n",
       "<p>1162 rows × 3 columns</p>\n",
       "</div>"
      ],
      "text/plain": [
       "                                                  Tweet Sentimiento  \\\n",
       "39    el gobierno nos quiere ver la cara nos quieren...    negative   \n",
       "1567  vimos el desastre sanitario que nos provocaron...    negative   \n",
       "1246  al margen de conspiracion o no pienso que la v...    negative   \n",
       "840   ya fue a mercar claro que a usted eso no lo af...    negative   \n",
       "651   recuerden vacunarse para no tener problemas en...    positive   \n",
       "...                                                 ...         ...   \n",
       "835   el gobierno no piensan adquirir mas vacunas pf...    negative   \n",
       "1216  cuando veo que janssen es trending pienso que ...     neutral   \n",
       "1653  tanto venezolano exigiendo vacunas para el cov...    negative   \n",
       "559   ni loco me pongo yo una vaina de jansse esa mo...    negative   \n",
       "684   en rionegro nos quedamos sin vacunas pfizer y ...    negative   \n",
       "\n",
       "                                           Tweet Limpio  \n",
       "39    gobierno cara quieren obligar ponernos astraze...  \n",
       "1567      vimos desastre sanitario provocaron sabiendas  \n",
       "1246  margen conspiracion pienso vacuna funciona eda...  \n",
       "840   mercar afecta recibe comisiones pfizer moderna...  \n",
       "651   recuerden vacunarse problemas lugares publicos...  \n",
       "...                                                 ...  \n",
       "835   gobierno piensan adquirir vacunas pfizer esper...  \n",
       "1216  veo janssen trending pienso vacuna covid reali...  \n",
       "1653  venezolano exigiendo vacunas covid aca colombi...  \n",
       "559            loco pongo vaina jansse monodosis servir  \n",
       "684   rionegro quedamos vacunas pfizer necesitan dos...  \n",
       "\n",
       "[1162 rows x 3 columns]"
      ]
     },
     "execution_count": 19,
     "metadata": {},
     "output_type": "execute_result"
    }
   ],
   "source": [
    "df_train70"
   ]
  },
  {
   "cell_type": "code",
   "execution_count": 20,
   "id": "3da70d4c",
   "metadata": {},
   "outputs": [
    {
     "data": {
      "text/html": [
       "<div>\n",
       "<style scoped>\n",
       "    .dataframe tbody tr th:only-of-type {\n",
       "        vertical-align: middle;\n",
       "    }\n",
       "\n",
       "    .dataframe tbody tr th {\n",
       "        vertical-align: top;\n",
       "    }\n",
       "\n",
       "    .dataframe thead th {\n",
       "        text-align: right;\n",
       "    }\n",
       "</style>\n",
       "<table border=\"1\" class=\"dataframe\">\n",
       "  <thead>\n",
       "    <tr style=\"text-align: right;\">\n",
       "      <th></th>\n",
       "      <th>Tweet</th>\n",
       "      <th>Sentimiento</th>\n",
       "      <th>Tweet Limpio</th>\n",
       "    </tr>\n",
       "  </thead>\n",
       "  <tbody>\n",
       "    <tr>\n",
       "      <th>1265</th>\n",
       "      <td>pero este hombre tenia dosis de vacuna pfizer ...</td>\n",
       "      <td>negative</td>\n",
       "      <td>hombre tenia dosis vacuna pfizer murio</td>\n",
       "    </tr>\n",
       "    <tr>\n",
       "      <th>342</th>\n",
       "      <td>no me vacuno por nada del mundo un vecino sufr...</td>\n",
       "      <td>negative</td>\n",
       "      <td>vacuno mundo vecino sufrio enfermedad cardiaca...</td>\n",
       "    </tr>\n",
       "    <tr>\n",
       "      <th>381</th>\n",
       "      <td>en el centro comercial guacari aun estan coloc...</td>\n",
       "      <td>positive</td>\n",
       "      <td>centro comercial guacari colocando pfizer dese...</td>\n",
       "    </tr>\n",
       "    <tr>\n",
       "      <th>511</th>\n",
       "      <td>si presentas sintomas despues de vacunarte con...</td>\n",
       "      <td>neutral</td>\n",
       "      <td>presentas sintomas vacunarte pfizer acude medi...</td>\n",
       "    </tr>\n",
       "    <tr>\n",
       "      <th>1205</th>\n",
       "      <td>alguien me explica pq uno no puede elegir que ...</td>\n",
       "      <td>negative</td>\n",
       "      <td>alguien explica elegir vacuna pone dosis pfize...</td>\n",
       "    </tr>\n",
       "    <tr>\n",
       "      <th>...</th>\n",
       "      <td>...</td>\n",
       "      <td>...</td>\n",
       "      <td>...</td>\n",
       "    </tr>\n",
       "    <tr>\n",
       "      <th>1277</th>\n",
       "      <td>critico las medidas inefectivas contra el covi...</td>\n",
       "      <td>positive</td>\n",
       "      <td>critico medidas inefectivas covid vine aplicar...</td>\n",
       "    </tr>\n",
       "    <tr>\n",
       "      <th>792</th>\n",
       "      <td>que dirian nuestros ancestros cayendo en los t...</td>\n",
       "      <td>negative</td>\n",
       "      <td>dirian ancestros cayendo trucos jefes mundo va...</td>\n",
       "    </tr>\n",
       "    <tr>\n",
       "      <th>1359</th>\n",
       "      <td>sinovac tambien es muy buena ha tenido mala pr...</td>\n",
       "      <td>positive</td>\n",
       "      <td>sinovac mala propaganda visto excelentes resul...</td>\n",
       "    </tr>\n",
       "    <tr>\n",
       "      <th>77</th>\n",
       "      <td>a todos los de astrazeneca les estan aplicando...</td>\n",
       "      <td>neutral</td>\n",
       "      <td>astrazeneca aplicando dosis mayores jfernandez...</td>\n",
       "    </tr>\n",
       "    <tr>\n",
       "      <th>746</th>\n",
       "      <td>se me perdio el carnet de vacunacion si le dig...</td>\n",
       "      <td>neutral</td>\n",
       "      <td>perdio carnet vacunacion digo enfermera dosis ...</td>\n",
       "    </tr>\n",
       "  </tbody>\n",
       "</table>\n",
       "<p>498 rows × 3 columns</p>\n",
       "</div>"
      ],
      "text/plain": [
       "                                                  Tweet Sentimiento  \\\n",
       "1265  pero este hombre tenia dosis de vacuna pfizer ...    negative   \n",
       "342   no me vacuno por nada del mundo un vecino sufr...    negative   \n",
       "381   en el centro comercial guacari aun estan coloc...    positive   \n",
       "511   si presentas sintomas despues de vacunarte con...     neutral   \n",
       "1205  alguien me explica pq uno no puede elegir que ...    negative   \n",
       "...                                                 ...         ...   \n",
       "1277  critico las medidas inefectivas contra el covi...    positive   \n",
       "792   que dirian nuestros ancestros cayendo en los t...    negative   \n",
       "1359  sinovac tambien es muy buena ha tenido mala pr...    positive   \n",
       "77    a todos los de astrazeneca les estan aplicando...     neutral   \n",
       "746   se me perdio el carnet de vacunacion si le dig...     neutral   \n",
       "\n",
       "                                           Tweet Limpio  \n",
       "1265             hombre tenia dosis vacuna pfizer murio  \n",
       "342   vacuno mundo vecino sufrio enfermedad cardiaca...  \n",
       "381   centro comercial guacari colocando pfizer dese...  \n",
       "511   presentas sintomas vacunarte pfizer acude medi...  \n",
       "1205  alguien explica elegir vacuna pone dosis pfize...  \n",
       "...                                                 ...  \n",
       "1277  critico medidas inefectivas covid vine aplicar...  \n",
       "792   dirian ancestros cayendo trucos jefes mundo va...  \n",
       "1359  sinovac mala propaganda visto excelentes resul...  \n",
       "77    astrazeneca aplicando dosis mayores jfernandez...  \n",
       "746   perdio carnet vacunacion digo enfermera dosis ...  \n",
       "\n",
       "[498 rows x 3 columns]"
      ]
     },
     "execution_count": 20,
     "metadata": {},
     "output_type": "execute_result"
    }
   ],
   "source": [
    "df_test30"
   ]
  },
  {
   "cell_type": "markdown",
   "id": "c4c271df",
   "metadata": {},
   "source": [
    "# Matriz TF-IDF"
   ]
  },
  {
   "cell_type": "code",
   "execution_count": 21,
   "id": "5d4c2c44",
   "metadata": {},
   "outputs": [],
   "source": [
    "# TF-IDF\n",
    "tf_idf_vectores = TfidfVectorizer(max_features = 5000)\n",
    "tf_idf_vectores.fit(dataset['Tweet'])\n",
    "\n",
    "\n",
    "# Guardar TF-IDF\n",
    "with open('../Modelos/tfidfVectores.pickle', 'wb') as archivo_tf_idf:\n",
    "    pickle.dump(tf_idf_vectores, archivo_tf_idf)\n",
    "    \n",
    "\n",
    "train_X_tfidf = tf_idf_vectores.transform(df_train70['Tweet Limpio'])\n",
    "test_X_tfidf = tf_idf_vectores.transform(df_test30['Tweet Limpio'])"
   ]
  },
  {
   "cell_type": "code",
   "execution_count": 24,
   "id": "4188a1f3",
   "metadata": {
    "code_folding": [],
    "scrolled": true
   },
   "outputs": [
    {
     "name": "stdout",
     "output_type": "stream",
     "text": [
      "{'colombia': 759, 'recibio': 3539, 'dosis': 1361, 'de': 1098, 'astrazeneca1234': 363, 'donadas': 1353, 'por': 3232, 'el': 1414, 'gobierno': 1876, 'canadiense': 576, 'german': 1859, 'escobar': 1550, 'jefe': 2264, 'gabinete': 1828, 'minsaludcol': 2654, 'la': 2315, 'embajadora': 1428, 'canada': 574, 'marianick': 2526, 'tremblay': 4154, 'ivy': 2245, 'talavera': 3988, 'representante': 3621, 'opsomscolinfopresidencia': 2927, 'canadaycolombia': 575, 'proposito': 3364, 'del': 1155, 'año': 438, 'pnv': 3168, 'terminamos': 4047, 'con': 830, 'cero': 656, 'perdidas': 3072, 'vacunas': 4266, 'nivel': 2808, 'nacional': 2755, 'logro': 2447, 'reposicion': 3620, 'gracias': 1883, 'moderna': 2680, 'astrazeneca': 362, 'sinovac': 3862, 'donacion': 1351, 'españa': 1567, 'apoyo': 297, 'al': 149, 'pais': 2965, 'politica': 3188, 'frascos': 1792, 'abiertos': 6, 'infopresidencia': 2128, 'cgrcolombia': 661, 'pgncol': 3121, 'queremos': 3455, 'agradecer': 129, 'su': 3929, 'pm': 3167, 'justintrudeau': 2307, 'asi': 349, 'como': 780, 'labor': 2316, 'marianickt': 2527, 'opsomscol': 2926, 'mil': 2638, 'las': 2331, 'relaciones': 3608, 'se': 3765, 'siguen': 3847, 'afianzando': 101, 'unen': 4194, 'en': 1454, 'lucha': 2451, 'contra': 929, 'covid': 981, 'aestahora': 95, 'recibe': 3532, 'que': 3431, 'seguiremos': 3787, 'reforzando': 3581, 'vacunacion': 4238, 'protegiendo': 3373, 'poblacion': 3169, 'covidmarianickt': 982, 'germanescobarm': 1861, 'hablando': 1941, 'no': 2812, 'deben': 1105, 'usar': 4218, 'alguien': 174, 'sabe': 3697, 'porque': 3238, 'invimacolombia': 2221, 'permite': 3095, 'uso': 4222, 'estas': 1623, 'vs': 4412, 'cancino': 580, 'sputnik': 3925, 'johnson': 2280, 'facilitan': 1725, 'contagio': 918, 'vih': 4374, 'recordemos': 3564, 'intervalo': 2198, 'aplicacion': 273, 'pfizer': 3115, 'son': 3916, 'diasnos': 1257, 'informan': 2132, 'desde': 1214, 'estan': 1613, 'esperando': 1580, 'legalizacion': 2345, 'este': 1624, 'ultimo': 4190, 'biologico': 476, 'para': 2984, 'poderlo': 3179, 'distribuir': 1328, 'cuando': 1022, 'nos': 2823, 'hagan': 1964, 'entrega': 1508, 'lo': 2436, 'estaremos': 1618, 'comunicando': 826, 'llegada': 2401, 'nuevas': 2843, 'janssen': 2260, 'los': 2448, 'equipos': 1524, 'sectorsalud': 3773, 'madrugada': 2463, 'llevando': 2421, 'todos': 4098, 'puntos': 3417, 'seguimos': 3784, 'espera': 1576, 'mas': 2537, 'pero': 3098, 'mientras': 2634, 'tanto': 3996, 'avanzamos': 407, 'todo': 4097, 'entusiasmo': 1513, 'bogotaestamejorando': 489, 'escasez': 1547, 'terceras': 4042, 'medellin': 2565, 'hoy': 2025, 'solo': 3911, 'habia': 1927, 'algo': 173, 'todas': 4094, 'fruizgomez': 1803, 'vayan': 4305, 'vacunarse': 4263, 'habilito': 1934, 'filas': 1772, 'tranquilas': 4136, 'ya': 4427, 'hay': 1978, 'disponible': 1312, 'colegio': 746, 'san': 3744, 'pedro': 3034, 'debe': 1103, 'esperar': 1583, 'meses': 2604, 'aplicarse': 291, 'segunda': 3789, 'bogota': 488, 'esta': 1597, 'pasando': 3008, 'un': 4191, 'mal': 2470, 'momento': 2691, 'poca': 3173, 'gente': 1858, 'recuerden': 3569, 'pabellon': 2951, 'corferias': 960, 'puden': 3395, 'encontrar': 1462, 'pocas': 3174, 'arauca': 319, 'olvidados': 2907, 'totalmente': 4115, 'ciudad': 710, 'estaran': 1617, 'administrando': 78, 'santo': 3757, 'tomas': 4106, 'coliseo': 747, 'pueblo': 3399, 'dio': 1292, 'conocer': 870, 'aquellos': 316, 'fueron': 1811, 'vacunados': 4245, 'pueden': 3403, 'adquirir': 85, 'una': 4192, 'refuerzo': 3585, 'priorizaran': 3321, 'mujeres': 2738, 'gestantes': 1862, 'orden': 2929, 'refuerzos': 3586, 'resto': 3648, 'haran': 1967, 'si': 3835, 'fueran': 1809, 'expertos': 1702, 'hace': 1951, 'rato': 3506, 'me': 2562, 'puse': 3421, 'nada': 2756, 'ha': 1924, 'cambiado': 563, 'mi': 2627, 'salud': 3733, 'mucha': 2718, 'quedando': 3440, 'esquema': 1594, 'incompleto': 2096, 'pasar': 3010, 'sus': 3977, 'segundas': 3791, 'mañana': 2560, 'instalaciones': 2182, 'ignacio': 2056, 'encuentra': 1465, 'estamos': 1612, 'muy': 2749, 'largas': 2329, 'ponerse': 3209, 'envigado': 1517, 'listo': 2389, 'vacunado': 4244, 'finalmente': 1776, 'primera': 3307, 'buenas': 518, 'noticias': 2827, 'estudio': 1646, 'revela': 3661, 'arn': 327, 'novavax': 2831, 'preserva': 3292, 'inmunidad': 2154, 'celular': 647, 'mediada': 2567, 'linfocitos': 2386, 'tcd': 4008, 'hasta': 1974, 'diferentes': 1273, 'variantes': 4296, 'incluida': 2088, 'omicron': 2910, 'tengo': 4032, 'tres': 4157, 'minsalud': 2653, 'larga': 2328, 'fila': 1771, 'obtener': 2870, 'puntosseguimos': 3418, 'valledupar': 4288, 'toco': 4092, 'ir': 2233, 'ponerme': 3205, 'estuvieron': 1653, 'exigiendo': 1683, 'trabajo': 4122, 'hiciera': 1994, 'vacunar': 4253, 'perdi': 3069, 'carnet': 611, 'necesito': 2778, 'alguna': 176, 'solucion': 3912, 'wradio': 4422, 'comprueba': 820, 'vacuna': 4235, 'tiene': 4068, 'buen': 516, 'comportamiento': 806, 'variante': 4295, 'es': 1537, 'necesario': 2768, 'cuarta': 1028, 'aun': 390, 'esos': 1566, 'resultados': 3653, 'salimos': 3724, 'familia': 1739, 'vacunarnos': 4261, 'recibimos': 3538, 'gran': 1887, 'plan': 3159, 'lunes': 2457, 'festivo': 1765, 'ayer': 419, 'sali': 3720, 'encontre': 1464, 'necesitamos': 2774, 'tambien': 3991, 'agilidad': 121, 'proceso': 3335, 'parte': 2998, 'resolucion': 3632, 'minsaludcoldisponia': 2655, 'tercera': 4041, 'personas': 3107, 'vacunadas': 4243, 'pfizermoderna': 3117, 'debia': 1111, 'ser': 3813, 'unicamente': 4198, 'esas': 1539, 'dos': 1360, 'incluyo': 2092, 'confundamento': 857, 'cientifico': 691, 'vacunense': 4276, 'haya': 1979, 'minsaludcolmininterior': 2656, 'hicieron': 1996, 'donde': 1356, 'puedo': 3405, 'comprar': 810, 'aplicar': 281, 'tocaria': 4090, 'usa': 4212, 'esa': 1538, 'fue': 1807, 'gustaria': 1918, 'zuluagacamila': 4441, 'informamos': 2131, 'comunidad': 827, 'general': 1847, 'saludcali': 3734, 'realizamos': 3519, 'solicitud': 3908, 'biologicos': 477, 'avanzar': 410, 'disponibilidad': 1311, 'niños': 2811, 'años': 439, 'vacunateparaquenofaltes': 4272, 'mucho': 2724, 'misterio': 2674, 'enfermedad': 1480, 'le': 2340, 'mintiendo': 2657, 'pandemia': 2976, 'inventada': 2206, 'miente': 2633, 'decir': 1127, 'mayores': 2557, 'podemos': 3177, 'poner': 3201, 'informacion': 2130, 'eps': 1521, 'sanitas': 3752, 'misma': 2668, 'ninguna': 2807, 'enero': 1471, 'plaza': 3164, 'americas': 208, 'piso': 3152, 'torre': 4113, 'parqueaderos': 2997, 'corriendo': 967, 'rapidamente': 3499, 'jansen': 2258, 'vacunacovid': 4240, 'colocarme': 754, 'dejado': 1143, 'malestar': 2477, 'dia': 1250, 'seran': 3815, 'te': 4009, 'patea': 3024, 'quiere': 3472, 'ver': 4339, 'cara': 597, 'quieren': 3473, 'obligar': 2856, 'ponernos': 3208, 'sobre': 3893, 'mesa': 2603, 'opcion': 2914, 'tenemos': 4026, 'derecho': 1189, 'elegir': 1419, 'cuenta': 1036, 'entre': 1507, 'sin': 3855, 'embargo': 1433, 'disponibles': 1313, 'segun': 3788, 'lineamientos': 2384, 'conoce': 868, 'detalladamente': 1241, 'van': 4293, 'dirigidas': 1301, 'feliz': 1760, 'fin': 1773, 'tener': 4027, 'mis': 2667, 'pase': 3016, 'toda': 4093, 'tarde': 4002, 'doctor': 1334, 'alvarez': 200, 'explique': 1708, 'aparece': 264, 'asue': 367, 'estos': 1635, 'riesgos': 3672, 'promocionandolas': 3354, 'dias': 1256, 'aca': 27, 'pedimos': 3032, 'debate': 1101, 'publico': 3391, 'sigo': 3845, 'habiliten': 1933, 'menores': 2588, 'vacunarme': 4260, 'pongan': 3216, 'quiero': 3475, 'estar': 1615, 'parce': 2987, 'he': 1982, 'visto': 4388, 'votando': 4409, 'elecciones': 1416, 'fui': 1817, 'pleno': 3166, 'sabado': 3695, 'yo': 4431, 'disque': 1318, 'poniendome': 3227, 'deberia': 1108, 'bebiendo': 459, 'informa': 2129, 'apartir': 267, 'aplicando': 279, 'edad': 1389, 'esto': 1632, 'regreso': 3597, 'clases': 719, 'insertidumbre': 2171, 'muchos': 2725, 'anda': 221, 'diciendo': 1266, 'puede': 3402, 'generar': 1850, 'enfermedades': 1481, 'respiratorias': 3640, 'sueros': 3946, 'vinagres': 4377, 'tienen': 4069, 'grafenola': 1886, 'agencia': 114, 'reguladora': 3598, 'medicamentos': 2572, 'alimentos': 182, 'tecnologia': 4012, 'medica': 2571, 'argentina': 322, 'ante': 241, 'denuncia': 1179, 'penal': 3052, 'causa': 632, 'muerte': 2730, 'tuvo': 4179, 'responder': 3641, 'composicion': 807, 'vial': 4360, 'encontraron': 1463, 'grafeno': 1885, 'jimenez': 2270, 'pusieron': 3424, 'buena': 517, 'ni': 2802, 'siente': 3839, 'efectos': 1397, 'osea': 2941, 'jodidos': 2277, 'palabras': 2970, 'castas': 626, 'sirve': 3878, 'bien': 472, 'demalas': 1162, 'ra': 3494, 'demas': 1165, 'aplicamos': 277, 'ahora': 143, 'toca': 4087, 'sea': 3766, 'quieran': 3470, 'les': 2357, 'gana': 1829, 'lesmesdmc': 2358, 'acortan': 59, 'suficientes': 3950, 'aparte': 266, 'despues': 1238, 'dar': 1083, 'otra': 2942, 'alianza': 180, 'saludinnovar': 3735, 'uniandes': 4196, 'fsantodomingo': 1806, 'culturaenbta': 1061, 'bolivar': 492, 'unicas': 4199, 'primeras': 3309, 'embarazadas': 1431, 'acercate': 50, 'mirador': 2664, 'paraiso': 2986, 'vacunate': 4270, 'soacha': 3888, 'quien': 3467, 'quimico': 3478, 'tendra': 4021, 'eso': 1565, 'aplico': 292, 'loco': 2440, 'abuelo': 21, 'poco': 3175, 'decidio': 1125, 'puesto': 3412, 'sano': 3754, 'cualquier': 1019, 'puro': 3420, 'cuento': 1039, 'hermano': 1990, 'llegan': 2404, 'hora': 2015, 'sinverguenzada': 3872, 'ole': 2902, 'mediante': 2568, 'sistema': 3882, 'covax': 980, 'vio': 4383, 'beneficiado': 465, 'aproximadamente': 308, 'millon': 2644, 'han': 1966, 'pasado': 3007, 'jhonsson': 2269, 'reforzaron': 3583, 'olvide': 2908, 'acudir': 67, 'limites': 2379, 'alkosto': 184, 'alcaldiapasto': 158, 'germanchamorro': 1860, 'inventando': 2207, 'ome': 2909, 'sirven': 3879, 'fracaso': 1788, 'llevo': 2433, 'semanas': 3803, 'señora': 3831, 'sido': 3836, 'afectado': 98, 'cosas': 974, 'dices': 1262, 'semana': 3802, 'pasada': 3006, 'recibi': 3534, 'normal': 2818, 'aseguran': 344, 'compatibles': 788, 'numeros': 2848, 'castellano': 627, 'criollo': 1001, 'millones': 2646, 'cuales': 1018, 'cerca': 653, 'mismas': 2669, 'farmaceuticas': 1747, 'proximas': 3381, 'vencimiento': 4321, 'pilas': 3147, 'pues': 3409, 'señores': 3832, 'presidente': 3295, 'ivanduque': 2244, 'señor': 3830, 'ministro': 2652, 'alegria': 165, 'secretaria': 3769, 'limitada': 2377, 'quienes': 3468, 'necesiten': 2777, 'inicial': 2145, 'marca': 2519, 'cali': 553, 'escasean': 1545, 'estuvo': 1654, 'enfermo': 1484, 'busca': 528, 'enfermarnos': 1477, 'primero': 3310, 'ejemplo': 1409, 'dejar': 1147, 'hablar': 1942, 'sucedido': 3939, 'malo': 2482, 'llegamos': 2403, 'rebaño': 3521, 'trajeron': 4130, 'muchas': 2721, 'soluciones': 3914, 'nuestro': 2839, 'espectacular': 1574, 'consiguiendo': 895, 'grandes': 1889, 'cantidades': 591, 'otras': 2943, 'encima': 1460, 'paises': 2967, 'latinos': 2335, 'media': 2566, 'gestiona': 1864, 'favor': 1754, 'aqui': 317, 'yumbo': 4436, 'valle': 4287, 'acudio': 66, 'nuestras': 2838, 'era': 1531, 'jfernandeznino': 2267, 'queja': 3450, 'diario': 1255, 'recalcan': 3522, 'importancia': 2074, 'completar': 798, 'llevamos': 2419, 'mama': 2490, 'buscando': 530, 'da': 1077, 'ella': 1422, 'hemos': 1988, 'ido': 2053, 'dicen': 1261, 'destinadas': 1239, 'ras': 3504, 'problema': 3330, 'fondo': 1784, 'decision': 1129, 'alta': 191, 'especialmente': 1571, 'diligencia': 1288, 'bucaramanga': 514, 'mantener': 2516, 'llegaran': 2408, 'ipiales': 2231, 'confirma': 851, 'limitadas': 2378, 'aplicadas': 275, 'lineamiento': 2383, 'ministerio': 2651, 'proteccion': 3365, 'social': 3899, 'juro': 2306, 'aplicaron': 290, 'dice': 1260, 'dilema': 1287, 'tan': 3993, 'impresionante': 2082, 'ideal': 2047, 'mayor': 2556, 'porcentaje': 3233, 'efectividad': 1394, 'grupo': 1896, 'pega': 3035, 'bueno': 521, 'casa': 621, 'enfermaron': 1478, 'menos': 2589, 'soy': 3922, 'fuerte': 1812, 'convencieron': 944, 'alla': 185, 'voy': 4410, 'querida': 3459, 'buga': 523, 'neveras': 2800, 'actualmente': 63, 'baja': 443, 'aplicaran': 283, 'marcas': 2520, 'unencantoes': 4195, 'dolio': 1343, 'felizviernes': 1761, 'reportandoles': 3618, 'siempre': 3837, 'amable': 203, 'personal': 3105, 'phizer': 3122, 'punto': 3415, 'recomendado': 3552, 'andan': 222, 'dijeron': 1283, 'iba': 2042, 'embolate': 1434, 'obteniendo': 2871, 'unos': 4207, 'inmejorables': 2152, 'recomendacion': 3549, 'damos': 1080, 'manizales': 2514, 'completo': 801, 'mando': 2506, 'cama': 561, 'generan': 1848, 'confianza': 848, 'jornada': 2282, 'universidad': 4203, 'quindio': 3481, 'colocando': 749, 'guardads': 1900, 'presidencia': 3294, 'casi': 623, 'usaran': 4219, 'iniciar': 2146, 'esquemas': 1595, 'dando': 1082, 'buenos': 522, 'fuera': 1808, 'recocha': 3545, 'siento': 3840, 'seguro': 3797, 'salir': 3727, 'estoy': 1636, 'abuelita': 18, 'entiendo': 1502, 'nunca': 2849, 'aunque': 392, 'tapabocas': 3998, 'villavicencio': 4375, 'guardan': 1901, 'llegaron': 2410, 'ven': 4318, 'mayoria': 2558, 'condiciones': 837, 'especiales': 1569, 'entonces': 1503, 'echarse': 1385, 'bendicion': 462, 'rogar': 3682, 'suceda': 3937, 'empresas': 1451, 'contratar': 935, 'publica': 3386, 'varias': 4297, 'mes': 2602, 'dificil': 1274, 'dejen': 1153, 'creer': 992, 'falsas': 1733, 'alarmistas': 150, 'dios': 1294, 'obligan': 2855, 'informo': 2138, 'jueves': 2293, 'alegre': 164, 'tomarse': 4105, 'jugo': 2298, 'maracuya': 2518, 'primo': 3312, 'pongansen': 3220, 'lugares': 2454, 'publicos': 3392, 'vacunada': 4241, 'lista': 2387, 'concierto': 834, 'bad': 441, 'bunny': 525, 'reacciona': 3513, 'tu': 4168, 'cuerpo': 1042, 'tal': 3987, 'ponen': 3200, 'fuimos': 1818, 'viernes': 4370, 'pude': 3394, 'recibir': 3540, 'tuve': 4176, 'sueño': 3948, 'dolor': 1344, 'brazo': 506, 'fruizgomezmis': 1804, 'agradezco': 131, 'lleguen': 2413, 'circulatorio': 701, 'vacunaspfizerymodernaya': 4268, 'sintomas': 3870, 'nueva': 2841, 'capacidad': 593, 'peligro': 3045, 'karel': 2312, 'aguantando': 134, 'frio': 1799, 'pongo': 3224, 'saben': 3699, 'ahi': 142, 'estadios': 1605, 'tendre': 4023, 'junior': 2303, 'tiempo': 4066, 'luego': 2452, 'hacer': 1954, 'inventario': 2209, 'aseguro': 347, 'sirvase': 3877, 'informarme': 2134, 'sitios': 3884, 'cartago': 618, 'cuentan': 1037, 'alcaldiacartago': 157, 'consulto': 905, 'clinica': 729, 'colocaron': 756, 'llega': 2399, 'nuevamente': 2842, 'usadas': 4214, 'mundo': 2742, 'genera': 1843, 'trombogenica': 4161, 'usada': 4213, 'precaucion': 3256, 'cierta': 693, 'ciencia': 688, 'detecto': 1243, 'mecanismo': 2563, 'trombogenico': 4162, 'ojala': 2895, 'corrijan': 968, 'vacune': 4274, 'madre': 2461, 'haber': 1925, 'va': 4231, 'acabo': 36, 'estudios': 1647, 'compruban': 819, 'eficiencia': 1400, 'noches': 2814, 'preguntar': 3265, 'tendran': 4022, 'palmira': 2974, 'saquen': 3758, 'nevera': 2799, 'queria': 3457, 'viene': 4368, 'fep': 1763, 'aplicarme': 288, 'unica': 4197, 'salga': 3717, 'vamos': 4292, 'ofrecieron': 2891, 'faltan': 1736, 'recomendable': 3547, 'cronicas': 1010, 'acabaron': 32, 'tenia': 4033, 'entendido': 1495, 'podian': 3182, 'caso': 624, 'seguras': 3795, 'dinamarca': 1289, 'descarto': 1206, 'vacunaria': 4258, 'organizacion': 2932, 'conteos': 923, 'conjuntamente': 863, 'noche': 2813, 'saber': 3700, 'consiguen': 894, 'acercado': 47, 'varios': 4300, 'agotaron': 128, 'usando': 4216, 'pfiezer': 3114, 'gusta': 1914, 'necio': 2779, 'obligue': 2865, 'miedo': 2629, 'parece': 2989, 'doctora': 1335, 'angelica': 229, 'valencia': 4284, 'hablo': 1946, 'ultimas': 4189, 'horas': 2017, 'excelente': 1673, 'acuerdo': 68, 'ocurrido': 2881, 'casos': 625, 'razon': 3508, 'hola': 2010, 'fernando': 1764, 'completaron': 799, 'habilitados': 1932, 'red': 3574, 'conseguir': 882, 'barranquilla': 448, 'cualquiera': 1020, 'recibieron': 3537, 'distintas': 1323, 'buenaventura': 519, 'recomiendo': 3559, 'ningun': 2806, 'efecto': 1396, 'secundario': 3777, 'sera': 3814, 'poder': 3178, 'cancun': 581, 'arruinen': 338, 'viaje': 4359, 'dispuestos': 1317, 'faenza': 1727, 'teatro': 4010, 'paz': 3026, 'madres': 2462, 'postparto': 3250, 'habra': 1947, 'sr': 3926, 'traer': 4126, 'produzca': 3342, 'trombos': 4163, 'mata': 2545, 'trombo': 4159, 'asesina': 348, 'equipo': 1523, 'cientificos': 692, 'identifica': 2048, 'posible': 3242, 'origen': 2938, 'vinculados': 4378, 'paso': 3018, 'obligatoriamente': 2862, 'incompetente': 2094, 'rechazaron': 3527, 'beneficios': 468, 'supuestos': 3975, 'sentido': 3809, 'excelenta': 1672, 'demasiado': 1168, 'puso': 3426, 'afueras': 112, 'cartagena': 617, 'capital': 595, 'quedo': 3447, 'departamento': 1182, 'traen': 4125, 'pereza': 3082, 'testeadas': 4059, 'incluyendo': 2091, 'domingo': 1348, 'exitosa': 1692, 'atentos': 379, 'entregas': 1509, 'anunciadas': 259, 'pronto': 3356, 'contamos': 920, 'suficiente': 3949, 'evitar': 1669, 'perder': 3067, 'plata': 3163, 'recorriendo': 3568, 'esten': 1625, 'super': 3964, 'agil': 120, 'estuve': 1651, 'centro': 650, 'comercial': 776, 'carrera': 614, 'rapido': 3500, 'inmaculada': 2150, 'compañero': 790, 'mejor': 2580, 'pierda': 3142, 'nuevos': 2845, 'durante': 1376, 'senti': 3808, 'huesos': 2031, 'cabeza': 536, 'congestion': 860, 'nasal': 2761, 'fiebre': 1768, 'siguiente': 3848, 'leve': 2361, 'parestesia': 2993, 'nuevo': 2844, 'relacionan': 3607, 'informe': 2136, 'farmacovigilancia': 1751, 'aemps': 93, 'apunta': 312, 'mielitis': 2631, 'transversa': 4143, 'reaccion': 3512, 'adversa': 90, 'tras': 4144, 'inyecciones': 2226, 'abuelito': 19, 'contagiarlo': 914, 'padre': 2957, 'vacuno': 4278, 'tampoco': 3992, 'escasa': 1543, 'vez': 4353, 'traigan': 4129, 'rio': 3675, 'falta': 1735, 'carpa': 613, 'colsanitas': 764, 'decubriendo': 1134, 'posibles': 3244, 'mortiferos': 2710, 'di': 1249, 'positivo': 3245, 'espero': 1589, 'ayude': 426, 'superar': 3966, 'ponganse': 3219, 'salvan': 3741, 'vidas': 4364, 'autocuidado': 394, 'clave': 723, 'enfrentar': 1486, 'consulta': 903, 'puedan': 3401, 'disposicion': 1314, 'combinar': 768, 'comorbilidades': 783, 'simplemente': 3854, 'confian': 847, 'siquiera': 3875, 'volteando': 4398, 'mira': 2663, 'supersalud': 3969, 'servicio': 3824, 'suba': 3932, 'lento': 2355, 'tomar': 4103, 'licor': 2370, 'justo': 2308, 'quinces': 3480, 'ando': 225, 'lado': 2321, 'usarla': 4221, 'negligencia': 2785, 'negociar': 2790, 'leves': 2362, 'crei': 995, 'pasaria': 3012, 'peor': 3062, 'recomendada': 3550, 'decidi': 1123, 'obtuve': 2872, 'madrugue': 2464, 'esperen': 1588, 'combinen': 770, 'mezclar': 2626, 'paciencia': 2952, 'requieran': 3624, 'amigo': 211, 'lupus': 2458, 'minimo': 2650, 'riesgo': 3671, 'implicaba': 2070, 'irresponsable': 2240, 'ponga': 3214, 'hecho': 1985, 'sobra': 3890, 'respeten': 3636, 'fabricante': 1722, 'matan': 2547, 'absolutamente': 15, 'organizado': 2935, 'alcajica': 153, 'pasa': 3004, 'prefiere': 3261, 'fiesta': 1770, 'compras': 811, 'diciembre': 1265, 'celebraciones': 645, 'vigilar': 4373, 'vida': 4363, 'suyos': 3984, 'pongaselas': 3223, 'abuela': 16, 'expliquele': 1709, 'incautos': 2087, 'esperan': 1579, 'meterse': 2613, 'negocio': 2792, 'dorado': 1358, 'dan': 1081, 'quieres': 3474, 'riesgoso': 3673, 'estando': 1614, 'embarazada': 1430, 'hija': 1999, 'situacion': 3885, 'sabemos': 3698, 'ultimamente': 4188, 'calor': 559, 'estado': 1609, 'paguen': 2964, 'perfecta': 3083, 'tienes': 4071, 'popayan': 3229, 'vacaciones': 4232, 'nadie': 2757, 'calarca': 551, 'desee': 1216, 'hizo': 2008, 'jeje': 2266, 'locura': 2442, 'importa': 2072, 'diga': 1275, 'creo': 997, 'trata': 4145, 'rechazar': 3526, 'preferir': 3260, 'noticiero': 2828, 'evidencia': 1666, 'cientifica': 689, 'prohibieron': 3349, 'opciones': 2915, 'vulnerables': 4418, 'pregunta': 3263, 'deberian': 1109, 'darles': 1087, 'prioridad': 3318, 'reciban': 3531, 'claudialopez': 721, 'pocos': 3176, 'quiren': 3482, 'respeto': 3637, 'bogotanos': 490, 'acerque': 51, 'indicaron': 2110, 'ibague': 2043, 'encuentras': 1467, 'discotecas': 1302, 'llenas': 2416, 'vacios': 4234, 'ayudas': 425, 'humanitarias': 2035, 'bobo': 483, 'hago': 1965, 'raro': 3502, 'otro': 2944, 'analgesico': 217, 'paisas': 2966, 'salieron': 3723, 'mayoritariamente': 2559, 'loca': 2438, 'testeos': 4061, 'antes': 248, 'lanzarlas': 2326, 'retardado': 3657, 'defiende': 1138, 'revolucion': 3664, 'cuaja': 1016, 'mamerto': 2494, 'metro': 2620, 'vine': 4379, 'city': 709, 'comfama': 777, 'sura': 3976, 'pondre': 3196, 'angustiosos': 232, 'recorridos': 3567, 'exito': 1691, 'donaciones': 1352, 'suman': 3959, 'vendieron': 4324, 'cañengos': 640, 'jugada': 2294, 'desabastecimiento': 1191, 'corresponden': 966, 'consta': 901, 'basicamente': 451, 'momentos': 2692, 'preguntamos': 3264, 'oposicion': 2925, 'salvador': 3739, 'marcha': 2521, 'insta': 2181, 'vacunarce': 4256, 'haciendo': 1961, 'increible': 2101, 'aplica': 272, 'pico': 3125, 'cedula': 643, 'agotar': 127, 'existencias': 1689, 'restriccion': 3649, 'edades': 1390, 'aplique': 293, 'famosa': 1741, 'desanimos': 1195, 'correcto': 963, 'check': 665, 'fuerza': 1814, 'pagando': 2959, 'masivamente': 2543, 'oponiendo': 2923, 'insistiendo': 2177, 'negociazo': 2791, 'cuanto': 1025, 'dinero': 1291, 'habran': 1948, 'ventas': 4337, 'jum': 2301, 'colombiano': 760, 'ellos': 1425, 'afectados': 99, 'expera': 1693, 'berraco': 469, 'aportado': 295, 'escases': 1546, 'yopal': 4434, 'ademas': 75, 'vienen': 4369, 'anoche': 235, 'arribaron': 335, 'laboratorio': 2318, 'bilateral': 473, 'has': 1973, 'rumba': 3689, 'sencillo': 3804, 've': 4307, 'cercano': 654, 'pide': 3128, 'listoasi': 2390, 'facil': 1724, 'oficial': 2885, 'podido': 3183, 'descargar': 1204, 'certificado': 658, 'aplicada': 274, 'sede': 3780, 'afuera': 111, 'lote': 2449, 'permitira': 3097, 'seguir': 3785, 'avanzando': 409, 'completan': 797, 'suponia': 3972, 'recibiremos': 3542, 'departamentos': 1183, 'ips': 2232, 'diferente': 1272, 'negar': 2781, 'posibilidad': 3241, 'astra': 359, 'zeneca': 4438, 'final': 1774, 'entrante': 1505, 'tendremos': 4024, 'valleduparcity': 4289, 'fecha': 1756, 'aplicado': 276, 'adelante': 74, 'secsaludvpar': 3770, 'arriba': 331, 'mañna': 2561, 'distribuyendo': 1330, 'frente': 1797, 'delta': 1160, 'llegando': 2405, 'vengan': 4331, 'dosisdeesperanza': 1362, 'afortunada': 105, 'pudieron': 3396, 'nosotros': 2824, 'organizada': 2934, 'rapida': 3498, 'cc': 641, 'importante': 2075, 'sepan': 3811, 'franciscanas': 1790, 'coma': 765, 'cuentos': 1041, 'suministrando': 3962, 'soledad': 3905, 'entes': 1499, 'gubernamentales': 1908, 'deja': 1142, 'debilitado': 1114, 'error': 1535, 'haberme': 1926, 'secundarios': 3778, 'laboratorios': 2319, 'mecanismos': 2564, 'aplaudir': 270, 'dure': 1378, 'estrategia': 1639, 'manipular': 2510, 'ojo': 2896, 'aguapanela': 137, 'pa': 2950, 'defensas': 1137, 'raros': 3503, 'somos': 3915, 'berracos': 470, 'alguno': 178, 'aranjuez': 318, 'ventajas': 4336, 'acerca': 46, 'popular': 3230, 'miyertorresa': 2677, 'llamado': 2393, 'despache': 1234, 'continuidad': 928, 'vocesysonidos': 4397, 'aeropuerto': 94, 'poniendo': 3226, 'desorden': 1233, 'mompos': 2693, 'menor': 2587, 'quedan': 3439, 'sigue': 3846, 'maluco': 2488, 'destinaran': 1240, 'territorio': 4055, 'impulsar': 2084, 'santa': 3755, 'marta': 2534, 'seguiran': 3786, 'impulsando': 2083, 'ejecucion': 1407, 'testeada': 4058, 'vecino': 4312, 'fallecio': 1729, 'respiratoria': 3639, 'pusieran': 3423, 'conociendo': 874, 'fallidos': 1730, 'estara': 1616, 'principalmente': 3315, 'distribuyan': 1329, 'distintos': 1325, 'tropiezos': 4165, 'encontradas': 1461, 'pereira': 3081, 'anglo': 230, 'ley': 2363, 'nulos': 2846, 'espere': 1586, 'esperaban': 1577, 'llevan': 2420, 'revelan': 3662, 'requieren': 3626, 'vacunando': 4248, 'acaben': 35, 'ese': 1562, 'sector': 3771, 'poblicion': 3170, 'queda': 3434, 'quedar': 3441, 'china': 673, 'desastres': 1202, 'ten': 4019, 'agotada': 125, 'jhonson': 2268, 'producir': 3339, 'coagulos': 731, 'canceladas': 577, 'abogados': 7, 'listos': 2391, 'demandar': 1164, 'irresponsabilidad': 2239, 'obligatoriedad': 2864, 'conocimiento': 875, 'reacciones': 3514, 'irresponsables': 2241, 'junto': 2304, 'combinando': 767, 'concienca': 832, 'empatia': 1439, 'hacia': 1960, 'sean': 3768, 'responsables': 3645, 'sale': 3715, 'echan': 1383, 'culpa': 1057, 'primer': 3306, 'avance': 402, 'departamental': 1181, 'estima': 1628, 'principios': 3317, 'nodal': 2816, 'estres': 1640, 'dejando': 1145, 'calvo': 560, 'cayendo': 638, 'pelo': 3049, 'unico': 4200, 'completa': 795, 'comunicacion': 824, 'informen': 2137, 'llegar': 2406, 'averiguando': 413, 'pasto': 3023, 'engorroso': 1488, 'terminos': 4053, 'sacando': 3710, 'costa': 975, 'arribaria': 334, 'maluca': 2487, 'enfermarme': 1476, 'vuelvo': 4417, 're': 3511, 'mala': 2471, 'buscar': 532, 'manera': 2507, 'afectar': 100, 'paciente': 2954, 'especial': 1568, 'pruebas': 3384, 'demuestran': 1174, 'sufrio': 3955, 'cardiaca': 602, 'colocarse': 757, 'dispobible': 1309, 'cosa': 973, 'diablo': 1251, 'weon': 4421, 'vacunaron': 4262, 'rumores': 3690, 'siga': 3841, 'estudiar': 1645, 'tranquilo': 4139, 'respetemos': 3635, 'cojamos': 737, 'seriedad': 3821, 'tema': 4014, 'puserion': 3422, 'igual': 2058, 'hijo': 2000, 'escuela': 1560, 'querian': 3458, 'colocarle': 753, 'vacunamos': 4246, 'jamas': 2255, 'ofrecen': 2888, 'vainas': 4280, 'pal': 2968, 'guaro': 1904, 'convivir': 951, 'completos': 802, 'venezolano': 4328, 'vacunandose': 4250, 'nuestros': 2840, 'compatriotas': 789, 'aprovechan': 304, 'dejan': 1144, 'quitar': 3490, 'pierdan': 3143, 'oportunidad': 2924, 'inmunizarse': 2163, 'necesarios': 2769, 'corta': 970, 'ambito': 206, 'vacunan': 4247, 'vaina': 4279, 'republica': 3623, 'empiecen': 1445, 'corinto': 961, 'atencion': 375, 'monda': 2694, 'vale': 4282, 'tranquilidad': 4137, 'vacunda': 4273, 'tranquilos': 4140, 'cuidandonos': 1050, 'prevenir': 3304, 'noticia': 2826, 'oms': 2911, 'afirman': 104, 'seria': 3819, 'necesaria': 2766, 'brindar': 510, 'seguridad': 3796, 'pacientes': 2955, 'contexto': 925, 'persona': 3104, 'desinforme': 1229, 'incluso': 2089, 'john': 2279, 'fuere': 1810, 'mejore': 2584, 'considerablemente': 887, 'rinitis': 3674, 'alergica': 170, 'dependia': 1185, 'cetirizina': 660, 'tomarla': 4104, 'mejorado': 2582, 'exigir': 1684, 'pongasela': 3222, 'lejitos': 2350, 'estuviera': 1652, 'trabado': 4116, 'sinvergüenzada': 3873, 'pura': 3419, 'perdedera': 3066, 'ayudo': 430, 'alergia': 169, 'polvo': 3193, 'vuelto': 4415, 'sufrir': 3956, 'suegra': 3943, 'astrazenca': 361, 'quede': 3445, 'tirado': 4080, 'encuentran': 1466, 'puedes': 3404, 'estadio': 1604, 'aventura': 412, 'premier': 3272, 'melendez': 2586, 'cañaveralejo': 639, 'ie': 2054, 'carlos': 609, 'garces': 1838, 'encuentro': 1468, 'siendo': 3838, 'reservada': 3628, 'hptas': 2027, 'dejo': 1154, 'muerto': 2732, 'echenselo': 1387, 'perro': 3101, 'guacari': 1898, 'pasarse': 3015, 'mario': 2533, 'procesadas': 3333, 'vacunese': 4277, 'charla': 663, 'congestionado': 861, 'ponerte': 3211, 'gustas': 1919, 'abunda': 24, 'instantes': 2183, 'armenia': 326, 'eternidad': 1659, 'invente': 2211, 'segura': 3794, 'continuamos': 927, 'jornadas': 2283, 'integral': 2184, 'habitantes': 1936, 'calle': 557, 'localidad': 2439, 'usaquen': 4217, 'incluyen': 2090, 'duchas': 1367, 'alimentacion': 181, 'algun': 175, 'conocido': 872, 'dile': 1286, 'vaya': 4304, 'crr': 1011, 'chino': 675, 'jajajajaja': 2253, 'maricadas': 2530, 'compadre': 784, 'diabluras': 1252, 'area': 321, 'metropolitana': 2622, 'distinto': 1324, 'aplican': 278, 'hacemos': 1952, 'hueso': 2030, 'mientan': 2632, 'apenas': 268, 'necesitan': 2775, 'tardes': 4003, 'sola': 3902, 'alcanzariamos': 160, 'verdad': 4340, 'borrega': 496, 'basta': 452, 'vivir': 4393, 'cuanta': 1023, 'riofrio': 3676, 'aplicarle': 287, 'guerrilla': 1910, 'ejercito': 1412, 'acaba': 28, 'sabandijas': 3696, 'asegura': 343, 'pasara': 3011, 'cuidado': 1046, 'responsabilidad': 3643, 'esfuerzo': 1563, 'borrego': 497, 'haciendose': 1962, 'hacen': 1953, 'ordene': 2930, 'cansados': 586, 'gestionen': 1867, 'facilitarle': 1726, 'ejerzan': 1413, 'queden': 3446, 'oxford': 2947, 'detalles': 1242, 'quedamos': 3438, 'mamando': 2492, 'den': 1176, 'pitbull': 3154, 'tonto': 4108, 'potencias': 3253, 'beneficiadas': 464, 'hiciero': 1995, 'vea': 4308, 'tercermundistas': 4043, 'gustan': 1916, 'incompleta': 2095, 'salgo': 3719, 'habian': 1928, 'peligrosa': 3046, 'metiendo': 2614, 'joda': 2272, 'ron': 3684, 'guayabo': 1906, 'manito': 2513, 'viejo': 4365, 'usted': 4223, 'respetos': 3638, 'municipios': 2744, 'barata': 446, 'gestionado': 1865, 'ponerle': 3203, 'asistir': 354, 'partido': 3002, 'seleccion': 3800, 'valio': 4286, 'pena': 3051, 'medio': 2578, 'jajaja': 2249, 'recomiendan': 3558, 'mio': 2660, 'mrdna': 2717, 'realidad': 3517, 'tipo': 4078, 'juegan': 2290, 'sufren': 3952, 'cardiacas': 603, 'hermana': 1989, 'mamertos': 2495, 'creen': 991, 'pelicula': 3043, 'bobos': 484, 'avanza': 403, 'forma': 1785, 'colombianos': 761, 'recibido': 3535, 'gestionar': 1866, 'entendi': 1494, 'cuidense': 1054, 'hospitalizado': 2023, 'malos': 2483, 'ingerir': 2140, 'sustancias': 3980, 'alucinogenas': 198, 'llevaran': 2424, 'hermanos': 1991, 'campesinos': 573, 'zona': 4440, 'rural': 3691, 'boyaca': 502, 'amiga': 209, 'sanidad': 3750, 'miocarditis': 2662, 'pericarditis': 3088, 'vasculitis': 4301, 'cutanea': 1074, 'supuestamente': 3974, 'verle': 4349, 'car': 596, 'digan': 1276, 'repetir': 3615, 'meter': 2608, 'despelote': 1235, 'avanzada': 404, 'monteria': 2701, 'hable': 1944, 'tenian': 4034, 'quisiera': 3484, 'programa': 3346, 'saco': 3712, 'quisio': 3486, 'hpta': 2026, 'parecen': 2990, 'mejores': 2585, 'comentarios': 774, 'negativos': 2784, 'podrian': 3187, 'informar': 2133, 'sabes': 3701, 'disintos': 1307, 'dado': 1079, 'suerte': 3947, 'cuatro': 1030, 'caracol': 598, 'llenan': 2414, 'boca': 485, 'gripa': 1894, 'llama': 2392, 'limon': 2380, 'uno': 4206, 'aguantarme': 135, 'eche': 1386, 'bola': 491, 'abuelitos': 20, 'ambos': 207, 'seres': 3818, 'queridos': 3460, 'protegido': 3370, 'pasen': 3017, 'pagina': 2962, 'anten': 244, 'agotadas': 126, 'arriban': 332, 'proximos': 3382, 'inmunizacion': 2155, 'terminado': 4046, 'jugar': 2296, 'trampas': 4134, 'hechas': 1984, 'humano': 2036, 'santander': 3756, 'quilichao': 3476, 'lugar': 2453, 'victima': 4362, 'sigan': 3842, 'apta': 310, 'humanos': 2037, 'acercarte': 49, 'desarrollando': 1197, 'salio': 3726, 'matame': 2546, 'amor': 213, 'pudo': 3398, 'martes': 2535, 'llevara': 2423, 'miercoles': 2635, 'porqueria': 3239, 'perfecto': 3085, 'lindo': 2382, 'cumplo': 1071, 'activo': 60, 'tanta': 3994, 'energia': 1469, 'pongase': 3221, 'cualquiere': 1021, 'glorioso': 1873, 'verlo': 4350, 'morat': 2705, 'pierdo': 3144, 'efectiva': 1392, 'padres': 2958, 'tuvieron': 4177, 'vivido': 4392, 'juan': 2286, 'quejandose': 3452, 'temor': 4017, 'quimicos': 3479, 'conmigo': 866, 'aprovechen': 306, 'gratis': 1890, 'privilegio': 3322, 'saliendo': 3722, 'desinformacion': 1228, 'malito': 2479, 'enfermar': 1475, 'desanimado': 1193, 'realizados': 3518, 'rendimiento': 3612, 'conozca': 876, 'reporte': 3619, 'malviaje': 2489, 'perdonaran': 3080, 'farmacos': 1750, 'monodosis': 2698, 'avanzan': 408, 'negociaciones': 2788, 'jodan': 2273, 'tratando': 4149, 'felicidad': 1758, 'abulita': 23, 'estabamos': 1599, 'nerviosos': 2796, 'tunja': 4171, 'sobrepasa': 3894, 'porciento': 3234, 'inmunizados': 2159, 'suspender': 3978, 'aztrazeneca': 436, 'insiste': 2174, 'mentira': 2595, 'efectivas': 1393, 'inmunizan': 2160, 'criminales': 1000, 'vacunatecontralacovid': 4271, 'muere': 2727, 'anuncio': 261, 'farmaceutica': 1746, 'adquisicion': 86, 'bodegas': 487, 'provenientes': 3376, 'clima': 725, 'cansado': 585, 'mineriamoderna': 2648, 'cnlgold': 730, 'recursos': 3573, 'naturales': 2762, 'entidad': 1500, 'veces': 4310, 'hijos': 2001, 'traves': 4153, 'estados': 1610, 'unidos': 4201, 'presentas': 3290, 'vacunarte': 4265, 'acude': 65, 'medico': 2574, 'afecta': 96, 'sereno': 3817, 'esperamos': 1578, 'juntos': 2305, 'escuchen': 1558, 'salva': 3737, 'muchachos': 2720, 'quiten': 3491, 'obligatoria': 2861, 'obligarnos': 2859, 'libertad': 2366, 'expresion': 1714, 'libre': 2368, 'albedrio': 151, 'esquivoquen': 1596, 'todavia': 4095, 'fe': 1755, 'echaron': 1384, 'confenalco': 843, 'hubo': 2029, 'llevaron': 2428, 'rcn': 3510, 'decian': 1121, 'resulta': 3651, 'secuelas': 3775, 'pacientas': 2953, 'bonito': 494, 'falsedad': 1734, 'solucionen': 3913, 'carece': 606, 'comun': 822, 'propio': 3362, 'dieron': 1268, 'positivos': 3246, 'parecer': 2991, 'dicha': 1263, 'necesita': 2771, 'respaldo': 3633, 'saludos': 3736, 'muriendo': 2745, 'presenta': 3289, 'morbilidades': 2706, 'ambas': 204, 'cuantos': 1026, 'debo': 1117, 'provocada': 3378, 'real': 3516, 'pone': 3199, 'viable': 4356, 'quiza': 3492, 'colocar': 751, 'termine': 4050, 'jajajajaa': 2252, 'caballero': 535, 'avisan': 415, 'bla': 481, 'mismo': 2670, 'enferma': 1473, 'susto': 3982, 'ingreso': 2141, 'farmacia': 1749, 'consigue': 893, 'lejito': 2349, 'distancia': 1319, 'controlar': 941, 'jansse': 2259, 'servir': 3826, 'supone': 3970, 'imponer': 2071, 'morir': 2708, 'buscan': 529, 'matarlo': 2550, 'utilizada': 4228, 'lograban': 2444, 'virus': 4385, 'perdonan': 3079, 'inventos': 2214, 'chinos': 676, 'cuidadoso': 1048, 'peores': 3063, 'insisten': 2175, 'come': 771, 'novio': 2835, 'animo': 233, 'personalmente': 3106, 'malestares': 2478, 'decia': 1120, 'salle': 3728, 'nariño': 2760, 'escasaz': 1544, 'criterio': 1004, 'preferible': 3259, 'aquella': 314, 'opinion': 2919, 'gobernacion': 1874, 'cauca': 631, 'estadisticamente': 1607, 'pongale': 3215, 'chimbeen': 672, 'habitante': 1935, 'sufrido': 3953, 'ataques': 374, 'cardiacos': 605, 'habla': 1939, 'silencio': 3851, 'miles': 2639, 'alejo': 167, 'tome': 4107, 'afirma': 103, 'logra': 2443, 'minimizar': 2649, 'impactos': 2066, 'creados': 986, 'antecedentes': 242, 'renales': 3611, 'hayan': 1980, 'pueda': 3400, 'acelerar': 41, 'corazon': 957, 'ganoso': 1834, 'tenerla': 4028, 'seguidos': 3783, 'confirman': 854, 'interno': 2197, 'neiva': 2793, 'documentacion': 1337, 'mandarin': 2504, 'arribaran': 333, 'tontos': 4109, 'dejaron': 1151, 'invento': 2213, 'aquello': 315, 'fuese': 1816, 'creado': 985, 'daño': 1096, 'traumas': 4152, 'belleza': 461, 'preparando': 3285, 'velorio': 4316, 'viniera': 4381, 'explican': 1705, 'adversos': 91, 'ayuda': 420, 'ucis': 4184, 'ayudemos': 428, 'desespero': 1222, 'recibira': 3541, 'pzifer': 3429, 'negociacion': 2787, 'total': 4114, 'adicionales': 77, 'perdiccion': 3070, 'control': 939, 'masas': 2538, 'alegra': 163, 'mamita': 2497, 'caminar': 569, 'tranquila': 4135, 'mascotas': 2541, 'otros': 2945, 'temas': 4015, 'distribuidas': 1327, 'sausalito': 3764, 'moleste': 2689, 'emputa': 1453, 'aberracion': 5, 'dato': 1093, 'mitad': 2675, 'asegurate': 346, 'llevar': 2422, 'podremos': 3185, 'region': 3592, 'caribe': 608, 'veo': 4338, 'eje': 1406, 'cafetero': 545, 'perdido': 3073, 'oigan': 2894, 'milimetros': 2641, 'colocan': 748, 'pobres': 3172, 'confirmo': 856, 'zarzal': 4437, 'yaaaa': 4429, 'generadas': 1845, 'invima': 2220, 'aprobar': 301, 'bioseguridad': 479, 'necesarias': 2767, 'aprobada': 300, 'vayase': 4306, 'lavan': 2337, 'cerebro': 655, 'vuelven': 4416, 'zombies': 4439, 'dolores': 1345, 'segundo': 3792, 'twitter': 4181, 'teorias': 4039, 'conspirativas': 900, 'top': 4110, 'roban': 3679, 'claudia': 720, 'getionele': 1868, 'necesidad': 2770, 'ciudadanos': 712, 'venimos': 4334, 'pidiendo': 3130, 'especular': 1575, 'raras': 3501, 'hablan': 1940, 'mierda': 2636, 'guarito': 1903, 'viva': 4389, 'preocupe': 3282, 'inventa': 2205, 'meta': 2606, 'terror': 4056, 'deje': 1152, 'dolares': 1339, 'felipe': 1759, 'parque': 2996, 'avenida': 411, 'interesa': 2190, 'primeros': 3311, 'politicos': 3191, 'corrupcion': 969, 'empresa': 1450, 'exige': 1681, 'problemas': 3331, 'recomendadas': 3551, 'perdiendo': 3074, 'pronuncia': 3357, 'vecinos': 4313, 'hospitalizados': 2024, 'estudiantes': 1644, 'preocupando': 3279, 'tantas': 3995, 'guerra': 1909, 'rusa': 3692, 'estragos': 1638, 'vueltas': 4414, 'dicho': 1264, 'complementa': 794, 'distinta': 1322, 'enfermera': 1482, 'rechazen': 3529, 'hables': 1945, 'ansias': 239, 'florida': 1782, 'blanca': 482, 'puerto': 3408, 'contento': 921, 'estaban': 1600, 'sacate': 3711, 'mueren': 2728, 'consigo': 892, 'empezaron': 1443, 'muriendose': 2746, 'medios': 2579, 'pronuncian': 3358, 'respecto': 3634, 'ponganme': 3218, 'contrato': 937, 'insomnio': 2180, 'mercado': 2600, 'azucar': 437, 'alto': 195, 'rionegro': 3677, 'agilizar': 123, 'mantengo': 2517, 'fuerzas': 1815, 'digo': 1281, 'joderlo': 2276, 'tia': 4065, 'conspiraciones': 898, 'jajajaj': 2250, 'internet': 2196, 'esposo': 1593, 'escuchado': 1554, 'suarez': 3930, 'podria': 3186, 'explicar': 1706, 'xenofobia': 4425, 'empieza': 1446, 'inventarse': 2210, 'peliculas': 3044, 'mezclan': 2624, 'jueguen': 2292, 'duque': 1373, 'cumplido': 1067, 'perfectamente': 3084, 'cada': 539, 'montones': 2703, 'militares': 2643, 'batallon': 455, 'entrar': 1506, 'chile': 669, 'cambia': 562, 'humor': 2040, 'altera': 193, 'nervioso': 2795, 'avanzados': 406, 'modalidad': 2678, 'temo': 4016, 'evolucionar': 1670, 'estresa': 1641, 'recuerdo': 3570, 'asunto': 371, 'antioquia': 253, 'tenido': 4035, 'asuste': 373, 'nacimos': 2753, 'venga': 4330, 'solicitado': 3906, 'fruizgomezp': 1805, 'solicitan': 3907, 'sucursal': 3941, 'cielo': 687, 'obviamente': 2873, 'previenes': 3305, 'aprovecha': 303, 'lee': 2343, 'asustado': 372, 'calmese': 558, 'gastando': 1839, 'comprando': 809, 'ayuden': 429, 'apliquen': 294, 'portafolio': 3240, 'alrededor': 189, 'juanpa': 2288, 'experiencia': 1694, 'hecha': 1983, 'arrebatarnos': 328, 'prefiero': 3262, 'hierbas': 1998, 'andar': 223, 'aplicandome': 280, 'contagios': 919, 'enfermarte': 1479, 'acordaba': 58, 'arme': 325, 'escandalo': 1541, 'argumentos': 323, 'comprobadas': 816, 'citan': 706, 'subir': 3936, 'niveles': 2809, 'anticuerpos': 250, 'idiotez': 2052, 'porcino': 3235, 'obvio': 2874, 'lleven': 2431, 'metropolis': 2621, 'piden': 3129, 'imposible': 2078, 'leer': 2344, 'cierto': 694, 'entretiene': 1510, 'visaje': 4386, 'maten': 2552, 'cual': 1017, 'idea': 2046, 'intriga': 2201, 'saca': 3707, 'veridica': 4346, 'sitio': 3883, 'parkinson': 2994, 'generado': 1846, 'africa': 109, 'pienso': 3137, 'perdio': 3077, 'pondran': 3195, 'procede': 3332, 'cordoba': 959, 'satisface': 3762, 'decididos': 1124, 'cumplen': 1066, 'funcion': 1820, 'novia': 2833, 'pusimos': 3425, 'vivos': 4396, 'refurerzo': 3587, 'pitalito': 3153, 'insisto': 2178, 'pana': 2975, 'mami': 2496, 'listas': 2388, 'jose': 2284, 'contagiados': 911, 'niega': 2803, 'piensa': 3135, 'suelto': 3944, 'tio': 4076, 'vacunaran': 4255, 'domicilio': 1346, 'chinas': 674, 'ey': 1720, 'jode': 2274, 'pensar': 3059, 'afectada': 97, 'trombosis': 4164, 'asocian': 355, 'choca': 682, 'webon': 4420, 'pronunciara': 3359, 'ocultandose': 2879, 'choco': 683, 'olvidado': 2906, 'aja': 147, 'eran': 1532, 'principales': 3314, 'malas': 2472, 'busquen': 533, 'excusasa': 1678, 'estimado': 1630, 'meterle': 2611, 'enfermando': 1474, 'excuse': 1679, 'calidad': 554, 'ustedes': 4224, 'chismes': 680, 'crean': 987, 'encarga': 1458, 'darme': 1088, 'llano': 2398, 'grande': 1888, 'dirian': 1299, 'ancestros': 220, 'trucos': 4166, 'jefes': 2265, 'conectarnos': 838, 'nuestra': 2837, 'perdicion': 3071, 'vacunen': 4275, 'arruina': 337, 'miren': 2666, 'segundos': 3793, 'peleando': 3041, 'casanare': 622, 'quedado': 3436, 'creyendo': 998, 'impiden': 2067, 'europa': 1662, 'prohibido': 3348, 'info': 2126, 'miley': 2640, 'cirus': 703, 'propia': 3361, 'joder': 2275, 'humilde': 2038, 'genere': 1853, 'pesimismo': 3111, 'consumir': 907, 'marihuana': 2532, 'acabas': 33, 'jajajaja': 2251, 'tengamos': 4029, 'pastillas': 3021, 'cuantas': 1024, 'consientes': 889, 'dara': 1084, 'confiamos': 846, 'expliquen': 1710, 'llegado': 2402, 'trae': 4124, 'trabaja': 4117, 'cartel': 619, 'itagüi': 2243, 'paliar': 2973, 'crisis': 1002, 'droguerias': 1366, 'metieron': 2615, 'tantos': 3997, 'ocultan': 2878, 'mentirle': 2597, 'trabajador': 4118, 'conocidos': 873, 'implementar': 2068, 'dedos': 1135, 'regalen': 3589, 'quiera': 3469, 'guaviare': 1905, 'generando': 1849, 'malestaes': 2476, 'vivo': 4395, 'incomprensible': 2097, 'recibiendo': 3536, 'profesor': 3344, 'historia': 2007, 'murio': 2748, 'explicaciones': 1704, 'piensan': 3136, 'esperandoooo': 1581, 'meras': 2599, 'pendejadas': 3054, 'doy': 1365, 'agua': 132, 'verla': 4348, 'sufre': 3951, 'sindrome': 3859, 'dawn': 1095, 'tomado': 4100, 'mercar': 2601, 'claro': 717, 'comisiones': 779, 'maldito': 2474, 'genocida': 1856, 'vence': 4319, 'tengan': 4030, 'anduve': 226, 'buscandola': 531, 'util': 4225, 'vencerse': 4320, 'culo': 1056, 'chimbada': 670, 'caras': 601, 'condicion': 836, 'compatibilidad': 787, 'recurrir': 3572, 'debido': 1112, 'confio': 850, 'olimpica': 2904, 'declaro': 1132, 'fan': 1743, 'nombre': 2817, 'feo': 1762, 'querer': 3456, 'burro': 527, 'lea': 2341, 'redes': 3575, 'sociales': 3900, 'necesitados': 2773, 'humildes': 2039, 'brava': 505, 'solamente': 3903, 'cansa': 583, 'publicar': 3390, 'modernas': 2683, 'duele': 1372, 'marica': 2528, 'cae': 541, 'incumplido': 2102, 'existencia': 1688, 'certeza': 657, 'conseguirla': 884, 'eh': 1405, 'emitio': 1436, 'directriz': 1298, 'anticovid': 249, 'utilizar': 4229, 'fino': 1778, 'ficha': 1767, 'tecnica': 4011, 'spikevax': 3924, 'publicada': 3388, 'web': 4419, 'europea': 1663, 'establecido': 1602, 'eficacia': 1398, 'adolescentes': 82, 'dispone': 1310, 'datos': 1094, 'cafe': 544, 'venta': 4335, 'dijo': 1285, 'confien': 849, 'gasten': 1840, 'compren': 813, 'prohibir': 3350, 'acaban': 30, 'insistan': 2173, 'famosos': 1742, 'llegara': 2407, 'agendar': 117, 'citas': 707, 'recorrido': 3566, 'inventar': 2208, 'artesanos': 340, 'abrir': 13, 'publiquen': 3393, 'retweet': 3660, 'falsa': 1732, 'profesionales': 3343, 'conocedores': 869, 'encanta': 1455, 'armar': 324, 'chisme': 679, 'suave': 3931, 'duro': 1382, 'pedir': 3033, 'cita': 704, 'masiva': 2542, 'arriero': 336, 'deseen': 1217, 'estaba': 1598, 'priorizada': 3320, 'etapa': 1655, 'autoinmune': 395, 'inmunosupresores': 2167, 'hipertension': 2003, 'hipotiroidismo': 2006, 'reciben': 3533, 'clini': 728, 'abran': 9, 'tatuar': 4007, 'mismos': 2673, 'basura': 454, 'bares': 447, 'guevonada': 1911, 'pones': 3213, 'hielo': 1997, 'hice': 1993, 'doctoras': 1336, 'lindas': 2381, 'inyectarme': 2228, 'ellas': 1423, 'golpe': 1878, 'unas': 4193, 'cervecitas': 659, 'caeran': 543, 'trabajar': 4121, 'tuviste': 4178, 'ñeros': 4443, 'perros': 3102, 'señorita': 3833, 'monidesde': 2697, 'agosto': 124, 'agenda': 115, 'descubri': 1212, 'embarazo': 1432, 'par': 2983, 'consecuencias': 880, 'estipulado': 1631, 'ayudaaa': 421, 'autorizacion': 398, 'camino': 570, 'corresponde': 965, 'luz': 2459, 'contraindicaciones': 932, 'atienden': 385, 'viendo': 4367, 'putas': 3428, 'muchacha': 2719, 'veia': 4314, 'preguntaran': 3266, 'devolvieron': 1248, 'inyectar': 2227, 'prmera': 3324, 'nalga': 2758, 'quedarme': 3442, 'anuncia': 258, 'volvio': 4406, 'mandan': 2502, 'fracture': 1789, 'pierna': 3145, 'pie': 3133, 'existe': 1686, 'chia': 666, 'agendo': 119, 'asrtrazeneca': 358, 'parcial': 2988, 'pregunte': 3268, 'epssura': 1522, 'aplicare': 284, 'llegue': 2412, 'disfrutar': 1306, 'ganas': 1833, 'chupe': 685, 'llevarle': 2427, 'contraria': 933, 'crearon': 988, 'asco': 342, 'bulevar': 524, 'niza': 2810, 'importar': 2077, 'logre': 2446, 'ahahahah': 140, 'indicar': 2109, 'quedaron': 3443, 'claramente': 715, 'excusa': 1677, 'asegurar': 345, 'mire': 2665, 'tocaba': 4088, 'piratas': 3151, 'dejare': 1150, 'sello': 3801, 'particular': 3000, 'vacio': 4233, 'sintoma': 3869, 'dejara': 1148, 'vacunare': 4257, 'garantiza': 1836, 'abuelos': 22, 'quejan': 3451, 'sres': 3927, 'vrios': 4411, 'intentando': 2186, 'compensar': 793, 'alega': 162, 'suministran': 3961, 'cantidad': 590, 'afiliados': 102, 'cuestion': 1043, 'quimica': 3477, 'talvez': 3990, 'efectivo': 1395, 'made': 2460, 'in': 2085, 'polvora': 3194, 'tiza': 4086, 'mentol': 2598, 'reservas': 3630, 'aunq': 391, 'muestren': 2735, 'cifras': 696, 'sino': 3861, 'brindan': 509, 'infromacion': 2139, 'bebes': 458, 'bebe': 456, 'tension': 4038, 'toque': 4112, 'presi': 3293, 'penso': 3061, 'traido': 4128, 'ibamos': 2044, 'podre': 3184, 'escoger': 1551, 'emocion': 1437, 'aguja': 138, 'demasaido': 1166, 'muchisimo': 2722, 'fallo': 1731, 'tutela': 4174, 'jovenes': 2285, 'intentado': 2185, 'debes': 1110, 'abra': 8, 'ampliando': 216, 'intervalos': 2199, 'garantizar': 1837, 'enseguida': 1491, 'chicas': 667, 'magiasi': 2469, 'aparecer': 265, 'estabas': 1601, 'carajo': 600, 'base': 450, 'causo': 637, 'prendo': 3275, 'medicina': 2573, 'vivita': 4394, 'coleando': 742, 'finalice': 1775, 'cuarentena': 1027, 'hacerlo': 1956, 'pondrian': 3198, 'posteriormente': 3249, 'agende': 118, 'mall': 2480, 'intentar': 2187, 'cumple': 1064, 'temprano': 4018, 'sanitaseps': 3753, 'atiende': 384, 'titan': 4083, 'priorizacion': 3319, 'turno': 4172, 'asisti': 353, 'am': 202, 'habilitadas': 1931, 'amparado': 214, 'anexo': 228, 'pidieron': 3131, 'uds': 4186, 'urgente': 4211, 'escalofrios': 1540, 'atraigo': 386, 'funciona': 1821, 'porq': 3237, 'politico': 3190, 'vean': 4309, 'ganancias': 1831, 'nazivaqna': 2765, 'titere': 4084, 'mundial': 2741, 'cumbre': 1062, 'climatica': 726, 'decreto': 1133, 'demasiada': 1167, 'afortunadamnete': 107, 'profesores': 3345, 'compañeros': 791, 'coomeva': 956, 'llamarme': 2395, 'comodo': 781, 'culquier': 1059, 'publicaciones': 3387, 'chatarra': 664, 'meten': 2607, 'seamos': 3767, 'concientes': 833, 'adolorido': 84, 'gym': 1923, 'culminar': 1055, 'tramites': 4132, 'carnets': 612, 'eternas': 1658, 'debemos': 1104, 'terminar': 4048, 'pequeños': 3065, 'sinceros': 3858, 'tira': 4079, 'onda': 2913, 'verdadera': 4341, 'helados': 1986, 'vacunandome': 4249, 'traicionado': 4127, 'llevare': 2425, 'empiezen': 1448, 'trajo': 4131, 'acceder': 38, 'continua': 926, 'inmunizar': 2161, 'sinvergüenzas': 3874, 'utilianzandonos': 4226, 'testear': 4060, 'malparidas': 2484, 'conozco': 877, 'fuertes': 1813, 'mano': 2515, 'rico': 3667, 'choladito': 684, 'viajar': 4358, 'desperdiciado': 1236, 'pfizerr': 3118, 'levanto': 2360, 'ansiosa': 240, 'ponerlos': 3204, 'ofrescan': 2892, 'sabiendo': 3705, 'recorri': 3565, 'ofrecian': 2890, 'esperare': 1584, 'acabe': 34, 'chiste': 681, 'gusto': 1921, 'eficiente': 1401, 'tatuado': 4006, 'cobarde': 733, 'toman': 4101, 'agilisen': 122, 'maricada': 2529, 'agendamiento': 116, 'grave': 1891, 'matar': 2549, 'tocara': 4089, 'empiezan': 1447, 'puerta': 3406, 'pensaba': 3057, 'critica': 1006, 'odian': 2883, 'rechaza': 3523, 'vacunara': 4254, 'simple': 3853, 'prejuicios': 3271, 'regalan': 3588, 'empezar': 1442, 'peronsas': 3099, 'queriendo': 3461, 'siii': 3850, 'acompañar': 57, 'quisieron': 3485, 'cumplir': 1070, 'poquita': 3231, 'darnos': 1089, 'indigno': 2113, 'erika': 1534, 'seguido': 3782, 'odisea': 2884, 'conseguiste': 885, 'inservible': 2172, 'coloquen': 762, 'vista': 4387, 'gobiernos': 1877, 'manipularnos': 2511, 'jannsen': 2256, 'alcalde': 154, 'ultima': 4187, 'quedaba': 3435, 'congeladores': 859, 'enfermeras': 1483, 'trampa': 4133, 'cree': 990, 'babosada': 440, 'embrazo': 1435, 'matando': 2548, 'alergico': 171, 'definitivamente': 1140, 'habiendome': 1930, 'aplicarmela': 289, 'laboral': 2317, 'cochinada': 735, 'desagrado': 1192, 'empezo': 1444, 'apuro': 313, 'desesperado': 1221, 'aplicaria': 285, 'sinnovac': 3860, 'molestara': 2688, 'viniendo': 4380, 'aviso': 417, 'esperemos': 1587, 'alivie': 183, 'informaron': 2135, 'llegaban': 2400, 'cupo': 1072, 'cancer': 579, 'moder': 2679, 'preferi': 3258, 'devolverme': 1247, 'ire': 2234, 'volver': 4401, 'llego': 2411, 'pagarme': 2961, 'sincelejo': 3856, 'negociando': 2789, 'alcance': 159, 'neumonia': 2797, 'atesoro': 383, 'pondria': 3197, 'rehusan': 3601, 'iniciativa': 2147, 'interminable': 2192, 'contribuir': 938, 'recomendables': 3548, 'eperar': 1518, 'pantalones': 2979, 'consigan': 891, 'recomendaron': 3556, 'posteriores': 3248, 'cansamos': 587, 'morirnos': 2709, 'autoriza': 397, 'resultar': 3654, 'chimbas': 671, 'pasaron': 3014, 'jaqueca': 2263, 'sufrieron': 3954, 'cuide': 1053, 'ay': 418, 'reservado': 3629, 'epileptica': 1519, 'ayudeme': 427, 'deseo': 1220, 'escula': 1561, 'ahorraron': 144, 'llevarla': 2426, 'guiaron': 1913, 'implementaron': 2069, 'adultos': 89, 'quierase': 3471, 'haga': 1963, 'sufro': 3957, 'gastritis': 1841, 'pintan': 3150, 'lleve': 2430, 'presenciales': 3288, 'contentos': 922, 'obligatorias': 2863, 'buñuelo': 534, 'vacunadad': 4242, 'cordial': 958, 'recien': 3544, 'nacidos': 2752, 'invito': 2224, 'moteros': 2711, 'rodar': 3680, 'restricciones': 3650, 'oblgarnos': 2853, 'usan': 4215, 'encantados': 1456, 'afortunadamente': 106, 'dignidad': 1280, 'compromiso': 818, 'inconcluso': 2098, 'interminables': 2193, 'salvar': 3742, 'ampliacion': 215, 'programada': 3347, 'carne': 610, 'escrito': 1553, 'segundad': 3790, 'rehusa': 3600, 'alcaldia': 156, 'disposiciones': 1315, 'yaaa': 4428, 'comparacion': 785, 'pesadillas': 3109, 'afortunademente': 108, 'complicacion': 803, 'huevonadas': 2033, 'compran': 808, 'bajarte': 444, 'carro': 616, 'ciudades': 713, 'seguda': 3781, 'pido': 3132, 'encarecidamente': 1457, 'sere': 3816, 'matarnos': 2551, 'punta': 3414, 'estables': 1603, 'canse': 589, 'estructurado': 1642, 'plazo': 3165, 'siguientes': 3849, 'ocurrio': 2882, 'comorbilidad': 782, 'obligaria': 2857, 'demuestren': 1175, 'completamente': 796, 'secuela': 3774, 'julio': 2299, 'coloco': 758, 'niegan': 2804, 'campaña': 571, 'tutelacorrupcion': 4175, 'mentiras': 2596, 'sorpresa': 3919, 'derechos': 1190, 'digna': 1278, 'costeño': 978, 'magdalenense': 2468, 'samario': 3743, 'ayudan': 423, 'discrimine': 1304, 'sanitario': 3751, 'prometo': 3352, 'hdp': 1981, 'aclaro': 56, 'homologada': 2012, 'experimentos': 1700, 'pibe': 3124, 'liderar': 2372, 'movida': 2714, 'internacional': 2194, 'indemnizado': 2104, 'consultar': 904, 'ingresosu': 2142, 'cargo': 607, 'registro': 3595, 'decidir': 1126, 'obligacion': 2854, 'violacion': 4384, 'obligarte': 2860, 'diste': 1321, 'cambio': 567, 'climatico': 727, 'ves': 4352, 'vos': 4408, 'lloviendo': 2435, 'prepararse': 3287, 'escuchar': 1556, 'contrario': 934, 'principio': 3316, 'inicio': 2148, 'normalizacion': 2820, 'mascarilla': 2539, 'crea': 983, 'conveniente': 947, 'comunista': 829, 'numero': 2847, 'sanas': 3747, 'cardiaco': 604, 'planto': 3162, 'pensando': 3058, 'ponermela': 3206, 'elegida': 1418, 'dire': 1296, 'trombocitopenia': 4160, 'jugarmela': 2297, 'rabia': 3495, 'color': 763, 'mueras': 2726, 'locos': 2441, 'delincuente': 1157, 'delincuentes': 1158, 'realmente': 3520, 'opino': 2920, 'callada': 556, 'conveniencia': 946, 'agarran': 113, 'convencion': 945, 'importantes': 2076, 'fases': 1753, 'graves': 1892, 'vacunarlos': 4259, 'entere': 1498, 'muertes': 2731, 'independiente': 2105, 'evidente': 1667, 'restirnigirse': 3647, 'sumamente': 3958, 'leo': 2356, 'elunico': 1426, 'marea': 2522, 'inhibir': 2143, 'pieza': 3146, 'contestacion': 924, 'administrara': 79, 'potencia': 3252, 'generara': 1851, 'aval': 401, 'ema': 1427, 'recomendarla': 3555, 'fanatismo': 1744, 'irracional': 2238, 'valga': 4285, 'redundancia': 3577, 'perdon': 3078, 'millonario': 2645, 'papel': 2981, 'vendido': 4323, 'accion': 40, 'pretendo': 3301, 'daria': 1085, 'mensaje': 2590, 'equivocado': 1526, 'aprovechar': 305, 'antivacunas': 255, 'anteriores': 246, 'pfizerse': 3119, 'vomito': 4407, 'desplomado': 1237, 'convulsionado': 953, 'menstruantes': 2593, 'altero': 194, 'ciclo': 686, 'menstrual': 2592, 'lapfizer': 2327, 'prevenia': 3302, 'mintieron': 2658, 'rodeado': 3681, 'independientemente': 2106, 'funcione': 1823, 'acababas': 29, 'uci': 4183, 'ceo': 651, 'alturas': 197, 'cuidando': 1049, 'especificas': 1573, 'inmune': 2153, 'debillatransmision': 1115, 'asintomaticos': 352, 'demostrado': 1172, 'hogar': 2009, 'moutherna': 2713, 'impresionada': 2080, 'modernidad': 2684, 'pelaos': 3040, 'pasta': 3020, 'sopita': 3918, 'aguada': 133, 'sopa': 3917, 'rueditas': 3687, 'cuadritos': 1015, 'queso': 3462, 'panela': 2977, 'ricoooo': 3668, 'tios': 4077, 'moralmente': 2704, 'correctos': 964, 'voluntaria': 4399, 'estupido': 1650, 'tiren': 4082, 'hate': 1976, 'fantoche': 1745, 'jj': 2271, 'aprobaron': 302, 'inyecten': 2230, 'funcionarios': 1822, 'veremos': 4343, 'alpueblono': 187, 'explica': 1703, 'pq': 3254, 'molestias': 2690, 'producen': 3338, 'confesar': 844, 'escucho': 1559, 'viagra': 4357, 'jake': 2254, 'gyllenhaal': 1922, 'anne': 234, 'hathaway': 1977, 'anteriormente': 247, 'docentes': 1333, 'protege': 3366, 'significa': 3843, 'contagiar': 913, 'debio': 1116, 'trending': 4156, 'topicpienso': 4111, 'novedad': 2832, 'jugador': 2295, 'futbol': 1825, 'darse': 1090, 'frenaba': 1794, 'infeccion': 2123, 'estudiado': 1643, 'producirse': 3340, 'probable': 3327, 'freno': 1796, 'produccion': 3336, 'adelantara': 73, 'cambios': 568, 'genoma': 1857, 'hilo': 2002, 'perjudica': 3091, 'beneficia': 463, 'connotaciones': 867, 'contactar': 908, 'moleculas': 2686, 'inmunocompetentes': 2164, 'existen': 1687, 'debates': 1102, 'tendria': 4025, 'harto': 1972, 'britanica': 511, 'delt': 1159, 'india': 2107, 'brasileña': 504, 'dominicana': 1349, 'soccer': 3898, 'tardamos': 4001, 'publicados': 3389, 'produce': 3337, 'rusia': 3693, 'proporcionar': 3363, 'permitir': 3096, 'gripe': 1895, 'infancia': 2122, 'preocupes': 3283, 'desmayo': 1230, 'convulsiono': 954, 'advertido': 92, 'atenta': 377, 'probada': 3328, 'limitaciones': 2376, 'concretas': 835, 'cadena': 540, 'jyj': 2311, 'sinovc': 3866, 'junio': 2302, 'cumplan': 1063, 'pia': 3123, 'criticando': 1007, 'excepto': 1676, 'ironizando': 2237, 'pretendi': 3300, 'estarlo': 1622, 'negarme': 2782, 'juegos': 2291, 'biopoliticos': 478, 'organizaciones': 2933, 'internacionales': 2195, 'coartar': 732, 'libertades': 2367, 'equivocados': 1527, 'novacunados': 2830, 'evangelio': 1664, 'cuidar': 1051, 'hare': 1968, 'piensoquees': 3141, 'estenono': 1626, 'yolavacuna': 4432, 'transparentar': 4142, 'hospitalizadas': 2022, 'fallecidas': 1728, 'er': 1530, 'placebos': 3158, 'cruzamos': 1014, 'estornudo': 1634, 'involuntario': 2225, 'pendeja': 3053, 'analizar': 218, 'mato': 2553, 'posiblemente': 3243, 'componentes': 805, 'pregunto': 3270, 'tratan': 4148, 'ganado': 1830, 'horrorizada': 2019, 'nietos': 2805, 'tienenla': 4070, 'queun': 3466, 'algunos': 179, 'telegram': 4013, 'sobrina': 3897, 'aztra': 434, 'liendra': 2374, 'promociona': 3353, 'embajadores': 1429, 'tweets': 4180, 'durisimo': 1380, 'aplicarla': 286, 'depende': 1184, 'muevo': 2736, 'responsable': 3644, 'avisaron': 416, 'entera': 1497, 'vendran': 4325, 'coincido': 736, 'partes': 2999, 'evitado': 1668, 'futuro': 1827, 'experimentales': 1698, 'conejillo': 839, 'creada': 984, 'protegida': 3369, 'prometio': 3351, 'eliminan': 1421, 'quitando': 3489, 'convirtiendolos': 950, 'privilegios': 3323, 'peligrosisimo': 3047, 'vacunapor': 4251, 'combinarse': 769, 'medidas': 2576, 'invertir': 2215, 'nvestigacion': 2850, 'acaso': 37, 'puestas': 3411, 'pelos': 3050, 'salvado': 3738, 'ola': 2900, 'margen': 2525, 'conspiracion': 897, 'cambie': 565, 'estadisticas': 1608, 'infectados': 2124, 'veryo': 4351, 'julioy': 2300, 'lavacuna': 2336, 'indispensable': 2114, 'militante': 2642, 'regalo': 3590, 'eeuu': 1391, 'autorizadas': 400, 'idiota': 2049, 'tuit': 4169, 'pedazo': 3029, 'imbecil': 2065, 'universo': 4205, 'excelenteen': 1674, 'suben': 3934, 'quetienen': 3465, 'aztraseneca': 435, 'acto': 61, 'sobretodo': 3896, 'rango': 3497, 'proteger': 3367, 'protegidos': 3371, 'sinceramente': 3857, 'retrasado': 3659, 'inevitable': 2121, 'entrando': 1504, 'circulo': 702, 'reforzar': 3582, 'ello': 1424, 'suena': 3945, 'piva': 3155, 'llamar': 2394, 'monica': 2696, 'desean': 1215, 'alegro': 166, 'ofrece': 2887, 'alemana': 168, 'desarrollo': 1199, 'desarrolloren': 1200, 'eficaz': 1399, 'considero': 888, 'deba': 1100, 'ua': 4182, 'sanaque': 3746, 'ironico': 2236, 'hombre': 2011, 'dudo': 1371, 'abarcar': 4, 'adulto': 88, 'sobrepeso': 3895, 'ayudado': 422, 'necesitado': 2772, 'oxigeno': 2948, 'hospital': 2021, 'olfato': 2903, 'apetito': 269, 'campeon': 572, 'engarrotarsejaja': 1487, 'lenta': 2354, 'estupidamente': 1648, 'idiotamente': 2050, 'quete': 3464, 'experimento': 1699, 'resultado': 3652, 'exponer': 1712, 'organismo': 2931, 'rata': 3505, 'quetampoco': 3463, 'pretende': 3299, 'reconozcan': 3562, 'lleves': 2432, 'mandando': 2503, 'parla': 2995, 'aspectos': 356, 'exista': 1685, 'sirva': 3876, 'ah': 139, 'okay': 2899, 'tarjeta': 4005, 'critico': 1009, 'inefectivas': 2118, 'astral': 360, 'spiderman': 3923, 'paleta': 2972, 'lider': 2371, 'impotencia': 2079, 'mejorar': 2583, 'servicios': 3825, 'medicos': 2575, 'vaupez': 4303, 'desenlace': 1219, 'interesanteque': 2191, 'causar': 636, 'similar': 3852, 'nature': 2763, 'vi': 4354, 'practicamente': 3255, 'iban': 2045, 'variaciones': 4294, 'habidas': 1929, 'harta': 1971, 'desconfianza': 1207, 'generaciones': 1844, 'futuras': 1826, 'inmunizadas': 2157, 'llamo': 2397, 'titulo': 4085, 'indagar': 2103, 'pesar': 3110, 'afrontado': 110, 'avanzado': 405, 'significativamente': 3844, 'perdieron': 3075, 'ansiaban': 238, 'vacunacionayer': 4239, 'perdieronlacontraelcovidy': 3076, 'dela': 1156, 'gobernador': 1875, 'tratamiento': 4147, 'regeneron': 3591, 'refiero': 3580, 'mascarillas': 2540, 'pdte': 3027, 'orgulloso': 2937, 'esperanza': 1582, 'unirnos': 4202, 'firmar': 1780, 'convenios': 949, 'colaboracion': 739, 'universidades': 4204, 'sumar': 3960, 'esfuerzos': 1564, 'lograr': 2445, 'acuda': 64, 'inicia': 2144, 'permiso': 3093, 'entrevista': 1511, 'antenoche': 245, 'dormir': 1359, 'durmio': 1381, 'bololo': 493, 'chiquita': 678, 'paperas': 2982, 'varicela': 4298, 'mori': 2707, 'tales': 3989, 'declaraciones': 1131, 'atentan': 378, 'contagiado': 910, 'enfenrmedad': 1472, 'clara': 714, 'pasantes': 3009, 'carreras': 615, 'respondiendo': 3642, 'convocatoria': 952, 'inmediatamente': 2151, 'dolex': 1342, 'coronavirus': 962, 'cansada': 584, 'emocionalmente': 1438, 'compre': 812, 'six': 3886, 'pack': 2956, 'andina': 224, 'diputados': 1295, 'allegados': 186, 'aplicara': 282, 'salte': 3732, 'decide': 1122, 'juzgo': 2310, 'vacunarseel': 4264, 'das': 1092, 'podes': 3180, 'juzgar': 2309, 'guste': 1920, 'post': 3247, 'jaja': 2248, 'resumen': 3656, 'metodologia': 2618, 'maximo': 2554, 'valor': 4290, 'lectura': 2342, 'do': 1332, 'aguante': 136, 'arte': 339, 'invitamos': 2222, 'deber': 1106, 'cuidarnos': 1052, 'candelacalico': 582, 'registre': 3594, 'jubilado': 2289, 'folio': 1783, 'click': 724, 'registrar': 3593, 'manda': 2500, 'pertinencia': 3108, 'reporta': 3617, 'disminucion': 1308, 'mandamos': 2501, 'provocar': 3379, 'toma': 4099, 'vaso': 4302, 'coca': 734, 'cola': 738, 'desayuno': 1203, 'pensaria': 3060, 'comunicado': 825, 'adelantan': 72, 'recomendaran': 3554, 'ciertos': 695, 'grupos': 1897, 'sexo': 3828, 'retoma': 3658, 'diferencia': 1271, 'frenar': 1795, 'ti': 4064, 'habrias': 1950, 'miedos': 2630, 'ausentes': 393, 'frivolo': 1801, 'mareo': 2523, 'cansancio': 588, 'pegan': 3036, 'cucharas': 1034, 'estoico': 1633, 'cole': 741, 'amigas': 210, 'viero': 4371, 'na': 2751, 'operados': 2916, 'varices': 4299, 'circulacion': 699, 'sanguinea': 3749, 'ofrecerles': 2889, 'recomienda': 3557, 'hacerles': 1955, 'periodo': 3090, 'calendario': 552, 'habitual': 1938, 'extrema': 1719, 'sensibilidad': 3806, 'mamas': 2493, 'relacionado': 3605, 'aislados': 146, 'nociva': 2815, 'lata': 2333, 'monster': 2699, 'pizza': 3156, 'postre': 3251, 'reinas': 3603, 'levantarme': 2359, 'prepararme': 3286, 'solita': 3910, 'viven': 4390, 'solas': 3904, 'transitar': 4141, 'lineas': 2385, 'persiste': 3103, 'estrago': 1637, 'ligero': 2375, 'fiebrenada': 1769, 'demolio': 1170, 'inocularon': 2170, 'compuesto': 821, 'reforzo': 3584, 'frontalidad': 1802, 'anestesia': 227, 'preguntes': 3269, 'xq': 4426, 'dudar': 1369, 'darte': 1091, 'sangre': 3748, 'az': 431, 'astrazenecaespero': 364, 'boten': 500, 'resume': 3655, 'superiores': 3968, 'amigos': 212, 'sociedad': 3901, 'individuo': 2115, 'medidos': 2577, 'convenientemente': 948, 'bajo': 445, 'devolverla': 1246, 'suposiciones': 3973, 'indias': 2108, 'mezcla': 2623, 'maldita': 2473, 'ineptitud': 2119, 'sube': 3933, 'pobre': 3171, 'fabricaron': 1723, 'aztecas': 433, 'chico': 668, 'gustando': 1917, 'also': 190, 'fumarme': 1819, 'cigarrito': 697, 'vengo': 4332, 'colegas': 745, 'metodo': 2617, 'basar': 449, 'faltantes': 1737, 'estimacion': 1629, 'aproximada': 307, 'pendientes': 3056, 'relacion': 3604, 'investigando': 2217, 'antemano': 243, 'asumir': 370, 'llevarse': 2429, 'mamado': 2491, 'azteca': 432, 'perfumes': 3087, 'ig': 2055, 'muestra': 2734, 'saquenme': 3759, 'chip': 677, 'ponerlasi': 3202, 'pronta': 3355, 'recuperacion': 3571, 'margaret': 2524, 'kenan': 2313, 'unpinchazojusto': 4208, 'huevos': 2034, 'costado': 976, 'dineral': 1290, 'tirar': 4081, 'hacerunos': 1959, 'diaspienso': 1258, 'darian': 1086, 'leido': 2348, 'articulos': 341, 'sudamerica': 3942, 'eventualmente': 1665, 'terminara': 4049, 'inutiles': 2203, 'organizan': 2936, 'termiara': 4044, 'iastrazeneca': 2041, 'pfaizer': 3113, 'miocardiocarditis': 2661, 'rompe': 3683, 'defensa': 1136, 'encerrado': 1459, 'sensato': 3805, 'guardia': 1902, 'comentar': 772, 'breve': 508, 'verdadme': 4342, 'dudas': 1370, 'ocasion': 2875, 'lei': 2346, 'enviaron': 1516, 'turnos': 4173, 'paraastrazeneca': 2985, 'deastrazeneca': 1099, 'coste': 977, 'preocupan': 3278, 'demuestra': 1173, 'quizas': 3493, 'modernapienso': 2681, 'protegidosno': 3372, 'maestroshay': 2466, 'pongoastrazenecapienso': 3225, 'mezclando': 2625, 'descartar': 1205, 'ocasionados': 2877, 'fiamos': 1766, 'negacionistas': 2780, 'partidaria': 3001, 'aumento': 389, 'empujoncito': 1452, 'impresionado': 2081, 'revuelo': 3665, 'asqueroso': 357, 'montaje': 2700, 'desmayos': 1231, 'asumen': 369, 'absoluta': 14, 'sabian': 3703, 'graduaron': 1884, 'referente': 3579, 'indocumentados': 2116, 'venecos': 4326, 'bro': 512, 'alcaldesa': 155, 'fraude': 1793, 'metio': 2616, 'presupuesto': 3298, 'desastre': 1201, 'trato': 4151, 'leia': 2347, 'recogera': 3546, 'propaganda': 3360, 'excelentes': 1675, 'detras': 1245, 'brasil': 503, 'indonesia': 2117, 'respuesta': 3646, 'astrazenecano': 365, 'aburrir': 25, 'monton': 2702, 'expreso': 1715, 'clarito': 716, 'dosispero': 1363, 'autoridades': 396, 'exigentes': 1682, 'desgloses': 1225, 'declaracion': 1130, 'dije': 1282, 'dolar': 1338, 'mrda': 2716, 'sucia': 3940, 'ponermoderna': 3207, 'llame': 2396, 'cancelar': 578, 'cambiar': 564, 'anular': 256, 'honestamente': 2014, 'modernaque': 2682, 'esperonos': 1590, 'rechaze': 3528, 'pequeño': 3064, 'hablas': 1943, 'durar': 1377, 'ejerce': 1410, 'expresar': 1713, 'celulas': 648, 'gen': 1842, 'inmunogenico': 2165, 'alque': 188, 'ocurre': 2880, 'diez': 1269, 'suspendido': 3979, 'distribucion': 1326, 'salgamos': 3718, 'plano': 3161, 'exhibida': 1680, 'algunas': 177, 'procesando': 3334, 'muerta': 2729, 'gordo': 1880, 'navidad': 2764, 'premio': 3273, 'causan': 633, 'idiotas': 2051, 'pendejo': 3055, 'comunidades': 828, 'divulgadores': 1331, 'periodistas': 3089, 'fracasado': 1787, 'colectivamente': 743, 'aprender': 298, 'diseccion': 1305, 'colectivo': 744, 'relacionados': 3606, 'preso': 3297, 'confirmacion': 852, 'egoismo': 1402, 'diallega': 1253, 'normalidad': 2819, 'eres': 1533, 'mujer': 2737, 'exponen': 1711, 'asuman': 368, 'asideclaro': 351, 'imaginan': 2063, 'reorganicen': 3614, 'asia': 350, 'genio': 1855, 'horrible': 2018, 'genial': 1854, 'rosa': 3686, 'proteja': 3374, 'resfriado': 3631, 'porky': 3236, 'huevo': 2032, 'veneno': 4327, 'contagia': 909, 'ciudadano': 711, 'obedece': 2851, 'palabra': 2969, 'garantia': 1835, 'acepto': 45, 'fase': 1752, 'experimental': 1697, 'egoista': 1403, 'brutal': 513, 'contagiarmepero': 915, 'probabilidades': 3326, 'don': 1350, 'luis': 2455, 'frivolizar': 1800, 'vacunasmi': 4267, 'cucharillas': 1035, 'monedasno': 2695, 'gracia': 1882, 'administrarla': 80, 'habria': 1949, 'primos': 3313, 'secundarioscon': 3779, 'dejanssen': 1146, 'equivocada': 1525, 'sarcov': 3760, 'adenovirus': 76, 'adn': 81, 'incompatibles': 2093, 'uy': 4230, 'digas': 1277, 'cine': 698, 'citado': 705, 'importamos': 2073, 'vergüenza': 4344, 'siya': 3887, 'valeahora': 4283, 'meterjanssensi': 2610, 'franja': 1791, 'cabo': 537, 'qua': 3430, 'astrazenecapues': 366, 'dentro': 1178, 'jannssen': 2257, 'ojose': 2897, 'bivacunadojanssen': 480, 'dejaran': 1149, 'reconozco': 3563, 'presion': 3296, 'familiar': 1740, 'vieron': 4372, 'nerviosa': 2794, 'cagada': 546, 'volviera': 4405, 'libro': 2369, 'suministros': 3963, 'citen': 708, 'vacunaba': 4236, 'mismoestoy': 2671, 'puesta': 3410, 'dosun': 1364, 'hipocresiaque': 2004, 'hubieran': 2028, 'pedido': 3031, 'voluntariamente': 4400, 'tendencias': 4020, 'pasaba': 3005, 'queo': 3454, 'lajanssenes': 2322, 'pinchazo': 3149, 'opinan': 2917, 'consiga': 890, 'permita': 3094, 'conseguira': 883, 'igualcuando': 2059, 'comience': 778, 'meteran': 2609, 'janssenque': 2262, 'saltarse': 3731, 'saltan': 3730, 'pautas': 3025, 'malparidos': 2485, 'ronda': 3685, 'autorizada': 399, 'antigenos': 251, 'on': 2912, 'fire': 1779, 'cumplimos': 1069, 'bastante': 453, 'deberes': 1107, 'aplausos': 271, 'bebere': 457, 'cura': 1073, 'piensolo': 3138, 'conste': 902, 'volvi': 4402, 'urge': 4209, 'terminen': 4051, 'aclaren': 55, 'sentados': 3807, 'puntoque': 3416, 'intenten': 2188, 'meternos': 2612, 'indignante': 2112, 'dependientes': 1186, 'cuida': 1045, 'consentirlo': 886, 'sobran': 3891, 'perderan': 3068, 'ponertelas': 3212, 'rjanssen': 3678, 'mismopienso': 2672, 'comprobar': 817, 'janssenes': 2261, 'anulo': 257, 'veriamos': 4345, 'esclerosis': 1549, 'multiple': 2739, 'fingolimod': 1777, 'pfzier': 3120, 'iremos': 2235, 'noviembre': 2834, 'booster': 495, 'creia': 996, 'seque': 3812, 'preocupandose': 3280, 'desempleado': 1218, 'pagar': 2960, 'cuentas': 1038, 'denostaron': 1177, 'debieran': 1113, 'reconocer': 3561, 'equivocaron': 1528, 'todes': 4096, 'kiero': 2314, 'directo': 1297, 'conejo': 841, 'manga': 2508, 'averiguaron': 414, 'investigaron': 2219, 'beneficiario': 466, 'multipolar': 2740, 'incontrarrestable': 2100, 'dominante': 1347, 'estariamos': 1620, 'brazos': 507, 'cruzados': 1013, 'dignen': 1279, 'vendernos': 4322, 'atribuirselo': 387, 'leyendo': 2364, 'experiencias': 1695, 'vacunaban': 4237, 'aire': 145, 'piensoque': 3140, 'sinovacpuede': 3865, 'deltadado': 1161, 'tengas': 4031, 'tierno': 4072, 'luna': 2456, 'caracter': 599, 'necesitas': 2776, 'mimos': 2647, 'ok': 2898, 'comparo': 786, 'perra': 3100, 'pego': 3038, 'requiere': 3625, 'largo': 2330, 'inmunizacionpero': 2156, 'etapaes': 1656, 'sana': 3745, 'contraindicacion': 931, 'señal': 3829, 'descreen': 1211, 'proveniente': 3375, 'show': 3834, 'mediatico': 2570, 'fundamental': 1824, 'sirvieron': 3880, 'atenuar': 381, 'olas': 2901, 'tt': 4167, 'descubrieron': 1213, 'epoca': 1520, 'salina': 3725, 'trataba': 4146, 'inocular': 2169, 'espiritu': 1592, 'solidario': 3909, 'igualdad': 2060, 'culto': 1060, 'reduce': 3576, 'contradictorio': 930, 'politicas': 3189, 'movilidad': 2715, 'quea': 3432, 'consinovac': 896, 'hacernos': 1958, 'prueba': 3383, 'desarrollado': 1196, 'valorar': 4291, 'tierra': 4073, 'microbiologa': 2628, 'bioanalista': 474, 'papas': 2980, 'caer': 542, 'discrepo': 1303, 'criterios': 1005, 'recomendados': 3553, 'sobrante': 3892, 'serio': 3822, 'catorce': 630, 'rutina': 3694, 'cuidados': 1047, 'viejos': 4366, 'contagiaron': 916, 'horrorizo': 2020, 'empatizo': 1440, 'mayo': 2555, 'chance': 662, 'probar': 3329, 'anotarme': 236, 'carton': 620, 'test': 4057, 'extraño': 1718, 'inyectaron': 2229, 'confirmado': 853, 'completas': 800, 'marzo': 2536, 'sintomatica': 3871, 'contagie': 917, 'mandarle': 2505, 'man': 2498, 'gustaba': 1915, 'veiamos': 4315, 'horario': 2016, 'hemicuerpo': 1987, 'izquierdo': 2247, 'lasinovac': 2332, 'elegi': 1417, 'consultorio': 906, 'renombre': 3613, 'imagino': 2064, 'acceso': 39, 'teniendo': 4037, 'concepto': 831, 'circulando': 700, 'ratola': 3507, 'ignorancia': 2057, 'termina': 4045, 'donara': 1355, 'conmebol': 865, 'ccovid': 642, 'trabajadores': 4119, 'salen': 3716, 'laburar': 2320, 'cajera': 550, 'injusto': 2149, 'adecuada': 71, 'perfil': 3086, 'sostuvo': 3921, 'pediatra': 3030, 'cagamos': 547, 'confirme': 855, 'altamente': 192, 'abriendo': 11, 'puertas': 3407, 'medias': 2569, 'lidiar': 2373, 'stock': 3928, 'vuelta': 4413, 'apostar': 296, 'controlada': 940, 'sinovacno': 3864, 'revistas': 3663, 'the': 4063, 'lancet': 2325, 'referencias': 3578, 'primerapienso': 3308, 'manipule': 2512, 'eua': 1661, 'pesimista': 3112, 'equivoque': 1529, 'observo': 2867, 'relajada': 3609, 'razones': 3509, 'rechazada': 3524, 'actua': 62, 'bueh': 515, 'pasarme': 3013, 'minutos': 2659, 'explicarte': 1707, 'entendedor': 1492, 'palabrasno': 2971, 'entender': 1493, 'lobby': 2437, 'piensopfizer': 3139, 'queeeuu': 3448, 'dono': 1357, 'canto': 592, 'seis': 3799, 'motivo': 2712, 'cuba': 1031, 'soberana': 3889, 'paginas': 2963, 'oficiales': 2886, 'vacunassinovac': 4269, 'criticas': 1008, 'mensajero': 2591, 'cuestionadas': 1044, 'cuartadosis': 1029, 'arreglin': 329, 'esperaria': 1585, 'beneficio': 467, 'supera': 3965, 'tercer': 4040, 'sustituye': 3981, 'distanciamiento': 1320, 'malditos': 2475, 'gringos': 1893, 'sinovaces': 3863, 'gordura': 1881, 'suyo': 3983, 'apuesta': 311, 'acierto': 53, 'protegernos': 3368, 'aleatoriamente': 161, 'placebo': 3157, 'conjeturas': 862, 'experta': 1701, 'yasiempre': 4430, 'servira': 3827, 'supongo': 3971, 'wuhan': 4423, 'picos': 3126, 'sirvio': 3881, 'duracion': 1375, 'lamentable': 2323, 'contagiandose': 912, 'golpearan': 1879, 'pecho': 3028, 'alza': 201, 'terribles': 4054, 'prevenian': 3303, 'harian': 1970, 'adulta': 87, 'regularmente': 3599, 'abril': 12, 'donar': 1354, 'dequeya': 1188, 'inmunizado': 2158, 'especificar': 1572, 'atenuado': 380, 'tradicional': 4123, 'betapropilactona': 471, 'ta': 3985, 'zurda': 4442, 'entiende': 1501, 'pudiese': 3397, 'conseguido': 881, 'estarian': 1621, 'altos': 196, 'sucede': 3938, 'investigado': 2216, 'anunciando': 260, 'confusion': 858, 'rezagados': 3666, 'dirigentes': 1300, 'culpables': 1058, 'negligentes': 2786, 'escape': 1542, 'sars': 3761, 'cov': 979, 'causante': 635, 'aparcer': 263, 'salvadores': 3740, 'invadiendo': 2204, 'elimina': 1420, 'jorge': 2281, 'insistencia': 2176, 'infectologo': 2125, 'infomercial': 2127, 'ud': 4185, 'podia': 3181, 'tocarle': 4091, 'new': 2801, 'york': 4435, 'times': 4075, 'volvia': 4403, 'definitivo': 1141, 'cubria': 1033, 'conejitos': 840, 'dolencias': 1340, 'atendi': 376, 'maestra': 2465, 'secundaria': 3776, 'alumnos': 199, 'crees': 994, 'probabilidad': 3325, 'estadistica': 1606, 'entro': 1512, 'opinar': 2918, 'reactivo': 3515, 'latam': 2334, 'sintio': 3868, 'malpenso': 2486, 'aceptaran': 44, 'eu': 1660, 'inviten': 2223, 'rechazo': 3530, 'conoces': 871, 'gigante': 1871, 'farmaceutico': 1748, 'tarea': 4004, 'investigar': 2218, 'utiliza': 4227, 'comprobada': 815, 'decadas': 1118, 'muchisimos': 2723, 'salido': 3721, 'especialistas': 1570, 'desestimar': 1223, 'preocupaciones': 3277, 'inmunologa': 2166, 'johan': 2278, 'note': 2825, 'corte': 972, 'entendiste': 1496, 'politizar': 3192, 'aclararte': 54, 'conspiranoico': 899, 'mafia': 2467, 'mesquina': 2605, 'tremenda': 4155, 'manipulacion': 2509, 'cepa': 652, 'comentario': 773, 'serias': 3820, 'aumentaron': 388, 'tuiteando': 4170, 'preocupacion': 3276, 'descontextualizada': 1208, 'preocuparse': 3281, 'descontextualizado': 1209, 'hipotetico': 2005, 'diera': 1267, 'valdria': 4281, 'vacunaque': 4252, 'antivacuna': 254, 'consciente': 878, 'califico': 555, 'aceptable': 42, 'etc': 1657, 'quees': 3449, 'tiempos': 4067, 'angustiados': 231, 'termino': 4052, 'oye': 2949, 'tranquilizador': 4138, 'rechazado': 3525, 'via': 4355, 'urgencia': 4210, 'adolescentespor': 83, 'quebajo': 3433, 'premisa': 3274, 'muertos': 2733, 'enfermos': 1485, 'causando': 634, 'cabrea': 538, 'estupidez': 1649, 'aparato': 262, 'fitzer': 1781, 'xd': 4424, 'aprobacion': 299, 'puta': 3427, 'molesta': 2687, 'tiktokers': 4074, 'pfizerc': 3116, 'cago': 548, 'venido': 4333, 'producto': 3341, 'marido': 2531, 'escuche': 1557, 'rieron': 3670, 'llegaremos': 2409, 'indico': 2111, 'izquierda': 2246, 'cuñada': 1075, 'acertaras': 52, 'nacio': 2754, 'pulmon': 3413, 'intestinos': 2200, 'piel': 3134, 'naranja': 2759, 'escenarios': 1548, 'racional': 3496, 'reconocen': 3560, 'ajeno': 148, 'contratiempos': 936, 'beligerante': 460, 'normi': 2821, 'alborota': 152, 'demanda': 1163, 'tribunal': 4158, 'arbitraje': 320, 'designado': 1227, 'compensacion': 792, 'economica': 1388, 'taquicardias': 3999, 'diarias': 1254, 'tenidoquecambiar': 4036, 'habitos': 1937, 'controlarlo': 942, 'vino': 4382, 'sal': 3713, 'pelear': 3042, 'pastillita': 3022, 'sacado': 3708, 'casualidad': 628, 'consecuencia': 879, 'exprimir': 1716, 'crezcan': 999, 'tetas': 4062, 'neutralizacion': 2798, 'ancestral': 219, 'denunciar': 1180, 'daños': 1097, 'psicologicos': 3385, 'acusan': 69, 'errores': 1536, 'ensayos': 1490, 'arrepentido': 330, 'pincharme': 3148, 'celebrando': 646, 'gfita': 1869, 'cumpleaños': 1065, 'gfitas': 1870, 'desgraciadamente': 1226, 'partieron': 3003, 'recibirla': 3543, 'inepto': 2120, 'ruin': 3688, 'malnacido': 2481, 'vivia': 4391, 'negativo': 2783, 'trataron': 4150, 'incapacidad': 2086, 'ilusion': 2062, 'parecia': 2992, 'definitiva': 1139, 'intuirse': 2202, 'provisional': 3377, 'yomevacuno': 4433, 'bowie': 501, 'obsesion': 2868, 'orquestada': 2939, 'pegarle': 3037, 'modo': 2685, 'oponen': 2921, 'homologadas': 2013, 'experimentacion': 1696, 'oponerse': 2922, 'lamentolo': 2324, 'tarado': 4000, 'taba': 3986, 'abrazo': 10, 'subio': 3935, 'sostenerme': 3920, 'deprimio': 1187, 'igualen': 2061, 'murieron': 2747, 'eleccion': 1415, 'desmentir': 1232, 'cambien': 566, 'remedios': 3610, 'aceptar': 43, 'incongruente': 2099, 'peligroso': 3048, 'dureza': 1379, 'duraba': 1374, 'clase': 718, 'cientificas': 690, 'antigripal': 252, 'superara': 3967, 'fortuna': 1786, 'muzk': 2750, 'aterrorizar': 382, 'globo': 1872, 'serotipo': 3823, 'alfa': 172, 'vemos': 4317, 'israel': 2242, 'escuchando': 1555, 'capacidades': 594, 'aprueban': 309, 'fabricado': 1721, 'ocasiona': 2876, 'interactuar': 2189, 'trabajan': 4120, 'colapso': 740, 'celador': 644, 'llorando': 2434, 'doler': 1341, 'sabiaaa': 3702, 'daban': 1078, 'presentes': 3291, 'dijimos': 1284, 'ahh': 141, 'cool': 955, 'escribir': 1552, 'guia': 1912, 'decirle': 1128, 'ayudara': 424, 'combatir': 766, 'saldran': 3714, 'repitiendo': 3616, 'quiso': 3487, 'clausulas': 722, 'abusivas': 26, 'llenar': 2415, 'liberacion': 2365, 'anotarse': 237, 'vimos': 4376, 'provocaron': 3380, 'sabiendas': 3704, 'lejos': 2351, 'volviendo': 4404, 'obliguen': 2866, 'detesto': 1244, 'guajira': 1899, 'preguntas': 3267, 'fresquito': 1798, 'pelao': 3039, 'quise': 3483, 'creas': 989, 'lavarte': 2339, 'mente': 2594, 'bailar': 442, 'salsa': 3729, 'juanchito': 2287, 'preferencia': 3257, 'mejorada': 2581, 'haste': 1975, 'optimo': 2928, 'convence': 943, 'quedados': 3437, 'cumpliendo': 1068, 'lel': 2352, 'seguros': 3798, 'egos': 1404, 'expuesta': 1717, 'gestion': 1863, 'gubernamental': 1907, 'ejecutada': 1408, 'agradecerles': 130, 'demasiados': 1169, 'masivos': 2544, 'tomandome': 4102, 'acercarse': 48, 'diomedes': 1293, 'diaz': 1259, 'estaria': 1619, 'sabio': 3706, 'cuentod': 1040, 'estafa': 1611, 'oiga': 2893, 'enguayabado': 1489, 'veridicos': 4347, 'adapte': 70, 'pasos': 3019, 'lotes': 2450, 'enviadas': 1514, 'sectores': 3772, 'desfalco': 1224, 'desarrollar': 1198, 'enviarnos': 1515, 'venezolanos': 4329, 'hermoso': 1992, 'acabar': 31, 'cristo': 1003, 'central': 649, 'metodos': 2619, 'mitu': 2676, 'excasez': 1671, 'municipio': 2743, 'felices': 1757, 'colocandose': 750, 'obligarme': 2858, 'olvida': 2905, 'quedarse': 3444, 'hacerme': 1957, 'compone': 804, 'colocarmela': 755, 'haria': 1969, 'empobrecer': 1449, 'poniendose': 3228, 'espina': 1591, 'caiga': 549, 'inocentes': 2168, 'llevado': 2418, 'crueles': 1012, 'biogeneticas': 475, 'sentir': 3810, 'cubierto': 1032, 'vichada': 4361, 'lleva': 2417, 'botar': 499, 'decenas': 1119, 'vecindario': 4311, 'inmunizarnos': 2162, 'conjunto': 864, 'comuna': 823, '13': 0, 'sauce': 3763, 'dispuesto': 1316, 'reina': 3602, 'cyrus': 1076, 'perjudicar': 3092, 'burra': 526, 'comer': 775, 'inventen': 2212, 'ponganlen': 3217, 'abuelas': 17, 'manada': 2499, 'borregos': 498, 'lavar': 2338, 'existio': 1690, 'insitarnos': 2179, 'objetivo': 2852, 'comprendo': 814, 'demora': 1171, 'migue': 2637, 'buenisimas': 520, 'panita': 2978, 'energias': 1470, 'ambiene': 205, 'oscuro': 2940, 'planeado': 3160, 'preparadas': 3284, 'ejercicio': 1411, 'desanimo': 1194, 'faltara': 1738, 'quejo': 3453, 'ponersela': 3210, 'cortas': 971, 'obtencion': 2869, 'usarios': 4220, 'requiriendo': 3627, '76': 3, 'confia': 845, 'reglas': 3596, 'ricos': 3669, 'quitado': 3488, 'sintieron': 3867, 'sacan': 3709, 'lengua': 2353, 'difamar': 1270, 'bochinchear': 486, 'creerle': 993, 'noticieros': 2829, 'dudando': 1368, 'norte': 2822, 'pida': 3127, 'ganarse': 1832, 'esterilizarlos': 1627, 'reproducen': 3622, 'conejos': 842, 'oufit': 2946, 'colocaran': 752, '60': 2, '15': 1, 'descoordinacion': 1210, 'empezamos': 1441, 'novios': 2836, 'catastrofe': 629, 'generarle': 1852}\n"
     ]
    }
   ],
   "source": [
    "# Revision de las palabras dentro del vocabulario\n",
    "print(tf_idf_vectores.vocabulary_)"
   ]
  },
  {
   "cell_type": "code",
   "execution_count": 26,
   "id": "0d3ad8a7",
   "metadata": {},
   "outputs": [
    {
     "name": "stdout",
     "output_type": "stream",
     "text": [
      "(1162, 4444)\n",
      "(498, 4444)\n"
     ]
    }
   ],
   "source": [
    "print(train_X_tfidf.shape)\n",
    "print(test_X_tfidf.shape)"
   ]
  },
  {
   "cell_type": "markdown",
   "id": "acbabc4a",
   "metadata": {},
   "source": [
    "# Modelos"
   ]
  },
  {
   "cell_type": "markdown",
   "id": "a34a874a",
   "metadata": {},
   "source": [
    "## Modelo SVM (Support Vector Machine) "
   ]
  },
  {
   "cell_type": "code",
   "execution_count": 28,
   "id": "683a1f6f",
   "metadata": {
    "scrolled": true
   },
   "outputs": [
    {
     "name": "stdout",
     "output_type": "stream",
     "text": [
      "Prediccion del modelo con SVM: 0.9931153184165232\n"
     ]
    }
   ],
   "source": [
    "# Entrenamiento del modelo SVM (SUPPORT VECTOR MACHINE)\n",
    "modeloSVM = SVC(C = 1.0, kernel = 'rbf')\n",
    "modeloSVM.fit(train_X_tfidf, train_Y)\n",
    "print('Prediccion del modelo con SVM: {}'.format(modeloSVM.score(train_X_tfidf, train_Y)))"
   ]
  },
  {
   "cell_type": "code",
   "execution_count": 29,
   "id": "c9a57b02",
   "metadata": {},
   "outputs": [],
   "source": [
    "# Testeo del modelo SVM (SUPPORT VECTOR MACHINE)\n",
    "prediccionModeloSVM = modeloSVM.predict(test_X_tfidf)\n",
    "testeo_predicciones_SVM = pd.DataFrame()\n",
    "testeo_predicciones_SVM['Tweet'] = test_X\n",
    "testeo_predicciones_SVM['Sentimiento'] = prediccionModeloSVM"
   ]
  },
  {
   "cell_type": "code",
   "execution_count": 30,
   "id": "f30830cc",
   "metadata": {
    "scrolled": false
   },
   "outputs": [
    {
     "data": {
      "text/html": [
       "<div>\n",
       "<style scoped>\n",
       "    .dataframe tbody tr th:only-of-type {\n",
       "        vertical-align: middle;\n",
       "    }\n",
       "\n",
       "    .dataframe tbody tr th {\n",
       "        vertical-align: top;\n",
       "    }\n",
       "\n",
       "    .dataframe thead th {\n",
       "        text-align: right;\n",
       "    }\n",
       "</style>\n",
       "<table border=\"1\" class=\"dataframe\">\n",
       "  <thead>\n",
       "    <tr style=\"text-align: right;\">\n",
       "      <th></th>\n",
       "      <th>Tweet</th>\n",
       "      <th>Sentimiento</th>\n",
       "    </tr>\n",
       "  </thead>\n",
       "  <tbody>\n",
       "    <tr>\n",
       "      <th>1265</th>\n",
       "      <td>pero este hombre tenia dosis de vacuna pfizer ...</td>\n",
       "      <td>negative</td>\n",
       "    </tr>\n",
       "    <tr>\n",
       "      <th>342</th>\n",
       "      <td>no me vacuno por nada del mundo un vecino sufr...</td>\n",
       "      <td>negative</td>\n",
       "    </tr>\n",
       "    <tr>\n",
       "      <th>381</th>\n",
       "      <td>en el centro comercial guacari aun estan coloc...</td>\n",
       "      <td>positive</td>\n",
       "    </tr>\n",
       "    <tr>\n",
       "      <th>511</th>\n",
       "      <td>si presentas sintomas despues de vacunarte con...</td>\n",
       "      <td>positive</td>\n",
       "    </tr>\n",
       "    <tr>\n",
       "      <th>1205</th>\n",
       "      <td>alguien me explica pq uno no puede elegir que ...</td>\n",
       "      <td>negative</td>\n",
       "    </tr>\n",
       "    <tr>\n",
       "      <th>...</th>\n",
       "      <td>...</td>\n",
       "      <td>...</td>\n",
       "    </tr>\n",
       "    <tr>\n",
       "      <th>1277</th>\n",
       "      <td>critico las medidas inefectivas contra el covi...</td>\n",
       "      <td>negative</td>\n",
       "    </tr>\n",
       "    <tr>\n",
       "      <th>792</th>\n",
       "      <td>que dirian nuestros ancestros cayendo en los t...</td>\n",
       "      <td>negative</td>\n",
       "    </tr>\n",
       "    <tr>\n",
       "      <th>1359</th>\n",
       "      <td>sinovac tambien es muy buena ha tenido mala pr...</td>\n",
       "      <td>negative</td>\n",
       "    </tr>\n",
       "    <tr>\n",
       "      <th>77</th>\n",
       "      <td>a todos los de astrazeneca les estan aplicando...</td>\n",
       "      <td>negative</td>\n",
       "    </tr>\n",
       "    <tr>\n",
       "      <th>746</th>\n",
       "      <td>se me perdio el carnet de vacunacion si le dig...</td>\n",
       "      <td>positive</td>\n",
       "    </tr>\n",
       "  </tbody>\n",
       "</table>\n",
       "<p>498 rows × 2 columns</p>\n",
       "</div>"
      ],
      "text/plain": [
       "                                                  Tweet Sentimiento\n",
       "1265  pero este hombre tenia dosis de vacuna pfizer ...    negative\n",
       "342   no me vacuno por nada del mundo un vecino sufr...    negative\n",
       "381   en el centro comercial guacari aun estan coloc...    positive\n",
       "511   si presentas sintomas despues de vacunarte con...    positive\n",
       "1205  alguien me explica pq uno no puede elegir que ...    negative\n",
       "...                                                 ...         ...\n",
       "1277  critico las medidas inefectivas contra el covi...    negative\n",
       "792   que dirian nuestros ancestros cayendo en los t...    negative\n",
       "1359  sinovac tambien es muy buena ha tenido mala pr...    negative\n",
       "77    a todos los de astrazeneca les estan aplicando...    negative\n",
       "746   se me perdio el carnet de vacunacion si le dig...    positive\n",
       "\n",
       "[498 rows x 2 columns]"
      ]
     },
     "execution_count": 30,
     "metadata": {},
     "output_type": "execute_result"
    }
   ],
   "source": [
    "testeo_predicciones_SVM"
   ]
  },
  {
   "cell_type": "markdown",
   "id": "6639ec6e",
   "metadata": {},
   "source": [
    "### Cantidad de sentimientos por categoria en la prediccion por SVM"
   ]
  },
  {
   "cell_type": "code",
   "execution_count": 31,
   "id": "2a1ab78f",
   "metadata": {},
   "outputs": [
    {
     "data": {
      "text/plain": [
       "<AxesSubplot:xlabel='Sentimiento', ylabel='Tweet'>"
      ]
     },
     "execution_count": 31,
     "metadata": {},
     "output_type": "execute_result"
    },
    {
     "data": {
      "image/png": "[encoded data removed]",
      "text/plain": [
       "<Figure size 432x288 with 1 Axes>"
      ]
     },
     "metadata": {},
     "output_type": "display_data"
    }
   ],
   "source": [
    "grafico_sentimientos_datasetPredicc_SVM = testeo_predicciones_SVM.groupby('Sentimiento').count()\n",
    "sns.barplot(data = grafico_sentimientos_datasetPredicc_SVM, x = grafico_sentimientos_datasetInicial.index, y = 'Tweet')"
   ]
  },
  {
   "cell_type": "code",
   "execution_count": 32,
   "id": "f75e1a5d",
   "metadata": {
    "scrolled": true
   },
   "outputs": [],
   "source": [
    "testeo_predicciones_SVM.to_csv(r'../Datasets/TesteoSVM.csv')"
   ]
  },
  {
   "cell_type": "markdown",
   "id": "e295efda",
   "metadata": {},
   "source": [
    "### Reporte metricas para el modelo SVM"
   ]
  },
  {
   "cell_type": "code",
   "execution_count": 33,
   "id": "d38d91cb",
   "metadata": {},
   "outputs": [
    {
     "name": "stdout",
     "output_type": "stream",
     "text": [
      "Reporte de clasificación:\n",
      "              precision    recall  f1-score   support\n",
      "\n",
      "    negative       0.89      0.51      0.65       371\n",
      "     neutral       0.17      0.74      0.27        27\n",
      "    positive       0.36      0.59      0.45       100\n",
      "\n",
      "    accuracy                           0.54       498\n",
      "   macro avg       0.47      0.62      0.46       498\n",
      "weighted avg       0.75      0.54      0.59       498\n",
      "\n"
     ]
    }
   ],
   "source": [
    "# Reporte de metricas (F1-SCORE, RECALL, PRECISION, ACCURACY) en el modelo SVM\n",
    "print('Reporte de clasificación:')\n",
    "print(classification_report(prediccionModeloSVM, test_Y))"
   ]
  },
  {
   "cell_type": "markdown",
   "id": "92e34393",
   "metadata": {},
   "source": [
    "## Modelo Random Forest"
   ]
  },
  {
   "cell_type": "code",
   "execution_count": 34,
   "id": "8c46fee9",
   "metadata": {},
   "outputs": [
    {
     "data": {
      "text/plain": [
       "GridSearchCV(cv=2, estimator=RandomForestClassifier(), n_jobs=1,\n",
       "             param_grid={'bootstrap': [True], 'criterion': ['gini', 'entropy'],\n",
       "                         'max_features': ['auto', 'sqrt', 'log2'],\n",
       "                         'n_estimators': [100]})"
      ]
     },
     "execution_count": 34,
     "metadata": {},
     "output_type": "execute_result"
    }
   ],
   "source": [
    "# Aplicando la validacion cruzada\n",
    "modelo_randomForest = RandomForestClassifier()\n",
    "\n",
    "parametrosImportantes = {\n",
    "   'bootstrap' : [True],\n",
    "    'criterion' : ['gini', 'entropy'],\n",
    "    'max_features' : ['auto', 'sqrt', 'log2'],\n",
    "    'n_estimators': [100] \n",
    "}\n",
    "\n",
    "gridsearch = GridSearchCV(estimator = modelo_randomForest, param_grid = parametrosImportantes, cv = 2, n_jobs = 1)\n",
    "gridsearch.fit(train_X_tfidf, train_Y)"
   ]
  },
  {
   "cell_type": "code",
   "execution_count": 35,
   "id": "4a5089e4",
   "metadata": {},
   "outputs": [
    {
     "name": "stdout",
     "output_type": "stream",
     "text": [
      "Prediccion del modelo con Random Forest: 0.9982788296041308\n"
     ]
    }
   ],
   "source": [
    "# Entrenamiento del modelo Random Forest\n",
    "modelo_randomForest = RandomForestClassifier(bootstrap = True, criterion = 'entropy', max_features = 'log2', n_estimators = 100)\n",
    "modelo_randomForest.fit(train_X_tfidf, train_Y)\n",
    "print('Prediccion del modelo con Random Forest: {}'.format(modelo_randomForest.score(train_X_tfidf, train_Y)))\n",
    "\n",
    "# Guardar Modelo Entrenado\n",
    "with open('../Modelos/modelo_randomForest.pickle', 'wb') as archivo_RF:\n",
    "    pickle.dump(modelo_randomForest, archivo_RF)"
   ]
  },
  {
   "cell_type": "code",
   "execution_count": 36,
   "id": "dae7f47c",
   "metadata": {},
   "outputs": [],
   "source": [
    "# Testeo del modelo con Random Forest\n",
    "prediccionModeloRandomForest = modelo_randomForest.predict(test_X_tfidf)\n",
    "testeo_predicciones_RandomForest = pd.DataFrame()\n",
    "testeo_predicciones_RandomForest['Tweet'] = test_X\n",
    "testeo_predicciones_RandomForest['Sentimiento'] = prediccionModeloRandomForest"
   ]
  },
  {
   "cell_type": "code",
   "execution_count": 37,
   "id": "99b34ca4",
   "metadata": {},
   "outputs": [
    {
     "data": {
      "text/html": [
       "<div>\n",
       "<style scoped>\n",
       "    .dataframe tbody tr th:only-of-type {\n",
       "        vertical-align: middle;\n",
       "    }\n",
       "\n",
       "    .dataframe tbody tr th {\n",
       "        vertical-align: top;\n",
       "    }\n",
       "\n",
       "    .dataframe thead th {\n",
       "        text-align: right;\n",
       "    }\n",
       "</style>\n",
       "<table border=\"1\" class=\"dataframe\">\n",
       "  <thead>\n",
       "    <tr style=\"text-align: right;\">\n",
       "      <th></th>\n",
       "      <th>Tweet</th>\n",
       "      <th>Sentimiento</th>\n",
       "    </tr>\n",
       "  </thead>\n",
       "  <tbody>\n",
       "    <tr>\n",
       "      <th>1265</th>\n",
       "      <td>pero este hombre tenia dosis de vacuna pfizer ...</td>\n",
       "      <td>negative</td>\n",
       "    </tr>\n",
       "    <tr>\n",
       "      <th>342</th>\n",
       "      <td>no me vacuno por nada del mundo un vecino sufr...</td>\n",
       "      <td>negative</td>\n",
       "    </tr>\n",
       "    <tr>\n",
       "      <th>381</th>\n",
       "      <td>en el centro comercial guacari aun estan coloc...</td>\n",
       "      <td>positive</td>\n",
       "    </tr>\n",
       "    <tr>\n",
       "      <th>511</th>\n",
       "      <td>si presentas sintomas despues de vacunarte con...</td>\n",
       "      <td>positive</td>\n",
       "    </tr>\n",
       "    <tr>\n",
       "      <th>1205</th>\n",
       "      <td>alguien me explica pq uno no puede elegir que ...</td>\n",
       "      <td>negative</td>\n",
       "    </tr>\n",
       "    <tr>\n",
       "      <th>...</th>\n",
       "      <td>...</td>\n",
       "      <td>...</td>\n",
       "    </tr>\n",
       "    <tr>\n",
       "      <th>1277</th>\n",
       "      <td>critico las medidas inefectivas contra el covi...</td>\n",
       "      <td>negative</td>\n",
       "    </tr>\n",
       "    <tr>\n",
       "      <th>792</th>\n",
       "      <td>que dirian nuestros ancestros cayendo en los t...</td>\n",
       "      <td>negative</td>\n",
       "    </tr>\n",
       "    <tr>\n",
       "      <th>1359</th>\n",
       "      <td>sinovac tambien es muy buena ha tenido mala pr...</td>\n",
       "      <td>positive</td>\n",
       "    </tr>\n",
       "    <tr>\n",
       "      <th>77</th>\n",
       "      <td>a todos los de astrazeneca les estan aplicando...</td>\n",
       "      <td>negative</td>\n",
       "    </tr>\n",
       "    <tr>\n",
       "      <th>746</th>\n",
       "      <td>se me perdio el carnet de vacunacion si le dig...</td>\n",
       "      <td>positive</td>\n",
       "    </tr>\n",
       "  </tbody>\n",
       "</table>\n",
       "<p>498 rows × 2 columns</p>\n",
       "</div>"
      ],
      "text/plain": [
       "                                                  Tweet Sentimiento\n",
       "1265  pero este hombre tenia dosis de vacuna pfizer ...    negative\n",
       "342   no me vacuno por nada del mundo un vecino sufr...    negative\n",
       "381   en el centro comercial guacari aun estan coloc...    positive\n",
       "511   si presentas sintomas despues de vacunarte con...    positive\n",
       "1205  alguien me explica pq uno no puede elegir que ...    negative\n",
       "...                                                 ...         ...\n",
       "1277  critico las medidas inefectivas contra el covi...    negative\n",
       "792   que dirian nuestros ancestros cayendo en los t...    negative\n",
       "1359  sinovac tambien es muy buena ha tenido mala pr...    positive\n",
       "77    a todos los de astrazeneca les estan aplicando...    negative\n",
       "746   se me perdio el carnet de vacunacion si le dig...    positive\n",
       "\n",
       "[498 rows x 2 columns]"
      ]
     },
     "execution_count": 37,
     "metadata": {},
     "output_type": "execute_result"
    }
   ],
   "source": [
    "testeo_predicciones_RandomForest"
   ]
  },
  {
   "cell_type": "markdown",
   "id": "251958ef",
   "metadata": {},
   "source": [
    "### Cantidad de sentimientos por categoria en la prediccion por Random Forest"
   ]
  },
  {
   "cell_type": "code",
   "execution_count": 38,
   "id": "a9f8c494",
   "metadata": {},
   "outputs": [
    {
     "data": {
      "text/plain": [
       "<AxesSubplot:xlabel='Sentimiento', ylabel='Tweet'>"
      ]
     },
     "execution_count": 38,
     "metadata": {},
     "output_type": "execute_result"
    },
    {
     "data": {
      "image/png": "[encoded data removed]",
      "text/plain": [
       "<Figure size 432x288 with 1 Axes>"
      ]
     },
     "metadata": {},
     "output_type": "display_data"
    }
   ],
   "source": [
    "grafico_sentimientos_datasetPredicc_RF = testeo_predicciones_RandomForest.groupby('Sentimiento').count()\n",
    "sns.barplot(data = grafico_sentimientos_datasetPredicc_RF, x = grafico_sentimientos_datasetInicial.index, y = 'Tweet')"
   ]
  },
  {
   "cell_type": "code",
   "execution_count": 39,
   "id": "378f9f98",
   "metadata": {},
   "outputs": [],
   "source": [
    "testeo_predicciones_RandomForest.to_csv(r'../Datasets/TesteoRandomForest.csv')"
   ]
  },
  {
   "cell_type": "markdown",
   "id": "a6354a4c",
   "metadata": {},
   "source": [
    "### Reporte metricas para el modelo con Random Forest"
   ]
  },
  {
   "cell_type": "code",
   "execution_count": 40,
   "id": "39ea9604",
   "metadata": {
    "scrolled": true
   },
   "outputs": [
    {
     "name": "stdout",
     "output_type": "stream",
     "text": [
      "Reporte de clasificación:\n",
      "              precision    recall  f1-score   support\n",
      "\n",
      "    negative       0.81      0.52      0.63       331\n",
      "     neutral       0.21      0.60      0.31        42\n",
      "    positive       0.42      0.56      0.48       125\n",
      "\n",
      "    accuracy                           0.54       498\n",
      "   macro avg       0.48      0.56      0.48       498\n",
      "weighted avg       0.66      0.54      0.57       498\n",
      "\n"
     ]
    }
   ],
   "source": [
    "# Reporte de metricas (F1-SCORE, RECALL, PRECISION, ACCURACY) en el modelo SVM\n",
    "print('Reporte de clasificación:')\n",
    "print(classification_report(prediccionModeloRandomForest, test_Y))"
   ]
  },
  {
   "cell_type": "markdown",
   "id": "3eff5bd9",
   "metadata": {},
   "source": [
    "# Predicción de nuevos Tweets"
   ]
  },
  {
   "cell_type": "code",
   "execution_count": 41,
   "id": "2bf75917",
   "metadata": {},
   "outputs": [
    {
     "data": {
      "text/html": [
       "<div>\n",
       "<style scoped>\n",
       "    .dataframe tbody tr th:only-of-type {\n",
       "        vertical-align: middle;\n",
       "    }\n",
       "\n",
       "    .dataframe tbody tr th {\n",
       "        vertical-align: top;\n",
       "    }\n",
       "\n",
       "    .dataframe thead th {\n",
       "        text-align: right;\n",
       "    }\n",
       "</style>\n",
       "<table border=\"1\" class=\"dataframe\">\n",
       "  <thead>\n",
       "    <tr style=\"text-align: right;\">\n",
       "      <th></th>\n",
       "      <th>Tweet</th>\n",
       "      <th>Sentimiento</th>\n",
       "    </tr>\n",
       "  </thead>\n",
       "  <tbody>\n",
       "    <tr>\n",
       "      <th>0</th>\n",
       "      <td>por que la vacuna del vph no es publica y teng...</td>\n",
       "      <td>NaN</td>\n",
       "    </tr>\n",
       "    <tr>\n",
       "      <th>1</th>\n",
       "      <td>cuando creas que tienes un mal dia piensa en l...</td>\n",
       "      <td>NaN</td>\n",
       "    </tr>\n",
       "    <tr>\n",
       "      <th>2</th>\n",
       "      <td>perdonen mi ignorancia entonces si astrazeneca...</td>\n",
       "      <td>NaN</td>\n",
       "    </tr>\n",
       "    <tr>\n",
       "      <th>3</th>\n",
       "      <td>llevo mas de año diciendo que la vacuna que me...</td>\n",
       "      <td>NaN</td>\n",
       "    </tr>\n",
       "    <tr>\n",
       "      <th>4</th>\n",
       "      <td>en israel de enero a julio llevan ya mas falle...</td>\n",
       "      <td>NaN</td>\n",
       "    </tr>\n",
       "    <tr>\n",
       "      <th>...</th>\n",
       "      <td>...</td>\n",
       "      <td>...</td>\n",
       "    </tr>\n",
       "    <tr>\n",
       "      <th>335</th>\n",
       "      <td>donde estan vacunando con la pfizer no quiero ...</td>\n",
       "      <td>NaN</td>\n",
       "    </tr>\n",
       "    <tr>\n",
       "      <th>336</th>\n",
       "      <td>mala idea ponerme la pfizer hoy parce me estoy...</td>\n",
       "      <td>NaN</td>\n",
       "    </tr>\n",
       "    <tr>\n",
       "      <th>337</th>\n",
       "      <td>aqui re arrepentida de ponerme pfizer</td>\n",
       "      <td>NaN</td>\n",
       "    </tr>\n",
       "    <tr>\n",
       "      <th>338</th>\n",
       "      <td>duda solo tengo vacuna en febrero de aztra pue...</td>\n",
       "      <td>NaN</td>\n",
       "    </tr>\n",
       "    <tr>\n",
       "      <th>339</th>\n",
       "      <td>con años puedo ponerme la da dosis pfizer o no</td>\n",
       "      <td>NaN</td>\n",
       "    </tr>\n",
       "  </tbody>\n",
       "</table>\n",
       "<p>340 rows × 2 columns</p>\n",
       "</div>"
      ],
      "text/plain": [
       "                                                 Tweet Sentimiento\n",
       "0    por que la vacuna del vph no es publica y teng...         NaN\n",
       "1    cuando creas que tienes un mal dia piensa en l...         NaN\n",
       "2    perdonen mi ignorancia entonces si astrazeneca...         NaN\n",
       "3    llevo mas de año diciendo que la vacuna que me...         NaN\n",
       "4    en israel de enero a julio llevan ya mas falle...         NaN\n",
       "..                                                 ...         ...\n",
       "335  donde estan vacunando con la pfizer no quiero ...         NaN\n",
       "336  mala idea ponerme la pfizer hoy parce me estoy...         NaN\n",
       "337              aqui re arrepentida de ponerme pfizer         NaN\n",
       "338  duda solo tengo vacuna en febrero de aztra pue...         NaN\n",
       "339     con años puedo ponerme la da dosis pfizer o no         NaN\n",
       "\n",
       "[340 rows x 2 columns]"
      ]
     },
     "execution_count": 41,
     "metadata": {},
     "output_type": "execute_result"
    }
   ],
   "source": [
    "tweets = pd.read_csv(r'../Datasets/Tweets_Prediccion.csv')\n",
    "tweets"
   ]
  },
  {
   "cell_type": "code",
   "execution_count": 42,
   "id": "2583e312",
   "metadata": {},
   "outputs": [
    {
     "data": {
      "text/html": [
       "<div>\n",
       "<style scoped>\n",
       "    .dataframe tbody tr th:only-of-type {\n",
       "        vertical-align: middle;\n",
       "    }\n",
       "\n",
       "    .dataframe tbody tr th {\n",
       "        vertical-align: top;\n",
       "    }\n",
       "\n",
       "    .dataframe thead th {\n",
       "        text-align: right;\n",
       "    }\n",
       "</style>\n",
       "<table border=\"1\" class=\"dataframe\">\n",
       "  <thead>\n",
       "    <tr style=\"text-align: right;\">\n",
       "      <th></th>\n",
       "      <th>Tweet</th>\n",
       "      <th>Sentimiento</th>\n",
       "      <th>Tweet Limpio</th>\n",
       "    </tr>\n",
       "  </thead>\n",
       "  <tbody>\n",
       "    <tr>\n",
       "      <th>0</th>\n",
       "      <td>por que la vacuna del vph no es publica y teng...</td>\n",
       "      <td>NaN</td>\n",
       "      <td>vacuna vph publica pagar mil pesos dosis mujer...</td>\n",
       "    </tr>\n",
       "    <tr>\n",
       "      <th>1</th>\n",
       "      <td>cuando creas que tienes un mal dia piensa en l...</td>\n",
       "      <td>NaN</td>\n",
       "      <td>creas tienes piensa vacunado astrazeneca acaba...</td>\n",
       "    </tr>\n",
       "    <tr>\n",
       "      <th>2</th>\n",
       "      <td>perdonen mi ignorancia entonces si astrazeneca...</td>\n",
       "      <td>NaN</td>\n",
       "      <td>perdonen ignorancia astrazeneca potencialmente...</td>\n",
       "    </tr>\n",
       "    <tr>\n",
       "      <th>3</th>\n",
       "      <td>llevo mas de año diciendo que la vacuna que me...</td>\n",
       "      <td>NaN</td>\n",
       "      <td>llevo año diciendo vacuna pusieron astrazeneca...</td>\n",
       "    </tr>\n",
       "    <tr>\n",
       "      <th>4</th>\n",
       "      <td>en israel de enero a julio llevan ya mas falle...</td>\n",
       "      <td>NaN</td>\n",
       "      <td>israel enero julio llevan fallecidos completo ...</td>\n",
       "    </tr>\n",
       "    <tr>\n",
       "      <th>...</th>\n",
       "      <td>...</td>\n",
       "      <td>...</td>\n",
       "      <td>...</td>\n",
       "    </tr>\n",
       "    <tr>\n",
       "      <th>335</th>\n",
       "      <td>donde estan vacunando con la pfizer no quiero ...</td>\n",
       "      <td>NaN</td>\n",
       "      <td>vacunando pfizer quiero ponerme moderna</td>\n",
       "    </tr>\n",
       "    <tr>\n",
       "      <th>336</th>\n",
       "      <td>mala idea ponerme la pfizer hoy parce me estoy...</td>\n",
       "      <td>NaN</td>\n",
       "      <td>mala idea ponerme pfizer parce muriendo mesa</td>\n",
       "    </tr>\n",
       "    <tr>\n",
       "      <th>337</th>\n",
       "      <td>aqui re arrepentida de ponerme pfizer</td>\n",
       "      <td>NaN</td>\n",
       "      <td>arrepentida ponerme pfizer</td>\n",
       "    </tr>\n",
       "    <tr>\n",
       "      <th>338</th>\n",
       "      <td>duda solo tengo vacuna en febrero de aztra pue...</td>\n",
       "      <td>NaN</td>\n",
       "      <td>duda vacuna febrero aztra ponerme pfizer debo ...</td>\n",
       "    </tr>\n",
       "    <tr>\n",
       "      <th>339</th>\n",
       "      <td>con años puedo ponerme la da dosis pfizer o no</td>\n",
       "      <td>NaN</td>\n",
       "      <td>años ponerme dosis pfizer</td>\n",
       "    </tr>\n",
       "  </tbody>\n",
       "</table>\n",
       "<p>340 rows × 3 columns</p>\n",
       "</div>"
      ],
      "text/plain": [
       "                                                 Tweet Sentimiento  \\\n",
       "0    por que la vacuna del vph no es publica y teng...         NaN   \n",
       "1    cuando creas que tienes un mal dia piensa en l...         NaN   \n",
       "2    perdonen mi ignorancia entonces si astrazeneca...         NaN   \n",
       "3    llevo mas de año diciendo que la vacuna que me...         NaN   \n",
       "4    en israel de enero a julio llevan ya mas falle...         NaN   \n",
       "..                                                 ...         ...   \n",
       "335  donde estan vacunando con la pfizer no quiero ...         NaN   \n",
       "336  mala idea ponerme la pfizer hoy parce me estoy...         NaN   \n",
       "337              aqui re arrepentida de ponerme pfizer         NaN   \n",
       "338  duda solo tengo vacuna en febrero de aztra pue...         NaN   \n",
       "339     con años puedo ponerme la da dosis pfizer o no         NaN   \n",
       "\n",
       "                                          Tweet Limpio  \n",
       "0    vacuna vph publica pagar mil pesos dosis mujer...  \n",
       "1    creas tienes piensa vacunado astrazeneca acaba...  \n",
       "2    perdonen ignorancia astrazeneca potencialmente...  \n",
       "3    llevo año diciendo vacuna pusieron astrazeneca...  \n",
       "4    israel enero julio llevan fallecidos completo ...  \n",
       "..                                                 ...  \n",
       "335            vacunando pfizer quiero ponerme moderna  \n",
       "336       mala idea ponerme pfizer parce muriendo mesa  \n",
       "337                         arrepentida ponerme pfizer  \n",
       "338  duda vacuna febrero aztra ponerme pfizer debo ...  \n",
       "339                          años ponerme dosis pfizer  \n",
       "\n",
       "[340 rows x 3 columns]"
      ]
     },
     "execution_count": 42,
     "metadata": {},
     "output_type": "execute_result"
    }
   ],
   "source": [
    "# Funcion para aplicar limpieza en los nuevos tweets\n",
    "def limpiezaNuevosTweets(dataframe):\n",
    "    \n",
    "    tweets = dataframe\n",
    "    \n",
    "    dataframe['Tweet Limpio'] = dataframe['Tweet'].str.lower()\n",
    "    dataframe['Tweet Limpio'] = dataframe['Tweet Limpio'].apply(limpiezaTweets)\n",
    "    dataframe['Tweet Limpio'] = dataframe['Tweet Limpio'].apply(removerStopWords)\n",
    "    dataframe['Tweet Limpio'] = dataframe['Tweet Limpio'].apply(removerTildes)\n",
    "    \n",
    "    return tweets\n",
    "\n",
    "tweets = limpiezaNuevosTweets(tweets)\n",
    "tweets"
   ]
  },
  {
   "cell_type": "markdown",
   "id": "61be7468",
   "metadata": {},
   "source": [
    "## Se aplica el modelo seleccionado para la prediccion de los nuevos Tweets"
   ]
  },
  {
   "cell_type": "code",
   "execution_count": 43,
   "id": "3b748c3d",
   "metadata": {},
   "outputs": [],
   "source": [
    "# Se aplica la matriz tf-idf a los nuevos tweets para la prediccion\n",
    "tweets_X_tfidf = tf_idf_vectores.transform(tweets['Tweet'])\n",
    "\n",
    "prediccionNuevosTweetsModeloRandomForest = modelo_randomForest.predict(tweets_X_tfidf)\n",
    "tweets_predicciones_RandomForest = pd.DataFrame()\n",
    "tweets_predicciones_RandomForest['Tweet'] = tweets['Tweet']\n",
    "tweets_predicciones_RandomForest['Sentimiento'] = prediccionNuevosTweetsModeloRandomForest"
   ]
  },
  {
   "cell_type": "code",
   "execution_count": 44,
   "id": "de703356",
   "metadata": {},
   "outputs": [
    {
     "data": {
      "text/html": [
       "<div>\n",
       "<style scoped>\n",
       "    .dataframe tbody tr th:only-of-type {\n",
       "        vertical-align: middle;\n",
       "    }\n",
       "\n",
       "    .dataframe tbody tr th {\n",
       "        vertical-align: top;\n",
       "    }\n",
       "\n",
       "    .dataframe thead th {\n",
       "        text-align: right;\n",
       "    }\n",
       "</style>\n",
       "<table border=\"1\" class=\"dataframe\">\n",
       "  <thead>\n",
       "    <tr style=\"text-align: right;\">\n",
       "      <th></th>\n",
       "      <th>Tweet</th>\n",
       "      <th>Sentimiento</th>\n",
       "    </tr>\n",
       "  </thead>\n",
       "  <tbody>\n",
       "    <tr>\n",
       "      <th>0</th>\n",
       "      <td>por que la vacuna del vph no es publica y teng...</td>\n",
       "      <td>negative</td>\n",
       "    </tr>\n",
       "    <tr>\n",
       "      <th>1</th>\n",
       "      <td>cuando creas que tienes un mal dia piensa en l...</td>\n",
       "      <td>negative</td>\n",
       "    </tr>\n",
       "    <tr>\n",
       "      <th>2</th>\n",
       "      <td>perdonen mi ignorancia entonces si astrazeneca...</td>\n",
       "      <td>negative</td>\n",
       "    </tr>\n",
       "    <tr>\n",
       "      <th>3</th>\n",
       "      <td>llevo mas de año diciendo que la vacuna que me...</td>\n",
       "      <td>negative</td>\n",
       "    </tr>\n",
       "    <tr>\n",
       "      <th>4</th>\n",
       "      <td>en israel de enero a julio llevan ya mas falle...</td>\n",
       "      <td>negative</td>\n",
       "    </tr>\n",
       "    <tr>\n",
       "      <th>...</th>\n",
       "      <td>...</td>\n",
       "      <td>...</td>\n",
       "    </tr>\n",
       "    <tr>\n",
       "      <th>335</th>\n",
       "      <td>donde estan vacunando con la pfizer no quiero ...</td>\n",
       "      <td>negative</td>\n",
       "    </tr>\n",
       "    <tr>\n",
       "      <th>336</th>\n",
       "      <td>mala idea ponerme la pfizer hoy parce me estoy...</td>\n",
       "      <td>negative</td>\n",
       "    </tr>\n",
       "    <tr>\n",
       "      <th>337</th>\n",
       "      <td>aqui re arrepentida de ponerme pfizer</td>\n",
       "      <td>negative</td>\n",
       "    </tr>\n",
       "    <tr>\n",
       "      <th>338</th>\n",
       "      <td>duda solo tengo vacuna en febrero de aztra pue...</td>\n",
       "      <td>negative</td>\n",
       "    </tr>\n",
       "    <tr>\n",
       "      <th>339</th>\n",
       "      <td>con años puedo ponerme la da dosis pfizer o no</td>\n",
       "      <td>negative</td>\n",
       "    </tr>\n",
       "  </tbody>\n",
       "</table>\n",
       "<p>340 rows × 2 columns</p>\n",
       "</div>"
      ],
      "text/plain": [
       "                                                 Tweet Sentimiento\n",
       "0    por que la vacuna del vph no es publica y teng...    negative\n",
       "1    cuando creas que tienes un mal dia piensa en l...    negative\n",
       "2    perdonen mi ignorancia entonces si astrazeneca...    negative\n",
       "3    llevo mas de año diciendo que la vacuna que me...    negative\n",
       "4    en israel de enero a julio llevan ya mas falle...    negative\n",
       "..                                                 ...         ...\n",
       "335  donde estan vacunando con la pfizer no quiero ...    negative\n",
       "336  mala idea ponerme la pfizer hoy parce me estoy...    negative\n",
       "337              aqui re arrepentida de ponerme pfizer    negative\n",
       "338  duda solo tengo vacuna en febrero de aztra pue...    negative\n",
       "339     con años puedo ponerme la da dosis pfizer o no    negative\n",
       "\n",
       "[340 rows x 2 columns]"
      ]
     },
     "execution_count": 44,
     "metadata": {},
     "output_type": "execute_result"
    }
   ],
   "source": [
    "tweets_predicciones_RandomForest"
   ]
  },
  {
   "cell_type": "code",
   "execution_count": 45,
   "id": "86548827",
   "metadata": {},
   "outputs": [],
   "source": [
    "tweets_predicciones_RandomForest.to_csv(r'../Datasets/Tweets_Prediccion_RandomForest.csv')"
   ]
  },
  {
   "cell_type": "code",
   "execution_count": 46,
   "id": "97283a2c",
   "metadata": {
    "scrolled": true
   },
   "outputs": [
    {
     "data": {
      "text/plain": [
       "<AxesSubplot:xlabel='Sentimiento', ylabel='Tweet'>"
      ]
     },
     "execution_count": 46,
     "metadata": {},
     "output_type": "execute_result"
    },
    {
     "data": {
      "image/png": "[encoded data removed]",
      "text/plain": [
       "<Figure size 432x288 with 1 Axes>"
      ]
     },
     "metadata": {},
     "output_type": "display_data"
    }
   ],
   "source": [
    "grafico_sentimientos_datasetPredicc_RF_NUEVO = tweets_predicciones_RandomForest.groupby('Sentimiento').count()\n",
    "sns.barplot(data = grafico_sentimientos_datasetPredicc_RF_NUEVO, x = grafico_sentimientos_datasetInicial.index, y = 'Tweet')"
   ]
  }
 ],
 "metadata": {
  "kernelspec": {
   "display_name": "Python 3 (ipykernel)",
   "language": "python",
   "name": "python3"
  },
  "language_info": {
   "codemirror_mode": {
    "name": "ipython",
    "version": 3
   },
   "file_extension": ".py",
   "mimetype": "text/x-python",
   "name": "python",
   "nbconvert_exporter": "python",
   "pygments_lexer": "ipython3",
   "version": "3.9.12"
  },
  "nbTranslate": {
   "displayLangs": [
    "*"
   ],
   "hotkey": "alt-t",
   "langInMainMenu": true,
   "sourceLang": "en",
   "targetLang": "fr",
   "useGoogleTranslate": true
  },
  "toc": {
   "base_numbering": 1,
   "nav_menu": {},
   "number_sections": true,
   "sideBar": true,
   "skip_h1_title": false,
   "title_cell": "Table of Contents",
   "title_sidebar": "Contents",
   "toc_cell": false,
   "toc_position": {},
   "toc_section_display": true,
   "toc_window_display": false
  },
  "varInspector": {
   "cols": {
    "lenName": 16,
    "lenType": 16,
    "lenVar": 40
   },
   "kernels_config": {
    "python": {
     "delete_cmd_postfix": "",
     "delete_cmd_prefix": "del ",
     "library": "var_list.py",
     "varRefreshCmd": "print(var_dic_list())"
    },
    "r": {
     "delete_cmd_postfix": ") ",
     "delete_cmd_prefix": "rm(",
     "library": "var_list.r",
     "varRefreshCmd": "cat(var_dic_list()) "
    }
   },
   "types_to_exclude": [
    "module",
    "function",
    "builtin_function_or_method",
    "instance",
    "_Feature"
   ],
   "window_display": false
  },
  "vscode": {
   "interpreter": {
    "hash": "369f2c481f4da34e4445cda3fffd2e751bd1c4d706f27375911949ba6bb62e1c"
   }
  }
 },
 "nbformat": 4,
 "nbformat_minor": 5
}
