{
 "cells": [
  {
   "cell_type": "markdown",
   "id": "aae46c90",
   "metadata": {},
   "source": [
    "# Librerias Necesarias"
   ]
  },
  {
   "cell_type": "code",
   "execution_count": 1,
   "id": "25a6f167",
   "metadata": {},
   "outputs": [],
   "source": [
    "import re\n",
    "import spacy\n",
    "import sklearn\n",
    "import numpy as np\n",
    "import pandas as pd\n",
    "import matplotlib.pyplot as plt\n",
    "\n",
    "from spacy.lang.es.stop_words import STOP_WORDS\n",
    "\n",
    "from sklearn import model_selection\n",
    "from sklearn.model_selection import train_test_split\n",
    "from sklearn.feature_extraction.text import TfidfVectorizer\n",
    "\n",
    "from sklearn.ensemble import RandomForestClassifier\n",
    "from sklearn.model_selection import GridSearchCV \n",
    "\n",
    "from sklearn import svm\n",
    "from sklearn.svm import SVC\n",
    "\n",
    "from sklearn.metrics import classification_report\n",
    "from sklearn.metrics import accuracy_score\n",
    "from sklearn.metrics import f1_score\n",
    "from sklearn.metrics import recall_score\n",
    "\n",
    "\n",
    "# Visualizacion\n",
    "import matplotlib.pyplot as plt\n",
    "import seaborn as sns; sns.set(font_scale=1.2)\n",
    "\n",
    "\n",
    "# Guardar Modelos\n",
    "import pickle"
   ]
  },
  {
   "cell_type": "markdown",
   "id": "7b42f0ab",
   "metadata": {},
   "source": [
    "# Dataset"
   ]
  },
  {
   "cell_type": "code",
   "execution_count": 2,
   "id": "a7534433",
   "metadata": {},
   "outputs": [],
   "source": [
    "# Cargar Datos\n",
    "dataset = pd.read_csv(r'../Datasets/Tweets_Sentimientos.csv')"
   ]
  },
  {
   "cell_type": "code",
   "execution_count": 3,
   "id": "391bcaf8",
   "metadata": {
    "scrolled": false
   },
   "outputs": [
    {
     "data": {
      "text/html": [
       "<div>\n",
       "<style scoped>\n",
       "    .dataframe tbody tr th:only-of-type {\n",
       "        vertical-align: middle;\n",
       "    }\n",
       "\n",
       "    .dataframe tbody tr th {\n",
       "        vertical-align: top;\n",
       "    }\n",
       "\n",
       "    .dataframe thead th {\n",
       "        text-align: right;\n",
       "    }\n",
       "</style>\n",
       "<table border=\"1\" class=\"dataframe\">\n",
       "  <thead>\n",
       "    <tr style=\"text-align: right;\">\n",
       "      <th></th>\n",
       "      <th>Tweet</th>\n",
       "      <th>Sentimiento</th>\n",
       "    </tr>\n",
       "  </thead>\n",
       "  <tbody>\n",
       "    <tr>\n",
       "      <th>0</th>\n",
       "      <td>colombia recibio dosis de astrazeneca1234 dona...</td>\n",
       "      <td>neutral</td>\n",
       "    </tr>\n",
       "    <tr>\n",
       "      <th>1</th>\n",
       "      <td>a proposito del año pnv terminamos con cero pe...</td>\n",
       "      <td>positive</td>\n",
       "    </tr>\n",
       "    <tr>\n",
       "      <th>2</th>\n",
       "      <td>queremos agradecer al gobierno canadiense y su...</td>\n",
       "      <td>neutral</td>\n",
       "    </tr>\n",
       "    <tr>\n",
       "      <th>3</th>\n",
       "      <td>aestahora colombia recibe dosis de vacunas de ...</td>\n",
       "      <td>neutral</td>\n",
       "    </tr>\n",
       "    <tr>\n",
       "      <th>4</th>\n",
       "      <td>hablando de por que las vacunas no se deben us...</td>\n",
       "      <td>negative</td>\n",
       "    </tr>\n",
       "    <tr>\n",
       "      <th>...</th>\n",
       "      <td>...</td>\n",
       "      <td>...</td>\n",
       "    </tr>\n",
       "    <tr>\n",
       "      <th>1655</th>\n",
       "      <td>mi oufit de hoy para ir a vacunarme creo que h...</td>\n",
       "      <td>positive</td>\n",
       "    </tr>\n",
       "    <tr>\n",
       "      <th>1656</th>\n",
       "      <td>en españa el proceso de vacunacion ya va por e...</td>\n",
       "      <td>negative</td>\n",
       "    </tr>\n",
       "    <tr>\n",
       "      <th>1657</th>\n",
       "      <td>pues porque apenas empezamos webon por gente c...</td>\n",
       "      <td>positive</td>\n",
       "    </tr>\n",
       "    <tr>\n",
       "      <th>1658</th>\n",
       "      <td>en el parque de los novios todos sin tapabocas...</td>\n",
       "      <td>negative</td>\n",
       "    </tr>\n",
       "    <tr>\n",
       "      <th>1659</th>\n",
       "      <td>las vacunas pfizer cumplen con su objetivo de ...</td>\n",
       "      <td>positive</td>\n",
       "    </tr>\n",
       "  </tbody>\n",
       "</table>\n",
       "<p>1660 rows × 2 columns</p>\n",
       "</div>"
      ],
      "text/plain": [
       "                                                  Tweet Sentimiento\n",
       "0     colombia recibio dosis de astrazeneca1234 dona...     neutral\n",
       "1     a proposito del año pnv terminamos con cero pe...    positive\n",
       "2     queremos agradecer al gobierno canadiense y su...     neutral\n",
       "3     aestahora colombia recibe dosis de vacunas de ...     neutral\n",
       "4     hablando de por que las vacunas no se deben us...    negative\n",
       "...                                                 ...         ...\n",
       "1655  mi oufit de hoy para ir a vacunarme creo que h...    positive\n",
       "1656  en españa el proceso de vacunacion ya va por e...    negative\n",
       "1657  pues porque apenas empezamos webon por gente c...    positive\n",
       "1658  en el parque de los novios todos sin tapabocas...    negative\n",
       "1659  las vacunas pfizer cumplen con su objetivo de ...    positive\n",
       "\n",
       "[1660 rows x 2 columns]"
      ]
     },
     "execution_count": 3,
     "metadata": {},
     "output_type": "execute_result"
    }
   ],
   "source": [
    "dataset"
   ]
  },
  {
   "cell_type": "markdown",
   "id": "9e8e889e",
   "metadata": {},
   "source": [
    "## Cantdad de sentimientos por categoria"
   ]
  },
  {
   "cell_type": "code",
   "execution_count": 4,
   "id": "7f644bfd",
   "metadata": {},
   "outputs": [
    {
     "data": {
      "text/plain": [
       "<AxesSubplot:xlabel='Sentimiento', ylabel='Tweet'>"
      ]
     },
     "execution_count": 4,
     "metadata": {},
     "output_type": "execute_result"
    },
    {
     "data": {
      "image/png": "[encoded data removed]",
      "text/plain": [
       "<Figure size 432x288 with 1 Axes>"
      ]
     },
     "metadata": {},
     "output_type": "display_data"
    }
   ],
   "source": [
    "grafico_sentimientos_datasetInicial = dataset.groupby('Sentimiento').count()\n",
    "sns.barplot(data = grafico_sentimientos_datasetInicial, x = grafico_sentimientos_datasetInicial.index, y = 'Tweet')"
   ]
  },
  {
   "cell_type": "markdown",
   "id": "6f444e10",
   "metadata": {},
   "source": [
    "# Datos de entrenamiento y Testeo"
   ]
  },
  {
   "cell_type": "code",
   "execution_count": 5,
   "id": "1710d582",
   "metadata": {},
   "outputs": [],
   "source": [
    "# Datos de entrenamiento y testeo\n",
    "train_X, test_X, train_Y, test_Y = model_selection.train_test_split(dataset['Tweet'], dataset['Sentimiento'], test_size = 0.30, random_state = 0)"
   ]
  },
  {
   "cell_type": "code",
   "execution_count": 6,
   "id": "c29db783",
   "metadata": {},
   "outputs": [],
   "source": [
    "# Datos de Entrenamiento\n",
    "df_train70 = pd.DataFrame()\n",
    "df_train70['Tweet'] = train_X\n",
    "df_train70['Sentimiento'] = train_Y\n",
    "df_train70['Tweet Limpio'] = df_train70['Tweet'].str.lower()\n",
    "\n",
    "# Datos de Prueba\n",
    "df_test30 = pd.DataFrame()\n",
    "df_test30['Tweet'] = test_X\n",
    "df_test30['Sentimiento'] = test_Y\n",
    "df_test30['Tweet Limpio'] = df_test30['Tweet'].str.lower()"
   ]
  },
  {
   "cell_type": "code",
   "execution_count": 7,
   "id": "0777b246",
   "metadata": {
    "scrolled": false
   },
   "outputs": [
    {
     "data": {
      "text/html": [
       "<div>\n",
       "<style scoped>\n",
       "    .dataframe tbody tr th:only-of-type {\n",
       "        vertical-align: middle;\n",
       "    }\n",
       "\n",
       "    .dataframe tbody tr th {\n",
       "        vertical-align: top;\n",
       "    }\n",
       "\n",
       "    .dataframe thead th {\n",
       "        text-align: right;\n",
       "    }\n",
       "</style>\n",
       "<table border=\"1\" class=\"dataframe\">\n",
       "  <thead>\n",
       "    <tr style=\"text-align: right;\">\n",
       "      <th></th>\n",
       "      <th>Tweet</th>\n",
       "      <th>Sentimiento</th>\n",
       "      <th>Tweet Limpio</th>\n",
       "    </tr>\n",
       "  </thead>\n",
       "  <tbody>\n",
       "    <tr>\n",
       "      <th>39</th>\n",
       "      <td>el gobierno nos quiere ver la cara nos quieren...</td>\n",
       "      <td>negative</td>\n",
       "      <td>el gobierno nos quiere ver la cara nos quieren...</td>\n",
       "    </tr>\n",
       "    <tr>\n",
       "      <th>1567</th>\n",
       "      <td>vimos el desastre sanitario que nos provocaron...</td>\n",
       "      <td>negative</td>\n",
       "      <td>vimos el desastre sanitario que nos provocaron...</td>\n",
       "    </tr>\n",
       "    <tr>\n",
       "      <th>1246</th>\n",
       "      <td>al margen de conspiracion o no pienso que la v...</td>\n",
       "      <td>negative</td>\n",
       "      <td>al margen de conspiracion o no pienso que la v...</td>\n",
       "    </tr>\n",
       "    <tr>\n",
       "      <th>840</th>\n",
       "      <td>ya fue a mercar claro que a usted eso no lo af...</td>\n",
       "      <td>negative</td>\n",
       "      <td>ya fue a mercar claro que a usted eso no lo af...</td>\n",
       "    </tr>\n",
       "    <tr>\n",
       "      <th>651</th>\n",
       "      <td>recuerden vacunarse para no tener problemas en...</td>\n",
       "      <td>positive</td>\n",
       "      <td>recuerden vacunarse para no tener problemas en...</td>\n",
       "    </tr>\n",
       "    <tr>\n",
       "      <th>...</th>\n",
       "      <td>...</td>\n",
       "      <td>...</td>\n",
       "      <td>...</td>\n",
       "    </tr>\n",
       "    <tr>\n",
       "      <th>835</th>\n",
       "      <td>el gobierno no piensan adquirir mas vacunas pf...</td>\n",
       "      <td>negative</td>\n",
       "      <td>el gobierno no piensan adquirir mas vacunas pf...</td>\n",
       "    </tr>\n",
       "    <tr>\n",
       "      <th>1216</th>\n",
       "      <td>cuando veo que janssen es trending pienso que ...</td>\n",
       "      <td>neutral</td>\n",
       "      <td>cuando veo que janssen es trending pienso que ...</td>\n",
       "    </tr>\n",
       "    <tr>\n",
       "      <th>1653</th>\n",
       "      <td>tanto venezolano exigiendo vacunas para el cov...</td>\n",
       "      <td>negative</td>\n",
       "      <td>tanto venezolano exigiendo vacunas para el cov...</td>\n",
       "    </tr>\n",
       "    <tr>\n",
       "      <th>559</th>\n",
       "      <td>ni loco me pongo yo una vaina de jansse esa mo...</td>\n",
       "      <td>negative</td>\n",
       "      <td>ni loco me pongo yo una vaina de jansse esa mo...</td>\n",
       "    </tr>\n",
       "    <tr>\n",
       "      <th>684</th>\n",
       "      <td>en rionegro nos quedamos sin vacunas pfizer y ...</td>\n",
       "      <td>negative</td>\n",
       "      <td>en rionegro nos quedamos sin vacunas pfizer y ...</td>\n",
       "    </tr>\n",
       "  </tbody>\n",
       "</table>\n",
       "<p>1162 rows × 3 columns</p>\n",
       "</div>"
      ],
      "text/plain": [
       "                                                  Tweet Sentimiento  \\\n",
       "39    el gobierno nos quiere ver la cara nos quieren...    negative   \n",
       "1567  vimos el desastre sanitario que nos provocaron...    negative   \n",
       "1246  al margen de conspiracion o no pienso que la v...    negative   \n",
       "840   ya fue a mercar claro que a usted eso no lo af...    negative   \n",
       "651   recuerden vacunarse para no tener problemas en...    positive   \n",
       "...                                                 ...         ...   \n",
       "835   el gobierno no piensan adquirir mas vacunas pf...    negative   \n",
       "1216  cuando veo que janssen es trending pienso que ...     neutral   \n",
       "1653  tanto venezolano exigiendo vacunas para el cov...    negative   \n",
       "559   ni loco me pongo yo una vaina de jansse esa mo...    negative   \n",
       "684   en rionegro nos quedamos sin vacunas pfizer y ...    negative   \n",
       "\n",
       "                                           Tweet Limpio  \n",
       "39    el gobierno nos quiere ver la cara nos quieren...  \n",
       "1567  vimos el desastre sanitario que nos provocaron...  \n",
       "1246  al margen de conspiracion o no pienso que la v...  \n",
       "840   ya fue a mercar claro que a usted eso no lo af...  \n",
       "651   recuerden vacunarse para no tener problemas en...  \n",
       "...                                                 ...  \n",
       "835   el gobierno no piensan adquirir mas vacunas pf...  \n",
       "1216  cuando veo que janssen es trending pienso que ...  \n",
       "1653  tanto venezolano exigiendo vacunas para el cov...  \n",
       "559   ni loco me pongo yo una vaina de jansse esa mo...  \n",
       "684   en rionegro nos quedamos sin vacunas pfizer y ...  \n",
       "\n",
       "[1162 rows x 3 columns]"
      ]
     },
     "execution_count": 7,
     "metadata": {},
     "output_type": "execute_result"
    }
   ],
   "source": [
    "df_train70"
   ]
  },
  {
   "cell_type": "markdown",
   "id": "ac583e2f",
   "metadata": {},
   "source": [
    "## Cantidad de sentimientos por categoria en datos de entrenamiento"
   ]
  },
  {
   "cell_type": "code",
   "execution_count": 8,
   "id": "bf7c29cb",
   "metadata": {
    "scrolled": true
   },
   "outputs": [
    {
     "data": {
      "text/plain": [
       "<AxesSubplot:xlabel='Sentimiento', ylabel='Tweet'>"
      ]
     },
     "execution_count": 8,
     "metadata": {},
     "output_type": "execute_result"
    },
    {
     "data": {
      "image/png": "[encoded data removed]",
      "text/plain": [
       "<Figure size 432x288 with 1 Axes>"
      ]
     },
     "metadata": {},
     "output_type": "display_data"
    }
   ],
   "source": [
    "grafico_sentimientos_datasetEntrenamiento = df_train70.groupby('Sentimiento').count()\n",
    "sns.barplot(data = grafico_sentimientos_datasetEntrenamiento, x = grafico_sentimientos_datasetInicial.index, y = 'Tweet')"
   ]
  },
  {
   "cell_type": "code",
   "execution_count": 9,
   "id": "80cdee32",
   "metadata": {},
   "outputs": [
    {
     "data": {
      "text/html": [
       "<div>\n",
       "<style scoped>\n",
       "    .dataframe tbody tr th:only-of-type {\n",
       "        vertical-align: middle;\n",
       "    }\n",
       "\n",
       "    .dataframe tbody tr th {\n",
       "        vertical-align: top;\n",
       "    }\n",
       "\n",
       "    .dataframe thead th {\n",
       "        text-align: right;\n",
       "    }\n",
       "</style>\n",
       "<table border=\"1\" class=\"dataframe\">\n",
       "  <thead>\n",
       "    <tr style=\"text-align: right;\">\n",
       "      <th></th>\n",
       "      <th>Tweet</th>\n",
       "      <th>Sentimiento</th>\n",
       "      <th>Tweet Limpio</th>\n",
       "    </tr>\n",
       "  </thead>\n",
       "  <tbody>\n",
       "    <tr>\n",
       "      <th>1265</th>\n",
       "      <td>pero este hombre tenia dosis de vacuna pfizer ...</td>\n",
       "      <td>negative</td>\n",
       "      <td>pero este hombre tenia dosis de vacuna pfizer ...</td>\n",
       "    </tr>\n",
       "    <tr>\n",
       "      <th>342</th>\n",
       "      <td>no me vacuno por nada del mundo un vecino sufr...</td>\n",
       "      <td>negative</td>\n",
       "      <td>no me vacuno por nada del mundo un vecino sufr...</td>\n",
       "    </tr>\n",
       "    <tr>\n",
       "      <th>381</th>\n",
       "      <td>en el centro comercial guacari aun estan coloc...</td>\n",
       "      <td>positive</td>\n",
       "      <td>en el centro comercial guacari aun estan coloc...</td>\n",
       "    </tr>\n",
       "    <tr>\n",
       "      <th>511</th>\n",
       "      <td>si presentas sintomas despues de vacunarte con...</td>\n",
       "      <td>neutral</td>\n",
       "      <td>si presentas sintomas despues de vacunarte con...</td>\n",
       "    </tr>\n",
       "    <tr>\n",
       "      <th>1205</th>\n",
       "      <td>alguien me explica pq uno no puede elegir que ...</td>\n",
       "      <td>negative</td>\n",
       "      <td>alguien me explica pq uno no puede elegir que ...</td>\n",
       "    </tr>\n",
       "    <tr>\n",
       "      <th>...</th>\n",
       "      <td>...</td>\n",
       "      <td>...</td>\n",
       "      <td>...</td>\n",
       "    </tr>\n",
       "    <tr>\n",
       "      <th>1277</th>\n",
       "      <td>critico las medidas inefectivas contra el covi...</td>\n",
       "      <td>positive</td>\n",
       "      <td>critico las medidas inefectivas contra el covi...</td>\n",
       "    </tr>\n",
       "    <tr>\n",
       "      <th>792</th>\n",
       "      <td>que dirian nuestros ancestros cayendo en los t...</td>\n",
       "      <td>negative</td>\n",
       "      <td>que dirian nuestros ancestros cayendo en los t...</td>\n",
       "    </tr>\n",
       "    <tr>\n",
       "      <th>1359</th>\n",
       "      <td>sinovac tambien es muy buena ha tenido mala pr...</td>\n",
       "      <td>positive</td>\n",
       "      <td>sinovac tambien es muy buena ha tenido mala pr...</td>\n",
       "    </tr>\n",
       "    <tr>\n",
       "      <th>77</th>\n",
       "      <td>a todos los de astrazeneca les estan aplicando...</td>\n",
       "      <td>neutral</td>\n",
       "      <td>a todos los de astrazeneca les estan aplicando...</td>\n",
       "    </tr>\n",
       "    <tr>\n",
       "      <th>746</th>\n",
       "      <td>se me perdio el carnet de vacunacion si le dig...</td>\n",
       "      <td>neutral</td>\n",
       "      <td>se me perdio el carnet de vacunacion si le dig...</td>\n",
       "    </tr>\n",
       "  </tbody>\n",
       "</table>\n",
       "<p>498 rows × 3 columns</p>\n",
       "</div>"
      ],
      "text/plain": [
       "                                                  Tweet Sentimiento  \\\n",
       "1265  pero este hombre tenia dosis de vacuna pfizer ...    negative   \n",
       "342   no me vacuno por nada del mundo un vecino sufr...    negative   \n",
       "381   en el centro comercial guacari aun estan coloc...    positive   \n",
       "511   si presentas sintomas despues de vacunarte con...     neutral   \n",
       "1205  alguien me explica pq uno no puede elegir que ...    negative   \n",
       "...                                                 ...         ...   \n",
       "1277  critico las medidas inefectivas contra el covi...    positive   \n",
       "792   que dirian nuestros ancestros cayendo en los t...    negative   \n",
       "1359  sinovac tambien es muy buena ha tenido mala pr...    positive   \n",
       "77    a todos los de astrazeneca les estan aplicando...     neutral   \n",
       "746   se me perdio el carnet de vacunacion si le dig...     neutral   \n",
       "\n",
       "                                           Tweet Limpio  \n",
       "1265  pero este hombre tenia dosis de vacuna pfizer ...  \n",
       "342   no me vacuno por nada del mundo un vecino sufr...  \n",
       "381   en el centro comercial guacari aun estan coloc...  \n",
       "511   si presentas sintomas despues de vacunarte con...  \n",
       "1205  alguien me explica pq uno no puede elegir que ...  \n",
       "...                                                 ...  \n",
       "1277  critico las medidas inefectivas contra el covi...  \n",
       "792   que dirian nuestros ancestros cayendo en los t...  \n",
       "1359  sinovac tambien es muy buena ha tenido mala pr...  \n",
       "77    a todos los de astrazeneca les estan aplicando...  \n",
       "746   se me perdio el carnet de vacunacion si le dig...  \n",
       "\n",
       "[498 rows x 3 columns]"
      ]
     },
     "execution_count": 9,
     "metadata": {},
     "output_type": "execute_result"
    }
   ],
   "source": [
    "df_test30"
   ]
  },
  {
   "cell_type": "markdown",
   "id": "31ea4729",
   "metadata": {},
   "source": [
    "## Cantidad de sentimientos por categoria en datos de testeo"
   ]
  },
  {
   "cell_type": "code",
   "execution_count": 10,
   "id": "db715905",
   "metadata": {},
   "outputs": [
    {
     "data": {
      "text/plain": [
       "<AxesSubplot:xlabel='Sentimiento', ylabel='Tweet'>"
      ]
     },
     "execution_count": 10,
     "metadata": {},
     "output_type": "execute_result"
    },
    {
     "data": {
      "image/png": "[encoded data removed]",
      "text/plain": [
       "<Figure size 432x288 with 1 Axes>"
      ]
     },
     "metadata": {},
     "output_type": "display_data"
    }
   ],
   "source": [
    "grafico_sentimientos_datasetTesteo = df_test30.groupby('Sentimiento').count()\n",
    "sns.barplot(data = grafico_sentimientos_datasetTesteo, x = grafico_sentimientos_datasetInicial.index, y = 'Tweet')"
   ]
  },
  {
   "cell_type": "code",
   "execution_count": 11,
   "id": "53f3789e",
   "metadata": {},
   "outputs": [],
   "source": [
    "# Guardar los nuevos Datasets como csv\n",
    "df_train70.to_csv(r'../Datasets/Tweets_Sentimientos_Train70.csv')\n",
    "df_test30.to_csv(r'../Datasets/Tweets_Sentimientos_Test30.csv')"
   ]
  },
  {
   "cell_type": "markdown",
   "id": "570aaf5e",
   "metadata": {},
   "source": [
    "# Funciones de Limpieza de Tweets "
   ]
  },
  {
   "cell_type": "code",
   "execution_count": 12,
   "id": "eb7ca8fa",
   "metadata": {},
   "outputs": [],
   "source": [
    "# Funciones para la limpieza de los Datasets\n",
    "def limpiezaTweets(tweet):\n",
    "    eliminarUsuario = re.compile('@\\w+')\n",
    "    eliminarUrl = re.compile('http[s]?://(?:[a-zA-Z]|[0-9]|[$-_@.&+]|[!*\\(\\),]|(?:%[0-9a-fA-F][0-9a-fA-F]))+')\n",
    "    eliminarHtmlDatos = re.compile('<.*?>|&([a-z0-9]+|#[0-9]{1,6}|#x[0-9a-f]{1,6});')\n",
    "    eliminarEspaciosExtra = re.compile('[ ]{2,}')\n",
    "    eliminarCambiosLinea = re.compile('\\n+')\n",
    "\n",
    "    resultado = eliminarUrl.sub('', tweet)\n",
    "    resultado = eliminarUsuario.sub('', resultado)\n",
    "    resultado = eliminarHtmlDatos.sub('', resultado)\n",
    "    resultado = eliminarEspaciosExtra.sub('', resultado)\n",
    "    resultado = eliminarCambiosLinea.sub('', resultado)\n",
    "    resultado = re.findall('\\w+', resultado)                                    # Busca datos alfanumericos\n",
    "    resultado = [''.join(x for x in i if x.isalpha()) for i in resultado]\n",
    "    resultado = ' '.join(resultado) \n",
    "    return resultado\n",
    "\n",
    "\n",
    "def removerStopWords(tweet):\n",
    "    resultado = ''\n",
    "    if tweet != None:\n",
    "        tweet = tweet.split(\" \")\n",
    "        resultado = list(filter(lambda l: (l not in STOP_WORDS and len(l) > 2), tweet))\n",
    "        resultado = ' '.join(resultado)\n",
    "    return resultado\n",
    "\n",
    "\n",
    "def removerTildes(tweet):\n",
    "    remplazar = {\n",
    "        'á' : 'a',\n",
    "        'é' : 'e',\n",
    "        'í' : 'i',\n",
    "        'ó' : 'o',\n",
    "        'ú' : 'u'\n",
    "    }\n",
    "    for i, j in remplazar.items():\n",
    "        tweet = tweet.replace(i, j)\n",
    "    return tweet"
   ]
  },
  {
   "cell_type": "code",
   "execution_count": 13,
   "id": "43b696d2",
   "metadata": {},
   "outputs": [],
   "source": [
    "# Aplicar la limpieza a los datasets\n",
    "df_train70['Tweet Limpio'] = df_train70['Tweet Limpio'].apply(limpiezaTweets)\n",
    "df_train70['Tweet Limpio'] = df_train70['Tweet Limpio'].apply(removerStopWords)\n",
    "df_train70['Tweet Limpio'] = df_train70['Tweet Limpio'].apply(removerTildes)\n",
    "\n",
    "df_test30['Tweet Limpio'] = df_test30['Tweet Limpio'].apply(limpiezaTweets)\n",
    "df_test30['Tweet Limpio'] = df_test30['Tweet Limpio'].apply(removerStopWords)\n",
    "df_test30['Tweet Limpio'] = df_test30['Tweet Limpio'].apply(removerTildes)"
   ]
  },
  {
   "cell_type": "code",
   "execution_count": 14,
   "id": "23a2fdf0",
   "metadata": {},
   "outputs": [],
   "source": [
    "# Guardar los nuevos cambios a los Datasets \n",
    "df_train70.to_csv(r'../Datasets/Tweets_Sentimientos_Train70.csv')\n",
    "df_test30.to_csv(r'../Datasets/Tweets_Sentimientos_Test30.csv')"
   ]
  },
  {
   "cell_type": "code",
   "execution_count": 15,
   "id": "7ea62fe5",
   "metadata": {},
   "outputs": [
    {
     "data": {
      "text/html": [
       "<div>\n",
       "<style scoped>\n",
       "    .dataframe tbody tr th:only-of-type {\n",
       "        vertical-align: middle;\n",
       "    }\n",
       "\n",
       "    .dataframe tbody tr th {\n",
       "        vertical-align: top;\n",
       "    }\n",
       "\n",
       "    .dataframe thead th {\n",
       "        text-align: right;\n",
       "    }\n",
       "</style>\n",
       "<table border=\"1\" class=\"dataframe\">\n",
       "  <thead>\n",
       "    <tr style=\"text-align: right;\">\n",
       "      <th></th>\n",
       "      <th>Tweet</th>\n",
       "      <th>Sentimiento</th>\n",
       "      <th>Tweet Limpio</th>\n",
       "    </tr>\n",
       "  </thead>\n",
       "  <tbody>\n",
       "    <tr>\n",
       "      <th>39</th>\n",
       "      <td>el gobierno nos quiere ver la cara nos quieren...</td>\n",
       "      <td>negative</td>\n",
       "      <td>gobierno cara quieren obligar ponernos astraze...</td>\n",
       "    </tr>\n",
       "    <tr>\n",
       "      <th>1567</th>\n",
       "      <td>vimos el desastre sanitario que nos provocaron...</td>\n",
       "      <td>negative</td>\n",
       "      <td>vimos desastre sanitario provocaron sabiendas</td>\n",
       "    </tr>\n",
       "    <tr>\n",
       "      <th>1246</th>\n",
       "      <td>al margen de conspiracion o no pienso que la v...</td>\n",
       "      <td>negative</td>\n",
       "      <td>margen conspiracion pienso vacuna funciona eda...</td>\n",
       "    </tr>\n",
       "    <tr>\n",
       "      <th>840</th>\n",
       "      <td>ya fue a mercar claro que a usted eso no lo af...</td>\n",
       "      <td>negative</td>\n",
       "      <td>mercar afecta recibe comisiones pfizer moderna...</td>\n",
       "    </tr>\n",
       "    <tr>\n",
       "      <th>651</th>\n",
       "      <td>recuerden vacunarse para no tener problemas en...</td>\n",
       "      <td>positive</td>\n",
       "      <td>recuerden vacunarse problemas lugares publicos...</td>\n",
       "    </tr>\n",
       "    <tr>\n",
       "      <th>...</th>\n",
       "      <td>...</td>\n",
       "      <td>...</td>\n",
       "      <td>...</td>\n",
       "    </tr>\n",
       "    <tr>\n",
       "      <th>835</th>\n",
       "      <td>el gobierno no piensan adquirir mas vacunas pf...</td>\n",
       "      <td>negative</td>\n",
       "      <td>gobierno piensan adquirir vacunas pfizer esper...</td>\n",
       "    </tr>\n",
       "    <tr>\n",
       "      <th>1216</th>\n",
       "      <td>cuando veo que janssen es trending pienso que ...</td>\n",
       "      <td>neutral</td>\n",
       "      <td>veo janssen trending pienso vacuna covid reali...</td>\n",
       "    </tr>\n",
       "    <tr>\n",
       "      <th>1653</th>\n",
       "      <td>tanto venezolano exigiendo vacunas para el cov...</td>\n",
       "      <td>negative</td>\n",
       "      <td>venezolano exigiendo vacunas covid aca colombi...</td>\n",
       "    </tr>\n",
       "    <tr>\n",
       "      <th>559</th>\n",
       "      <td>ni loco me pongo yo una vaina de jansse esa mo...</td>\n",
       "      <td>negative</td>\n",
       "      <td>loco pongo vaina jansse monodosis servir</td>\n",
       "    </tr>\n",
       "    <tr>\n",
       "      <th>684</th>\n",
       "      <td>en rionegro nos quedamos sin vacunas pfizer y ...</td>\n",
       "      <td>negative</td>\n",
       "      <td>rionegro quedamos vacunas pfizer necesitan dos...</td>\n",
       "    </tr>\n",
       "  </tbody>\n",
       "</table>\n",
       "<p>1162 rows × 3 columns</p>\n",
       "</div>"
      ],
      "text/plain": [
       "                                                  Tweet Sentimiento  \\\n",
       "39    el gobierno nos quiere ver la cara nos quieren...    negative   \n",
       "1567  vimos el desastre sanitario que nos provocaron...    negative   \n",
       "1246  al margen de conspiracion o no pienso que la v...    negative   \n",
       "840   ya fue a mercar claro que a usted eso no lo af...    negative   \n",
       "651   recuerden vacunarse para no tener problemas en...    positive   \n",
       "...                                                 ...         ...   \n",
       "835   el gobierno no piensan adquirir mas vacunas pf...    negative   \n",
       "1216  cuando veo que janssen es trending pienso que ...     neutral   \n",
       "1653  tanto venezolano exigiendo vacunas para el cov...    negative   \n",
       "559   ni loco me pongo yo una vaina de jansse esa mo...    negative   \n",
       "684   en rionegro nos quedamos sin vacunas pfizer y ...    negative   \n",
       "\n",
       "                                           Tweet Limpio  \n",
       "39    gobierno cara quieren obligar ponernos astraze...  \n",
       "1567      vimos desastre sanitario provocaron sabiendas  \n",
       "1246  margen conspiracion pienso vacuna funciona eda...  \n",
       "840   mercar afecta recibe comisiones pfizer moderna...  \n",
       "651   recuerden vacunarse problemas lugares publicos...  \n",
       "...                                                 ...  \n",
       "835   gobierno piensan adquirir vacunas pfizer esper...  \n",
       "1216  veo janssen trending pienso vacuna covid reali...  \n",
       "1653  venezolano exigiendo vacunas covid aca colombi...  \n",
       "559            loco pongo vaina jansse monodosis servir  \n",
       "684   rionegro quedamos vacunas pfizer necesitan dos...  \n",
       "\n",
       "[1162 rows x 3 columns]"
      ]
     },
     "execution_count": 15,
     "metadata": {},
     "output_type": "execute_result"
    }
   ],
   "source": [
    "df_train70"
   ]
  },
  {
   "cell_type": "code",
   "execution_count": 16,
   "id": "3da70d4c",
   "metadata": {},
   "outputs": [
    {
     "data": {
      "text/html": [
       "<div>\n",
       "<style scoped>\n",
       "    .dataframe tbody tr th:only-of-type {\n",
       "        vertical-align: middle;\n",
       "    }\n",
       "\n",
       "    .dataframe tbody tr th {\n",
       "        vertical-align: top;\n",
       "    }\n",
       "\n",
       "    .dataframe thead th {\n",
       "        text-align: right;\n",
       "    }\n",
       "</style>\n",
       "<table border=\"1\" class=\"dataframe\">\n",
       "  <thead>\n",
       "    <tr style=\"text-align: right;\">\n",
       "      <th></th>\n",
       "      <th>Tweet</th>\n",
       "      <th>Sentimiento</th>\n",
       "      <th>Tweet Limpio</th>\n",
       "    </tr>\n",
       "  </thead>\n",
       "  <tbody>\n",
       "    <tr>\n",
       "      <th>1265</th>\n",
       "      <td>pero este hombre tenia dosis de vacuna pfizer ...</td>\n",
       "      <td>negative</td>\n",
       "      <td>hombre tenia dosis vacuna pfizer murio</td>\n",
       "    </tr>\n",
       "    <tr>\n",
       "      <th>342</th>\n",
       "      <td>no me vacuno por nada del mundo un vecino sufr...</td>\n",
       "      <td>negative</td>\n",
       "      <td>vacuno mundo vecino sufrio enfermedad cardiaca...</td>\n",
       "    </tr>\n",
       "    <tr>\n",
       "      <th>381</th>\n",
       "      <td>en el centro comercial guacari aun estan coloc...</td>\n",
       "      <td>positive</td>\n",
       "      <td>centro comercial guacari colocando pfizer dese...</td>\n",
       "    </tr>\n",
       "    <tr>\n",
       "      <th>511</th>\n",
       "      <td>si presentas sintomas despues de vacunarte con...</td>\n",
       "      <td>neutral</td>\n",
       "      <td>presentas sintomas vacunarte pfizer acude medi...</td>\n",
       "    </tr>\n",
       "    <tr>\n",
       "      <th>1205</th>\n",
       "      <td>alguien me explica pq uno no puede elegir que ...</td>\n",
       "      <td>negative</td>\n",
       "      <td>alguien explica elegir vacuna pone dosis pfize...</td>\n",
       "    </tr>\n",
       "    <tr>\n",
       "      <th>...</th>\n",
       "      <td>...</td>\n",
       "      <td>...</td>\n",
       "      <td>...</td>\n",
       "    </tr>\n",
       "    <tr>\n",
       "      <th>1277</th>\n",
       "      <td>critico las medidas inefectivas contra el covi...</td>\n",
       "      <td>positive</td>\n",
       "      <td>critico medidas inefectivas covid vine aplicar...</td>\n",
       "    </tr>\n",
       "    <tr>\n",
       "      <th>792</th>\n",
       "      <td>que dirian nuestros ancestros cayendo en los t...</td>\n",
       "      <td>negative</td>\n",
       "      <td>dirian ancestros cayendo trucos jefes mundo va...</td>\n",
       "    </tr>\n",
       "    <tr>\n",
       "      <th>1359</th>\n",
       "      <td>sinovac tambien es muy buena ha tenido mala pr...</td>\n",
       "      <td>positive</td>\n",
       "      <td>sinovac mala propaganda visto excelentes resul...</td>\n",
       "    </tr>\n",
       "    <tr>\n",
       "      <th>77</th>\n",
       "      <td>a todos los de astrazeneca les estan aplicando...</td>\n",
       "      <td>neutral</td>\n",
       "      <td>astrazeneca aplicando dosis mayores jfernandez...</td>\n",
       "    </tr>\n",
       "    <tr>\n",
       "      <th>746</th>\n",
       "      <td>se me perdio el carnet de vacunacion si le dig...</td>\n",
       "      <td>neutral</td>\n",
       "      <td>perdio carnet vacunacion digo enfermera dosis ...</td>\n",
       "    </tr>\n",
       "  </tbody>\n",
       "</table>\n",
       "<p>498 rows × 3 columns</p>\n",
       "</div>"
      ],
      "text/plain": [
       "                                                  Tweet Sentimiento  \\\n",
       "1265  pero este hombre tenia dosis de vacuna pfizer ...    negative   \n",
       "342   no me vacuno por nada del mundo un vecino sufr...    negative   \n",
       "381   en el centro comercial guacari aun estan coloc...    positive   \n",
       "511   si presentas sintomas despues de vacunarte con...     neutral   \n",
       "1205  alguien me explica pq uno no puede elegir que ...    negative   \n",
       "...                                                 ...         ...   \n",
       "1277  critico las medidas inefectivas contra el covi...    positive   \n",
       "792   que dirian nuestros ancestros cayendo en los t...    negative   \n",
       "1359  sinovac tambien es muy buena ha tenido mala pr...    positive   \n",
       "77    a todos los de astrazeneca les estan aplicando...     neutral   \n",
       "746   se me perdio el carnet de vacunacion si le dig...     neutral   \n",
       "\n",
       "                                           Tweet Limpio  \n",
       "1265             hombre tenia dosis vacuna pfizer murio  \n",
       "342   vacuno mundo vecino sufrio enfermedad cardiaca...  \n",
       "381   centro comercial guacari colocando pfizer dese...  \n",
       "511   presentas sintomas vacunarte pfizer acude medi...  \n",
       "1205  alguien explica elegir vacuna pone dosis pfize...  \n",
       "...                                                 ...  \n",
       "1277  critico medidas inefectivas covid vine aplicar...  \n",
       "792   dirian ancestros cayendo trucos jefes mundo va...  \n",
       "1359  sinovac mala propaganda visto excelentes resul...  \n",
       "77    astrazeneca aplicando dosis mayores jfernandez...  \n",
       "746   perdio carnet vacunacion digo enfermera dosis ...  \n",
       "\n",
       "[498 rows x 3 columns]"
      ]
     },
     "execution_count": 16,
     "metadata": {},
     "output_type": "execute_result"
    }
   ],
   "source": [
    "df_test30"
   ]
  },
  {
   "cell_type": "markdown",
   "id": "c4c271df",
   "metadata": {},
   "source": [
    "# Matriz TF-IDF"
   ]
  },
  {
   "cell_type": "code",
   "execution_count": 17,
   "id": "5d4c2c44",
   "metadata": {},
   "outputs": [],
   "source": [
    "# TF-IDF\n",
    "tf_idf_vectores = TfidfVectorizer(max_features = 5000)\n",
    "tf_idf_vectores.fit(dataset['Tweet'])\n",
    "\n",
    "\n",
    "# Guardar TF-IDF\n",
    "with open('../Modelos/tfidfVectores.pickle', 'wb') as archivo_tf_idf:\n",
    "    pickle.dump(tf_idf_vectores, archivo_tf_idf)\n",
    "    \n",
    "\n",
    "train_X_tfidf = tf_idf_vectores.transform(df_train70['Tweet Limpio'])\n",
    "test_X_tfidf = tf_idf_vectores.transform(df_test30['Tweet Limpio'])"
   ]
  },
  {
   "cell_type": "code",
   "execution_count": 18,
   "id": "4188a1f3",
   "metadata": {
    "code_folding": [],
    "scrolled": true
   },
   "outputs": [],
   "source": [
    "# Revision de las palabras dentro del vocabulario\n",
    "#print(tf_idf_vectores.vocabulary_)"
   ]
  },
  {
   "cell_type": "markdown",
   "id": "acbabc4a",
   "metadata": {},
   "source": [
    "# Modelos"
   ]
  },
  {
   "cell_type": "markdown",
   "id": "a34a874a",
   "metadata": {},
   "source": [
    "## Modelo SVM (Support Vector Machine) "
   ]
  },
  {
   "cell_type": "code",
   "execution_count": 19,
   "id": "683a1f6f",
   "metadata": {
    "scrolled": true
   },
   "outputs": [
    {
     "name": "stdout",
     "output_type": "stream",
     "text": [
      "Prediccion del modelo con SVM: 0.9931153184165232\n"
     ]
    }
   ],
   "source": [
    "# Entrenamiento del modelo SVM (SUPPORT VECTOR MACHINE)\n",
    "modeloSVM = SVC(C = 1.0, kernel = 'rbf')\n",
    "modeloSVM.fit(train_X_tfidf, train_Y)\n",
    "print('Prediccion del modelo con SVM: {}'.format(modeloSVM.score(train_X_tfidf, train_Y)))"
   ]
  },
  {
   "cell_type": "code",
   "execution_count": 20,
   "id": "c9a57b02",
   "metadata": {},
   "outputs": [],
   "source": [
    "# Testeo del modelo SVM (SUPPORT VECTOR MACHINE)\n",
    "prediccionModeloSVM = modeloSVM.predict(test_X_tfidf)\n",
    "testeo_predicciones_SVM = pd.DataFrame()\n",
    "testeo_predicciones_SVM['Tweet'] = test_X\n",
    "testeo_predicciones_SVM['Sentimiento'] = prediccionModeloSVM"
   ]
  },
  {
   "cell_type": "code",
   "execution_count": 21,
   "id": "f30830cc",
   "metadata": {
    "scrolled": false
   },
   "outputs": [
    {
     "data": {
      "text/html": [
       "<div>\n",
       "<style scoped>\n",
       "    .dataframe tbody tr th:only-of-type {\n",
       "        vertical-align: middle;\n",
       "    }\n",
       "\n",
       "    .dataframe tbody tr th {\n",
       "        vertical-align: top;\n",
       "    }\n",
       "\n",
       "    .dataframe thead th {\n",
       "        text-align: right;\n",
       "    }\n",
       "</style>\n",
       "<table border=\"1\" class=\"dataframe\">\n",
       "  <thead>\n",
       "    <tr style=\"text-align: right;\">\n",
       "      <th></th>\n",
       "      <th>Tweet</th>\n",
       "      <th>Sentimiento</th>\n",
       "    </tr>\n",
       "  </thead>\n",
       "  <tbody>\n",
       "    <tr>\n",
       "      <th>1265</th>\n",
       "      <td>pero este hombre tenia dosis de vacuna pfizer ...</td>\n",
       "      <td>negative</td>\n",
       "    </tr>\n",
       "    <tr>\n",
       "      <th>342</th>\n",
       "      <td>no me vacuno por nada del mundo un vecino sufr...</td>\n",
       "      <td>negative</td>\n",
       "    </tr>\n",
       "    <tr>\n",
       "      <th>381</th>\n",
       "      <td>en el centro comercial guacari aun estan coloc...</td>\n",
       "      <td>positive</td>\n",
       "    </tr>\n",
       "    <tr>\n",
       "      <th>511</th>\n",
       "      <td>si presentas sintomas despues de vacunarte con...</td>\n",
       "      <td>positive</td>\n",
       "    </tr>\n",
       "    <tr>\n",
       "      <th>1205</th>\n",
       "      <td>alguien me explica pq uno no puede elegir que ...</td>\n",
       "      <td>negative</td>\n",
       "    </tr>\n",
       "    <tr>\n",
       "      <th>...</th>\n",
       "      <td>...</td>\n",
       "      <td>...</td>\n",
       "    </tr>\n",
       "    <tr>\n",
       "      <th>1277</th>\n",
       "      <td>critico las medidas inefectivas contra el covi...</td>\n",
       "      <td>negative</td>\n",
       "    </tr>\n",
       "    <tr>\n",
       "      <th>792</th>\n",
       "      <td>que dirian nuestros ancestros cayendo en los t...</td>\n",
       "      <td>negative</td>\n",
       "    </tr>\n",
       "    <tr>\n",
       "      <th>1359</th>\n",
       "      <td>sinovac tambien es muy buena ha tenido mala pr...</td>\n",
       "      <td>negative</td>\n",
       "    </tr>\n",
       "    <tr>\n",
       "      <th>77</th>\n",
       "      <td>a todos los de astrazeneca les estan aplicando...</td>\n",
       "      <td>negative</td>\n",
       "    </tr>\n",
       "    <tr>\n",
       "      <th>746</th>\n",
       "      <td>se me perdio el carnet de vacunacion si le dig...</td>\n",
       "      <td>positive</td>\n",
       "    </tr>\n",
       "  </tbody>\n",
       "</table>\n",
       "<p>498 rows × 2 columns</p>\n",
       "</div>"
      ],
      "text/plain": [
       "                                                  Tweet Sentimiento\n",
       "1265  pero este hombre tenia dosis de vacuna pfizer ...    negative\n",
       "342   no me vacuno por nada del mundo un vecino sufr...    negative\n",
       "381   en el centro comercial guacari aun estan coloc...    positive\n",
       "511   si presentas sintomas despues de vacunarte con...    positive\n",
       "1205  alguien me explica pq uno no puede elegir que ...    negative\n",
       "...                                                 ...         ...\n",
       "1277  critico las medidas inefectivas contra el covi...    negative\n",
       "792   que dirian nuestros ancestros cayendo en los t...    negative\n",
       "1359  sinovac tambien es muy buena ha tenido mala pr...    negative\n",
       "77    a todos los de astrazeneca les estan aplicando...    negative\n",
       "746   se me perdio el carnet de vacunacion si le dig...    positive\n",
       "\n",
       "[498 rows x 2 columns]"
      ]
     },
     "execution_count": 21,
     "metadata": {},
     "output_type": "execute_result"
    }
   ],
   "source": [
    "testeo_predicciones_SVM"
   ]
  },
  {
   "cell_type": "markdown",
   "id": "6639ec6e",
   "metadata": {},
   "source": [
    "### Cantidad de sentimientos por categoria en la prediccion por SVM"
   ]
  },
  {
   "cell_type": "code",
   "execution_count": 22,
   "id": "2a1ab78f",
   "metadata": {},
   "outputs": [
    {
     "data": {
      "text/plain": [
       "<AxesSubplot:xlabel='Sentimiento', ylabel='Tweet'>"
      ]
     },
     "execution_count": 22,
     "metadata": {},
     "output_type": "execute_result"
    },
    {
     "data": {
      "image/png": "[encoded data removed]",
      "text/plain": [
       "<Figure size 432x288 with 1 Axes>"
      ]
     },
     "metadata": {},
     "output_type": "display_data"
    }
   ],
   "source": [
    "grafico_sentimientos_datasetPredicc_SVM = testeo_predicciones_SVM.groupby('Sentimiento').count()\n",
    "sns.barplot(data = grafico_sentimientos_datasetPredicc_SVM, x = grafico_sentimientos_datasetInicial.index, y = 'Tweet')"
   ]
  },
  {
   "cell_type": "code",
   "execution_count": 23,
   "id": "f75e1a5d",
   "metadata": {
    "scrolled": true
   },
   "outputs": [],
   "source": [
    "testeo_predicciones_SVM.to_csv(r'../Datasets/TesteoSVM.csv')"
   ]
  },
  {
   "cell_type": "markdown",
   "id": "e295efda",
   "metadata": {},
   "source": [
    "### Reporte metricas para el modelo SVM"
   ]
  },
  {
   "cell_type": "code",
   "execution_count": 24,
   "id": "d38d91cb",
   "metadata": {},
   "outputs": [
    {
     "name": "stdout",
     "output_type": "stream",
     "text": [
      "Reporte de clasificación:\n",
      "              precision    recall  f1-score   support\n",
      "\n",
      "    negative       0.89      0.51      0.65       371\n",
      "     neutral       0.17      0.74      0.27        27\n",
      "    positive       0.36      0.59      0.45       100\n",
      "\n",
      "    accuracy                           0.54       498\n",
      "   macro avg       0.47      0.62      0.46       498\n",
      "weighted avg       0.75      0.54      0.59       498\n",
      "\n"
     ]
    }
   ],
   "source": [
    "# Reporte de metricas (F1-SCORE, RECALL, PRECISION, ACCURACY) en el modelo SVM\n",
    "print('Reporte de clasificación:')\n",
    "print(classification_report(prediccionModeloSVM, test_Y))"
   ]
  },
  {
   "cell_type": "markdown",
   "id": "92e34393",
   "metadata": {},
   "source": [
    "## Modelo Random Forest"
   ]
  },
  {
   "cell_type": "code",
   "execution_count": 25,
   "id": "8c46fee9",
   "metadata": {},
   "outputs": [
    {
     "data": {
      "text/plain": [
       "GridSearchCV(cv=2, estimator=RandomForestClassifier(), n_jobs=1,\n",
       "             param_grid={'bootstrap': [True], 'criterion': ['gini', 'entropy'],\n",
       "                         'max_features': ['auto', 'sqrt', 'log2'],\n",
       "                         'n_estimators': [100]})"
      ]
     },
     "execution_count": 25,
     "metadata": {},
     "output_type": "execute_result"
    }
   ],
   "source": [
    "# Aplicando la validacion cruzada\n",
    "modelo_randomForest = RandomForestClassifier()\n",
    "\n",
    "parametrosImportantes = {\n",
    "   'bootstrap' : [True],\n",
    "    'criterion' : ['gini', 'entropy'],\n",
    "    'max_features' : ['auto', 'sqrt', 'log2'],\n",
    "    'n_estimators': [100] \n",
    "}\n",
    "\n",
    "gridsearch = GridSearchCV(estimator = modelo_randomForest, param_grid = parametrosImportantes, cv = 2, n_jobs = 1)\n",
    "gridsearch.fit(train_X_tfidf, train_Y)"
   ]
  },
  {
   "cell_type": "code",
   "execution_count": 26,
   "id": "4a5089e4",
   "metadata": {},
   "outputs": [
    {
     "name": "stdout",
     "output_type": "stream",
     "text": [
      "Prediccion del modelo con Random Forest: 0.9982788296041308\n"
     ]
    }
   ],
   "source": [
    "# Entrenamiento del modelo Random Forest\n",
    "modelo_randomForest = RandomForestClassifier(bootstrap = True, criterion = 'entropy', max_features = 'log2', n_estimators = 100)\n",
    "modelo_randomForest.fit(train_X_tfidf, train_Y)\n",
    "print('Prediccion del modelo con Random Forest: {}'.format(modelo_randomForest.score(train_X_tfidf, train_Y)))\n",
    "\n",
    "# Guardar Modelo Entrenado\n",
    "with open('../Modelos/modelo_randomForest.pickle', 'wb') as archivo_RF:\n",
    "    pickle.dump(modelo_randomForest, archivo_RF)"
   ]
  },
  {
   "cell_type": "code",
   "execution_count": 27,
   "id": "dae7f47c",
   "metadata": {},
   "outputs": [],
   "source": [
    "# Testeo del modelo con Random Forest\n",
    "prediccionModeloRandomForest = modelo_randomForest.predict(test_X_tfidf)\n",
    "testeo_predicciones_RandomForest = pd.DataFrame()\n",
    "testeo_predicciones_RandomForest['Tweet'] = test_X\n",
    "testeo_predicciones_RandomForest['Sentimiento'] = prediccionModeloRandomForest"
   ]
  },
  {
   "cell_type": "code",
   "execution_count": 28,
   "id": "99b34ca4",
   "metadata": {},
   "outputs": [
    {
     "data": {
      "text/html": [
       "<div>\n",
       "<style scoped>\n",
       "    .dataframe tbody tr th:only-of-type {\n",
       "        vertical-align: middle;\n",
       "    }\n",
       "\n",
       "    .dataframe tbody tr th {\n",
       "        vertical-align: top;\n",
       "    }\n",
       "\n",
       "    .dataframe thead th {\n",
       "        text-align: right;\n",
       "    }\n",
       "</style>\n",
       "<table border=\"1\" class=\"dataframe\">\n",
       "  <thead>\n",
       "    <tr style=\"text-align: right;\">\n",
       "      <th></th>\n",
       "      <th>Tweet</th>\n",
       "      <th>Sentimiento</th>\n",
       "    </tr>\n",
       "  </thead>\n",
       "  <tbody>\n",
       "    <tr>\n",
       "      <th>1265</th>\n",
       "      <td>pero este hombre tenia dosis de vacuna pfizer ...</td>\n",
       "      <td>negative</td>\n",
       "    </tr>\n",
       "    <tr>\n",
       "      <th>342</th>\n",
       "      <td>no me vacuno por nada del mundo un vecino sufr...</td>\n",
       "      <td>negative</td>\n",
       "    </tr>\n",
       "    <tr>\n",
       "      <th>381</th>\n",
       "      <td>en el centro comercial guacari aun estan coloc...</td>\n",
       "      <td>positive</td>\n",
       "    </tr>\n",
       "    <tr>\n",
       "      <th>511</th>\n",
       "      <td>si presentas sintomas despues de vacunarte con...</td>\n",
       "      <td>positive</td>\n",
       "    </tr>\n",
       "    <tr>\n",
       "      <th>1205</th>\n",
       "      <td>alguien me explica pq uno no puede elegir que ...</td>\n",
       "      <td>positive</td>\n",
       "    </tr>\n",
       "    <tr>\n",
       "      <th>...</th>\n",
       "      <td>...</td>\n",
       "      <td>...</td>\n",
       "    </tr>\n",
       "    <tr>\n",
       "      <th>1277</th>\n",
       "      <td>critico las medidas inefectivas contra el covi...</td>\n",
       "      <td>positive</td>\n",
       "    </tr>\n",
       "    <tr>\n",
       "      <th>792</th>\n",
       "      <td>que dirian nuestros ancestros cayendo en los t...</td>\n",
       "      <td>negative</td>\n",
       "    </tr>\n",
       "    <tr>\n",
       "      <th>1359</th>\n",
       "      <td>sinovac tambien es muy buena ha tenido mala pr...</td>\n",
       "      <td>negative</td>\n",
       "    </tr>\n",
       "    <tr>\n",
       "      <th>77</th>\n",
       "      <td>a todos los de astrazeneca les estan aplicando...</td>\n",
       "      <td>negative</td>\n",
       "    </tr>\n",
       "    <tr>\n",
       "      <th>746</th>\n",
       "      <td>se me perdio el carnet de vacunacion si le dig...</td>\n",
       "      <td>positive</td>\n",
       "    </tr>\n",
       "  </tbody>\n",
       "</table>\n",
       "<p>498 rows × 2 columns</p>\n",
       "</div>"
      ],
      "text/plain": [
       "                                                  Tweet Sentimiento\n",
       "1265  pero este hombre tenia dosis de vacuna pfizer ...    negative\n",
       "342   no me vacuno por nada del mundo un vecino sufr...    negative\n",
       "381   en el centro comercial guacari aun estan coloc...    positive\n",
       "511   si presentas sintomas despues de vacunarte con...    positive\n",
       "1205  alguien me explica pq uno no puede elegir que ...    positive\n",
       "...                                                 ...         ...\n",
       "1277  critico las medidas inefectivas contra el covi...    positive\n",
       "792   que dirian nuestros ancestros cayendo en los t...    negative\n",
       "1359  sinovac tambien es muy buena ha tenido mala pr...    negative\n",
       "77    a todos los de astrazeneca les estan aplicando...    negative\n",
       "746   se me perdio el carnet de vacunacion si le dig...    positive\n",
       "\n",
       "[498 rows x 2 columns]"
      ]
     },
     "execution_count": 28,
     "metadata": {},
     "output_type": "execute_result"
    }
   ],
   "source": [
    "testeo_predicciones_RandomForest"
   ]
  },
  {
   "cell_type": "markdown",
   "id": "251958ef",
   "metadata": {},
   "source": [
    "### Cantidad de sentimientos por categoria en la prediccion por Random Forest"
   ]
  },
  {
   "cell_type": "code",
   "execution_count": 29,
   "id": "a9f8c494",
   "metadata": {},
   "outputs": [
    {
     "data": {
      "text/plain": [
       "<AxesSubplot:xlabel='Sentimiento', ylabel='Tweet'>"
      ]
     },
     "execution_count": 29,
     "metadata": {},
     "output_type": "execute_result"
    },
    {
     "data": {
      "image/png": "[encoded data removed]",
      "text/plain": [
       "<Figure size 432x288 with 1 Axes>"
      ]
     },
     "metadata": {},
     "output_type": "display_data"
    }
   ],
   "source": [
    "grafico_sentimientos_datasetPredicc_RF = testeo_predicciones_RandomForest.groupby('Sentimiento').count()\n",
    "sns.barplot(data = grafico_sentimientos_datasetPredicc_RF, x = grafico_sentimientos_datasetInicial.index, y = 'Tweet')"
   ]
  },
  {
   "cell_type": "code",
   "execution_count": 30,
   "id": "378f9f98",
   "metadata": {},
   "outputs": [],
   "source": [
    "testeo_predicciones_RandomForest.to_csv(r'../Datasets/TesteoRandomForest.csv')"
   ]
  },
  {
   "cell_type": "markdown",
   "id": "a6354a4c",
   "metadata": {},
   "source": [
    "### Reporte metricas para el modelo con Random Forest"
   ]
  },
  {
   "cell_type": "code",
   "execution_count": 31,
   "id": "39ea9604",
   "metadata": {
    "scrolled": true
   },
   "outputs": [
    {
     "name": "stdout",
     "output_type": "stream",
     "text": [
      "Reporte de clasificación:\n",
      "              precision    recall  f1-score   support\n",
      "\n",
      "    negative       0.84      0.55      0.66       325\n",
      "     neutral       0.23      0.63      0.33        43\n",
      "    positive       0.45      0.57      0.50       130\n",
      "\n",
      "    accuracy                           0.56       498\n",
      "   macro avg       0.50      0.58      0.50       498\n",
      "weighted avg       0.68      0.56      0.59       498\n",
      "\n"
     ]
    }
   ],
   "source": [
    "# Reporte de metricas (F1-SCORE, RECALL, PRECISION, ACCURACY) en el modelo SVM\n",
    "print('Reporte de clasificación:')\n",
    "print(classification_report(prediccionModeloRandomForest, test_Y))"
   ]
  },
  {
   "cell_type": "markdown",
   "id": "3eff5bd9",
   "metadata": {},
   "source": [
    "# Predicción de nuevos Tweets"
   ]
  },
  {
   "cell_type": "code",
   "execution_count": 32,
   "id": "2bf75917",
   "metadata": {},
   "outputs": [
    {
     "data": {
      "text/html": [
       "<div>\n",
       "<style scoped>\n",
       "    .dataframe tbody tr th:only-of-type {\n",
       "        vertical-align: middle;\n",
       "    }\n",
       "\n",
       "    .dataframe tbody tr th {\n",
       "        vertical-align: top;\n",
       "    }\n",
       "\n",
       "    .dataframe thead th {\n",
       "        text-align: right;\n",
       "    }\n",
       "</style>\n",
       "<table border=\"1\" class=\"dataframe\">\n",
       "  <thead>\n",
       "    <tr style=\"text-align: right;\">\n",
       "      <th></th>\n",
       "      <th>Tweet</th>\n",
       "      <th>Sentimiento</th>\n",
       "    </tr>\n",
       "  </thead>\n",
       "  <tbody>\n",
       "    <tr>\n",
       "      <th>0</th>\n",
       "      <td>colombia recibio dosis de astrazeneca1234 dona...</td>\n",
       "      <td>neutral</td>\n",
       "    </tr>\n",
       "    <tr>\n",
       "      <th>1</th>\n",
       "      <td>a proposito del año pnv terminamos con cero pe...</td>\n",
       "      <td>positive</td>\n",
       "    </tr>\n",
       "    <tr>\n",
       "      <th>2</th>\n",
       "      <td>queremos agradecer al gobierno canadiense y su...</td>\n",
       "      <td>neutral</td>\n",
       "    </tr>\n",
       "    <tr>\n",
       "      <th>3</th>\n",
       "      <td>aestahora colombia recibe dosis de vacunas de ...</td>\n",
       "      <td>neutral</td>\n",
       "    </tr>\n",
       "    <tr>\n",
       "      <th>4</th>\n",
       "      <td>hablando de por que las vacunas no se deben us...</td>\n",
       "      <td>negative</td>\n",
       "    </tr>\n",
       "    <tr>\n",
       "      <th>...</th>\n",
       "      <td>...</td>\n",
       "      <td>...</td>\n",
       "    </tr>\n",
       "    <tr>\n",
       "      <th>1995</th>\n",
       "      <td>donde estan vacunando con la pfizer no quiero ...</td>\n",
       "      <td>NaN</td>\n",
       "    </tr>\n",
       "    <tr>\n",
       "      <th>1996</th>\n",
       "      <td>mala idea ponerme la pfizer hoy parce me estoy...</td>\n",
       "      <td>NaN</td>\n",
       "    </tr>\n",
       "    <tr>\n",
       "      <th>1997</th>\n",
       "      <td>aqui re arrepentida de ponerme pfizer</td>\n",
       "      <td>NaN</td>\n",
       "    </tr>\n",
       "    <tr>\n",
       "      <th>1998</th>\n",
       "      <td>duda solo tengo vacuna en febrero de aztra pue...</td>\n",
       "      <td>NaN</td>\n",
       "    </tr>\n",
       "    <tr>\n",
       "      <th>1999</th>\n",
       "      <td>con años puedo ponerme la da dosis pfizer o no</td>\n",
       "      <td>NaN</td>\n",
       "    </tr>\n",
       "  </tbody>\n",
       "</table>\n",
       "<p>2000 rows × 2 columns</p>\n",
       "</div>"
      ],
      "text/plain": [
       "                                                  Tweet Sentimiento\n",
       "0     colombia recibio dosis de astrazeneca1234 dona...     neutral\n",
       "1     a proposito del año pnv terminamos con cero pe...    positive\n",
       "2     queremos agradecer al gobierno canadiense y su...     neutral\n",
       "3     aestahora colombia recibe dosis de vacunas de ...     neutral\n",
       "4     hablando de por que las vacunas no se deben us...    negative\n",
       "...                                                 ...         ...\n",
       "1995  donde estan vacunando con la pfizer no quiero ...         NaN\n",
       "1996  mala idea ponerme la pfizer hoy parce me estoy...         NaN\n",
       "1997              aqui re arrepentida de ponerme pfizer         NaN\n",
       "1998  duda solo tengo vacuna en febrero de aztra pue...         NaN\n",
       "1999     con años puedo ponerme la da dosis pfizer o no         NaN\n",
       "\n",
       "[2000 rows x 2 columns]"
      ]
     },
     "execution_count": 32,
     "metadata": {},
     "output_type": "execute_result"
    }
   ],
   "source": [
    "tweets = pd.read_csv(r'../Datasets/Total_Tweets.csv')\n",
    "tweets"
   ]
  },
  {
   "cell_type": "code",
   "execution_count": 33,
   "id": "2583e312",
   "metadata": {},
   "outputs": [
    {
     "data": {
      "text/html": [
       "<div>\n",
       "<style scoped>\n",
       "    .dataframe tbody tr th:only-of-type {\n",
       "        vertical-align: middle;\n",
       "    }\n",
       "\n",
       "    .dataframe tbody tr th {\n",
       "        vertical-align: top;\n",
       "    }\n",
       "\n",
       "    .dataframe thead th {\n",
       "        text-align: right;\n",
       "    }\n",
       "</style>\n",
       "<table border=\"1\" class=\"dataframe\">\n",
       "  <thead>\n",
       "    <tr style=\"text-align: right;\">\n",
       "      <th></th>\n",
       "      <th>Tweet</th>\n",
       "      <th>Sentimiento</th>\n",
       "      <th>Tweet Limpio</th>\n",
       "    </tr>\n",
       "  </thead>\n",
       "  <tbody>\n",
       "    <tr>\n",
       "      <th>0</th>\n",
       "      <td>colombia recibio dosis de astrazeneca1234 dona...</td>\n",
       "      <td>neutral</td>\n",
       "      <td>colombia recibio dosis astrazeneca donadas gob...</td>\n",
       "    </tr>\n",
       "    <tr>\n",
       "      <th>1</th>\n",
       "      <td>a proposito del año pnv terminamos con cero pe...</td>\n",
       "      <td>positive</td>\n",
       "      <td>proposito año pnv terminamos cero perdidas vac...</td>\n",
       "    </tr>\n",
       "    <tr>\n",
       "      <th>2</th>\n",
       "      <td>queremos agradecer al gobierno canadiense y su...</td>\n",
       "      <td>neutral</td>\n",
       "      <td>agradecer gobierno canadiense justintrudeau la...</td>\n",
       "    </tr>\n",
       "    <tr>\n",
       "      <th>3</th>\n",
       "      <td>aestahora colombia recibe dosis de vacunas de ...</td>\n",
       "      <td>neutral</td>\n",
       "      <td>aestahora colombia recibe dosis vacunas astraz...</td>\n",
       "    </tr>\n",
       "    <tr>\n",
       "      <th>4</th>\n",
       "      <td>hablando de por que las vacunas no se deben us...</td>\n",
       "      <td>negative</td>\n",
       "      <td>hablando vacunas alguien invimacolombia permit...</td>\n",
       "    </tr>\n",
       "    <tr>\n",
       "      <th>...</th>\n",
       "      <td>...</td>\n",
       "      <td>...</td>\n",
       "      <td>...</td>\n",
       "    </tr>\n",
       "    <tr>\n",
       "      <th>1995</th>\n",
       "      <td>donde estan vacunando con la pfizer no quiero ...</td>\n",
       "      <td>NaN</td>\n",
       "      <td>vacunando pfizer quiero ponerme moderna</td>\n",
       "    </tr>\n",
       "    <tr>\n",
       "      <th>1996</th>\n",
       "      <td>mala idea ponerme la pfizer hoy parce me estoy...</td>\n",
       "      <td>NaN</td>\n",
       "      <td>mala idea ponerme pfizer parce muriendo mesa</td>\n",
       "    </tr>\n",
       "    <tr>\n",
       "      <th>1997</th>\n",
       "      <td>aqui re arrepentida de ponerme pfizer</td>\n",
       "      <td>NaN</td>\n",
       "      <td>arrepentida ponerme pfizer</td>\n",
       "    </tr>\n",
       "    <tr>\n",
       "      <th>1998</th>\n",
       "      <td>duda solo tengo vacuna en febrero de aztra pue...</td>\n",
       "      <td>NaN</td>\n",
       "      <td>duda vacuna febrero aztra ponerme pfizer debo ...</td>\n",
       "    </tr>\n",
       "    <tr>\n",
       "      <th>1999</th>\n",
       "      <td>con años puedo ponerme la da dosis pfizer o no</td>\n",
       "      <td>NaN</td>\n",
       "      <td>años ponerme dosis pfizer</td>\n",
       "    </tr>\n",
       "  </tbody>\n",
       "</table>\n",
       "<p>2000 rows × 3 columns</p>\n",
       "</div>"
      ],
      "text/plain": [
       "                                                  Tweet Sentimiento  \\\n",
       "0     colombia recibio dosis de astrazeneca1234 dona...     neutral   \n",
       "1     a proposito del año pnv terminamos con cero pe...    positive   \n",
       "2     queremos agradecer al gobierno canadiense y su...     neutral   \n",
       "3     aestahora colombia recibe dosis de vacunas de ...     neutral   \n",
       "4     hablando de por que las vacunas no se deben us...    negative   \n",
       "...                                                 ...         ...   \n",
       "1995  donde estan vacunando con la pfizer no quiero ...         NaN   \n",
       "1996  mala idea ponerme la pfizer hoy parce me estoy...         NaN   \n",
       "1997              aqui re arrepentida de ponerme pfizer         NaN   \n",
       "1998  duda solo tengo vacuna en febrero de aztra pue...         NaN   \n",
       "1999     con años puedo ponerme la da dosis pfizer o no         NaN   \n",
       "\n",
       "                                           Tweet Limpio  \n",
       "0     colombia recibio dosis astrazeneca donadas gob...  \n",
       "1     proposito año pnv terminamos cero perdidas vac...  \n",
       "2     agradecer gobierno canadiense justintrudeau la...  \n",
       "3     aestahora colombia recibe dosis vacunas astraz...  \n",
       "4     hablando vacunas alguien invimacolombia permit...  \n",
       "...                                                 ...  \n",
       "1995            vacunando pfizer quiero ponerme moderna  \n",
       "1996       mala idea ponerme pfizer parce muriendo mesa  \n",
       "1997                         arrepentida ponerme pfizer  \n",
       "1998  duda vacuna febrero aztra ponerme pfizer debo ...  \n",
       "1999                          años ponerme dosis pfizer  \n",
       "\n",
       "[2000 rows x 3 columns]"
      ]
     },
     "execution_count": 33,
     "metadata": {},
     "output_type": "execute_result"
    }
   ],
   "source": [
    "# Funcion para aplicar limpieza en los nuevos tweets\n",
    "def limpiezaNuevosTweets(dataframe):\n",
    "    \n",
    "    tweets = dataframe\n",
    "    \n",
    "    dataframe['Tweet Limpio'] = dataframe['Tweet'].str.lower()\n",
    "    dataframe['Tweet Limpio'] = dataframe['Tweet Limpio'].apply(limpiezaTweets)\n",
    "    dataframe['Tweet Limpio'] = dataframe['Tweet Limpio'].apply(removerStopWords)\n",
    "    dataframe['Tweet Limpio'] = dataframe['Tweet Limpio'].apply(removerTildes)\n",
    "    \n",
    "    return tweets\n",
    "\n",
    "tweets = limpiezaNuevosTweets(tweets)\n",
    "tweets"
   ]
  },
  {
   "cell_type": "markdown",
   "id": "61be7468",
   "metadata": {},
   "source": [
    "## Se aplica el modelo seleccionado para la prediccion de los nuevos Tweets"
   ]
  },
  {
   "cell_type": "code",
   "execution_count": 34,
   "id": "3b748c3d",
   "metadata": {},
   "outputs": [],
   "source": [
    "# Se aplica la matriz tf-idf a los nuevos tweets para la prediccion\n",
    "tweets_X_tfidf = tf_idf_vectores.transform(tweets['Tweet'])\n",
    "\n",
    "prediccionNuevosTweetsModeloRandomForest = modelo_randomForest.predict(tweets_X_tfidf)\n",
    "tweets_predicciones_RandomForest = pd.DataFrame()\n",
    "tweets_predicciones_RandomForest['Tweet'] = tweets['Tweet']\n",
    "tweets_predicciones_RandomForest['Sentimiento'] = prediccionNuevosTweetsModeloRandomForest"
   ]
  },
  {
   "cell_type": "code",
   "execution_count": 35,
   "id": "de703356",
   "metadata": {},
   "outputs": [
    {
     "data": {
      "text/html": [
       "<div>\n",
       "<style scoped>\n",
       "    .dataframe tbody tr th:only-of-type {\n",
       "        vertical-align: middle;\n",
       "    }\n",
       "\n",
       "    .dataframe tbody tr th {\n",
       "        vertical-align: top;\n",
       "    }\n",
       "\n",
       "    .dataframe thead th {\n",
       "        text-align: right;\n",
       "    }\n",
       "</style>\n",
       "<table border=\"1\" class=\"dataframe\">\n",
       "  <thead>\n",
       "    <tr style=\"text-align: right;\">\n",
       "      <th></th>\n",
       "      <th>Tweet</th>\n",
       "      <th>Sentimiento</th>\n",
       "    </tr>\n",
       "  </thead>\n",
       "  <tbody>\n",
       "    <tr>\n",
       "      <th>0</th>\n",
       "      <td>colombia recibio dosis de astrazeneca1234 dona...</td>\n",
       "      <td>neutral</td>\n",
       "    </tr>\n",
       "    <tr>\n",
       "      <th>1</th>\n",
       "      <td>a proposito del año pnv terminamos con cero pe...</td>\n",
       "      <td>positive</td>\n",
       "    </tr>\n",
       "    <tr>\n",
       "      <th>2</th>\n",
       "      <td>queremos agradecer al gobierno canadiense y su...</td>\n",
       "      <td>neutral</td>\n",
       "    </tr>\n",
       "    <tr>\n",
       "      <th>3</th>\n",
       "      <td>aestahora colombia recibe dosis de vacunas de ...</td>\n",
       "      <td>neutral</td>\n",
       "    </tr>\n",
       "    <tr>\n",
       "      <th>4</th>\n",
       "      <td>hablando de por que las vacunas no se deben us...</td>\n",
       "      <td>negative</td>\n",
       "    </tr>\n",
       "    <tr>\n",
       "      <th>...</th>\n",
       "      <td>...</td>\n",
       "      <td>...</td>\n",
       "    </tr>\n",
       "    <tr>\n",
       "      <th>1995</th>\n",
       "      <td>donde estan vacunando con la pfizer no quiero ...</td>\n",
       "      <td>negative</td>\n",
       "    </tr>\n",
       "    <tr>\n",
       "      <th>1996</th>\n",
       "      <td>mala idea ponerme la pfizer hoy parce me estoy...</td>\n",
       "      <td>negative</td>\n",
       "    </tr>\n",
       "    <tr>\n",
       "      <th>1997</th>\n",
       "      <td>aqui re arrepentida de ponerme pfizer</td>\n",
       "      <td>negative</td>\n",
       "    </tr>\n",
       "    <tr>\n",
       "      <th>1998</th>\n",
       "      <td>duda solo tengo vacuna en febrero de aztra pue...</td>\n",
       "      <td>negative</td>\n",
       "    </tr>\n",
       "    <tr>\n",
       "      <th>1999</th>\n",
       "      <td>con años puedo ponerme la da dosis pfizer o no</td>\n",
       "      <td>negative</td>\n",
       "    </tr>\n",
       "  </tbody>\n",
       "</table>\n",
       "<p>2000 rows × 2 columns</p>\n",
       "</div>"
      ],
      "text/plain": [
       "                                                  Tweet Sentimiento\n",
       "0     colombia recibio dosis de astrazeneca1234 dona...     neutral\n",
       "1     a proposito del año pnv terminamos con cero pe...    positive\n",
       "2     queremos agradecer al gobierno canadiense y su...     neutral\n",
       "3     aestahora colombia recibe dosis de vacunas de ...     neutral\n",
       "4     hablando de por que las vacunas no se deben us...    negative\n",
       "...                                                 ...         ...\n",
       "1995  donde estan vacunando con la pfizer no quiero ...    negative\n",
       "1996  mala idea ponerme la pfizer hoy parce me estoy...    negative\n",
       "1997              aqui re arrepentida de ponerme pfizer    negative\n",
       "1998  duda solo tengo vacuna en febrero de aztra pue...    negative\n",
       "1999     con años puedo ponerme la da dosis pfizer o no    negative\n",
       "\n",
       "[2000 rows x 2 columns]"
      ]
     },
     "execution_count": 35,
     "metadata": {},
     "output_type": "execute_result"
    }
   ],
   "source": [
    "tweets_predicciones_RandomForest"
   ]
  },
  {
   "cell_type": "code",
   "execution_count": 36,
   "id": "86548827",
   "metadata": {},
   "outputs": [],
   "source": [
    "tweets_predicciones_RandomForest.to_csv(r'../Datasets/Tweets_Prediccion_RandomForest.csv')"
   ]
  },
  {
   "cell_type": "code",
   "execution_count": 37,
   "id": "97283a2c",
   "metadata": {
    "scrolled": true
   },
   "outputs": [
    {
     "data": {
      "text/plain": [
       "<AxesSubplot:xlabel='Sentimiento', ylabel='Tweet'>"
      ]
     },
     "execution_count": 37,
     "metadata": {},
     "output_type": "execute_result"
    },
    {
     "data": {
      "image/png": "[encoded data removed]",
      "text/plain": [
       "<Figure size 432x288 with 1 Axes>"
      ]
     },
     "metadata": {},
     "output_type": "display_data"
    }
   ],
   "source": [
    "grafico_sentimientos_datasetPredicc_RF_NUEVO = tweets_predicciones_RandomForest.groupby('Sentimiento').count()\n",
    "sns.barplot(data = grafico_sentimientos_datasetPredicc_RF_NUEVO, x = grafico_sentimientos_datasetInicial.index, y = 'Tweet')"
   ]
  }
 ],
 "metadata": {
  "kernelspec": {
   "display_name": "Python 3 (ipykernel)",
   "language": "python",
   "name": "python3"
  },
  "language_info": {
   "codemirror_mode": {
    "name": "ipython",
    "version": 3
   },
   "file_extension": ".py",
   "mimetype": "text/x-python",
   "name": "python",
   "nbconvert_exporter": "python",
   "pygments_lexer": "ipython3",
   "version": "3.9.12"
  },
  "nbTranslate": {
   "displayLangs": [
    "*"
   ],
   "hotkey": "alt-t",
   "langInMainMenu": true,
   "sourceLang": "en",
   "targetLang": "fr",
   "useGoogleTranslate": true
  },
  "toc": {
   "base_numbering": 1,
   "nav_menu": {},
   "number_sections": true,
   "sideBar": true,
   "skip_h1_title": false,
   "title_cell": "Table of Contents",
   "title_sidebar": "Contents",
   "toc_cell": false,
   "toc_position": {},
   "toc_section_display": true,
   "toc_window_display": false
  },
  "varInspector": {
   "cols": {
    "lenName": 16,
    "lenType": 16,
    "lenVar": 40
   },
   "kernels_config": {
    "python": {
     "delete_cmd_postfix": "",
     "delete_cmd_prefix": "del ",
     "library": "var_list.py",
     "varRefreshCmd": "print(var_dic_list())"
    },
    "r": {
     "delete_cmd_postfix": ") ",
     "delete_cmd_prefix": "rm(",
     "library": "var_list.r",
     "varRefreshCmd": "cat(var_dic_list()) "
    }
   },
   "types_to_exclude": [
    "module",
    "function",
    "builtin_function_or_method",
    "instance",
    "_Feature"
   ],
   "window_display": false
  },
  "vscode": {
   "interpreter": {
    "hash": "369f2c481f4da34e4445cda3fffd2e751bd1c4d706f27375911949ba6bb62e1c"
   }
  }
 },
 "nbformat": 4,
 "nbformat_minor": 5
}
